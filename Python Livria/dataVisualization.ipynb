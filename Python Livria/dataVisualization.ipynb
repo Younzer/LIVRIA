{
 "cells": [
  {
   "cell_type": "code",
   "execution_count": 435,
   "metadata": {},
   "outputs": [],
   "source": [
    "# On importe les librairie nécessaires à l'analyse statistique de nos données sur les thèmes.\n",
    "\n",
    "import pandas as pd\n",
    "import numpy as np \n",
    "from scipy import stats\n",
    "from matplotlib import pyplot as plt"
   ]
  },
  {
   "cell_type": "code",
   "execution_count": 436,
   "metadata": {},
   "outputs": [
    {
     "data": {
      "text/html": [
       "<div>\n",
       "<style scoped>\n",
       "    .dataframe tbody tr th:only-of-type {\n",
       "        vertical-align: middle;\n",
       "    }\n",
       "\n",
       "    .dataframe tbody tr th {\n",
       "        vertical-align: top;\n",
       "    }\n",
       "\n",
       "    .dataframe thead th {\n",
       "        text-align: right;\n",
       "    }\n",
       "</style>\n",
       "<table border=\"1\" class=\"dataframe\">\n",
       "  <thead>\n",
       "    <tr style=\"text-align: right;\">\n",
       "      <th></th>\n",
       "      <th>RomanFiction</th>\n",
       "      <th>BdComics</th>\n",
       "      <th>ArtsCulture</th>\n",
       "      <th>DocMedia</th>\n",
       "      <th>Erotisme</th>\n",
       "      <th>Esoterisme</th>\n",
       "      <th>SanteBE</th>\n",
       "      <th>HistGeo</th>\n",
       "      <th>Jeunesse</th>\n",
       "      <th>LittEtrangere</th>\n",
       "      <th>ScienceTechnique</th>\n",
       "      <th>LoisirVie</th>\n",
       "      <th>SHS</th>\n",
       "      <th>Philosophie</th>\n",
       "    </tr>\n",
       "  </thead>\n",
       "  <tbody>\n",
       "    <tr>\n",
       "      <th>0</th>\n",
       "      <td>1</td>\n",
       "      <td>1</td>\n",
       "      <td>0</td>\n",
       "      <td>0</td>\n",
       "      <td>0</td>\n",
       "      <td>0</td>\n",
       "      <td>0</td>\n",
       "      <td>0</td>\n",
       "      <td>0</td>\n",
       "      <td>0</td>\n",
       "      <td>0</td>\n",
       "      <td>0</td>\n",
       "      <td>0</td>\n",
       "      <td>0</td>\n",
       "    </tr>\n",
       "    <tr>\n",
       "      <th>1</th>\n",
       "      <td>1</td>\n",
       "      <td>0</td>\n",
       "      <td>0</td>\n",
       "      <td>0</td>\n",
       "      <td>0</td>\n",
       "      <td>0</td>\n",
       "      <td>0</td>\n",
       "      <td>0</td>\n",
       "      <td>0</td>\n",
       "      <td>1</td>\n",
       "      <td>0</td>\n",
       "      <td>0</td>\n",
       "      <td>0</td>\n",
       "      <td>0</td>\n",
       "    </tr>\n",
       "    <tr>\n",
       "      <th>2</th>\n",
       "      <td>1</td>\n",
       "      <td>0</td>\n",
       "      <td>0</td>\n",
       "      <td>0</td>\n",
       "      <td>0</td>\n",
       "      <td>0</td>\n",
       "      <td>0</td>\n",
       "      <td>0</td>\n",
       "      <td>1</td>\n",
       "      <td>1</td>\n",
       "      <td>0</td>\n",
       "      <td>0</td>\n",
       "      <td>0</td>\n",
       "      <td>0</td>\n",
       "    </tr>\n",
       "    <tr>\n",
       "      <th>3</th>\n",
       "      <td>1</td>\n",
       "      <td>0</td>\n",
       "      <td>0</td>\n",
       "      <td>0</td>\n",
       "      <td>0</td>\n",
       "      <td>0</td>\n",
       "      <td>0</td>\n",
       "      <td>0</td>\n",
       "      <td>0</td>\n",
       "      <td>0</td>\n",
       "      <td>0</td>\n",
       "      <td>0</td>\n",
       "      <td>0</td>\n",
       "      <td>0</td>\n",
       "    </tr>\n",
       "    <tr>\n",
       "      <th>4</th>\n",
       "      <td>0</td>\n",
       "      <td>1</td>\n",
       "      <td>0</td>\n",
       "      <td>1</td>\n",
       "      <td>0</td>\n",
       "      <td>0</td>\n",
       "      <td>0</td>\n",
       "      <td>1</td>\n",
       "      <td>0</td>\n",
       "      <td>0</td>\n",
       "      <td>0</td>\n",
       "      <td>0</td>\n",
       "      <td>0</td>\n",
       "      <td>0</td>\n",
       "    </tr>\n",
       "  </tbody>\n",
       "</table>\n",
       "</div>"
      ],
      "text/plain": [
       "   RomanFiction  BdComics  ArtsCulture  DocMedia  Erotisme  Esoterisme  \\\n",
       "0             1         1            0         0         0           0   \n",
       "1             1         0            0         0         0           0   \n",
       "2             1         0            0         0         0           0   \n",
       "3             1         0            0         0         0           0   \n",
       "4             0         1            0         1         0           0   \n",
       "\n",
       "   SanteBE  HistGeo  Jeunesse  LittEtrangere  ScienceTechnique  LoisirVie  \\\n",
       "0        0        0         0              0                 0          0   \n",
       "1        0        0         0              1                 0          0   \n",
       "2        0        0         1              1                 0          0   \n",
       "3        0        0         0              0                 0          0   \n",
       "4        0        1         0              0                 0          0   \n",
       "\n",
       "   SHS  Philosophie  \n",
       "0    0            0  \n",
       "1    0            0  \n",
       "2    0            0  \n",
       "3    0            0  \n",
       "4    0            0  "
      ]
     },
     "execution_count": 436,
     "metadata": {},
     "output_type": "execute_result"
    }
   ],
   "source": [
    "# Lecture du fichier 'df_sortie.csv' contenant les thèmes choisis  et vectorisés des réponses du questionnaire.\n",
    "\n",
    "dataTheme = pd.read_csv('df_sortie.csv', sep='\\t')\n",
    "\n",
    "# On supprime la colonne inutile et on montre un bout du tableau :\n",
    "del dataTheme['Unnamed: 0']\n",
    "dataTheme.head()"
   ]
  },
  {
   "cell_type": "code",
   "execution_count": 437,
   "metadata": {},
   "outputs": [
    {
     "data": {
      "text/plain": [
       "RomanFiction        1161\n",
       "BdComics             414\n",
       "ArtsCulture          172\n",
       "DocMedia             189\n",
       "Erotisme             138\n",
       "Esoterisme            83\n",
       "SanteBE              176\n",
       "HistGeo              250\n",
       "Jeunesse             251\n",
       "LittEtrangere        486\n",
       "ScienceTechnique      83\n",
       "LoisirVie            129\n",
       "SHS                  346\n",
       "Philosophie          260\n",
       "dtype: int64"
      ]
     },
     "execution_count": 437,
     "metadata": {},
     "output_type": "execute_result"
    }
   ],
   "source": [
    "# On regarde combien de fois chaque thème a été coché dans le questionnaire :\n",
    "poidsTheme = dataTheme.sum()\n",
    "# On l'affiche :\n",
    "poidsTheme"
   ]
  },
  {
   "cell_type": "code",
   "execution_count": 438,
   "metadata": {},
   "outputs": [],
   "source": [
    "# On classe ces thèmes par ordre croissant\n",
    "valBarplot = np.sort(poidsTheme.values)"
   ]
  },
  {
   "cell_type": "code",
   "execution_count": 439,
   "metadata": {},
   "outputs": [
    {
     "data": {
      "text/plain": [
       "Text(0.5, 1.0, 'Classement par ordre décroissant des thèmes')"
      ]
     },
     "execution_count": 439,
     "metadata": {},
     "output_type": "execute_result"
    },
    {
     "data": {
      "image/png": "[encoded data removed]",
      "text/plain": [
       "<Figure size 432x288 with 1 Axes>"
      ]
     },
     "metadata": {
      "needs_background": "light"
     },
     "output_type": "display_data"
    }
   ],
   "source": [
    "# On  crée un diagramme à barres représentant le classement des thèmes par nombre de votes\n",
    "\n",
    "plt.barh(range(len(valBarplot)), valBarplot, height=0.8, align='center')\n",
    "plt.yticks(range(len(valBarplot)), ['ScienceTechnique', 'Esoterisme', 'LoisirVie', 'Erotisme', 'ArtsCulture', 'SanteBE', 'DocMedia', 'HistGeo', 'Jeunesse', 'Philosophie', 'SHS', 'BdComics','LittEtrangere', 'RomanFiction'])\n",
    "plt.xlabel('Nombre de votants')\n",
    "plt.ylabel('Themes')\n",
    "plt.title('Classement par ordre décroissant des thèmes')"
   ]
  },
  {
   "cell_type": "code",
   "execution_count": 440,
   "metadata": {},
   "outputs": [
    {
     "data": {
      "text/plain": [
       "0    2\n",
       "1    2\n",
       "2    3\n",
       "3    1\n",
       "4    3\n",
       "5    2\n",
       "6    6\n",
       "7    3\n",
       "8    1\n",
       "9    5\n",
       "dtype: int64"
      ]
     },
     "execution_count": 440,
     "metadata": {},
     "output_type": "execute_result"
    }
   ],
   "source": [
    "# On observe maintenant le nombre de thèmes coché par chaque personne\n",
    "nbThemeIndiv = dataTheme.sum(axis=1)\n",
    "# En voici un extrait :\n",
    "nbThemeIndiv.head(10)"
   ]
  },
  {
   "cell_type": "code",
   "execution_count": 441,
   "metadata": {},
   "outputs": [
    {
     "name": "stdout",
     "output_type": "stream",
     "text": [
      "3.235340109460516\n"
     ]
    },
    {
     "data": {
      "text/plain": [
       "0.25    2.0\n",
       "0.50    3.0\n",
       "0.75    4.0\n",
       "dtype: float64"
      ]
     },
     "execution_count": 441,
     "metadata": {},
     "output_type": "execute_result"
    }
   ],
   "source": [
    "# Moyenne du nombre de thèmes choisis :\n",
    "print(nbThemeIndiv.mean())\n",
    "\n",
    "# Répartition en quartiles des votants en fonction du nombre de thèmes choisis\n",
    "nbThemeIndiv.quantile([0.25, 0.5, 0.75])"
   ]
  },
  {
   "cell_type": "code",
   "execution_count": 442,
   "metadata": {},
   "outputs": [
    {
     "data": {
      "text/plain": [
       "array([ 0,  0,  0, ..., 10, 10, 12])"
      ]
     },
     "execution_count": 442,
     "metadata": {},
     "output_type": "execute_result"
    }
   ],
   "source": [
    "# On trie les nombres de réponses par ordre croissant, on a ensortie un tableau et non plus une série\n",
    "nbThemeIndiv = np.sort(nbThemeIndiv.values)\n",
    "nbThemeIndiv"
   ]
  },
  {
   "cell_type": "code",
   "execution_count": 443,
   "metadata": {},
   "outputs": [
    {
     "data": {
      "text/plain": [
       "Text(0.5, 1.0, 'boxplot avec sequence')"
      ]
     },
     "execution_count": 443,
     "metadata": {},
     "output_type": "execute_result"
    },
    {
     "data": {
      "image/png": "[encoded data removed]",
      "text/plain": [
       "<Figure size 432x288 with 1 Axes>"
      ]
     },
     "metadata": {
      "needs_background": "light"
     },
     "output_type": "display_data"
    }
   ],
   "source": [
    "# Représentation de cette répartition par une boite à moustache :\n",
    "plt.boxplot(nbThemeIndiv, whis=3)\n",
    "plt.ylim(-1, 15)\n",
    "plt.title('boxplot')"
   ]
  },
  {
   "cell_type": "code",
   "execution_count": 444,
   "metadata": {},
   "outputs": [
    {
     "data": {
      "text/plain": [
       "Text(0.5, 1.0, 'Histogramme nombre de thèmes choisis')"
      ]
     },
     "execution_count": 444,
     "metadata": {},
     "output_type": "execute_result"
    },
    {
     "data": {
      "image/png": "[encoded data removed]",
      "text/plain": [
       "<Figure size 432x288 with 1 Axes>"
      ]
     },
     "metadata": {
      "needs_background": "light"
     },
     "output_type": "display_data"
    }
   ],
   "source": [
    "# On créer un histogramme repésentant la répartition du nombre de thème choisis par la population ayant répondu au questionnaire :\n",
    "\n",
    "axes = plt.gca()\n",
    "bins = [nbThemeIndiv + 0.5 for nbThemeIndiv in range(0, 15)]\n",
    "plt.hist(nbThemeIndiv, bins = bins, rwidth = 0.8)\n",
    "axes.xaxis.set_ticks(range(15))\n",
    "plt.xlabel('Nombre de thèmes cochés')\n",
    "plt.ylabel('Nombre de personnes')\n",
    "plt.title('Histogramme nombre de thèmes choisis')"
   ]
  },
  {
   "cell_type": "code",
   "execution_count": 445,
   "metadata": {},
   "outputs": [
    {
     "ename": "TypeError",
     "evalue": "'Text' object is not callable",
     "output_type": "error",
     "traceback": [
      "\u001b[0;31m---------------------------------------------------------------------------\u001b[0m",
      "\u001b[0;31mTypeError\u001b[0m                                 Traceback (most recent call last)",
      "\u001b[0;32m<ipython-input-445-530ee025028f>\u001b[0m in \u001b[0;36m<module>\u001b[0;34m\u001b[0m\n\u001b[1;32m      7\u001b[0m \u001b[0max\u001b[0m\u001b[0;34m.\u001b[0m\u001b[0mhist\u001b[0m\u001b[0;34m(\u001b[0m\u001b[0mnbThemeIndiv\u001b[0m\u001b[0;34m,\u001b[0m \u001b[0mbins\u001b[0m \u001b[0;34m=\u001b[0m \u001b[0mbins\u001b[0m\u001b[0;34m,\u001b[0m \u001b[0mdensity\u001b[0m\u001b[0;34m=\u001b[0m\u001b[0;34m'true'\u001b[0m\u001b[0;34m,\u001b[0m \u001b[0mrwidth\u001b[0m \u001b[0;34m=\u001b[0m \u001b[0;36m0.8\u001b[0m\u001b[0;34m)\u001b[0m\u001b[0;34m\u001b[0m\u001b[0;34m\u001b[0m\u001b[0m\n\u001b[1;32m      8\u001b[0m \u001b[0max\u001b[0m\u001b[0;34m.\u001b[0m\u001b[0mplot\u001b[0m\u001b[0;34m(\u001b[0m\u001b[0mxx\u001b[0m\u001b[0;34m,\u001b[0m \u001b[0mkde\u001b[0m\u001b[0;34m(\u001b[0m\u001b[0mxx\u001b[0m\u001b[0;34m)\u001b[0m\u001b[0;34m)\u001b[0m\u001b[0;34m\u001b[0m\u001b[0;34m\u001b[0m\u001b[0m\n\u001b[0;32m----> 9\u001b[0;31m \u001b[0max\u001b[0m\u001b[0;34m.\u001b[0m\u001b[0mtitle\u001b[0m\u001b[0;34m(\u001b[0m\u001b[0;34m'Répartitions des nombres de thèmes choisis par probabilité'\u001b[0m\u001b[0;34m)\u001b[0m\u001b[0;34m\u001b[0m\u001b[0;34m\u001b[0m\u001b[0m\n\u001b[0m",
      "\u001b[0;31mTypeError\u001b[0m: 'Text' object is not callable"
     ]
    },
    {
     "data": {
      "image/png": "[encoded data removed]",
      "text/plain": [
       "<Figure size 432x288 with 1 Axes>"
      ]
     },
     "metadata": {
      "needs_background": "light"
     },
     "output_type": "display_data"
    }
   ],
   "source": [
    "# On rend compte de cette répartition par le biais de probabilités :\n",
    "\n",
    "kde = stats.gaussian_kde(nbThemeIndiv)\n",
    "xx = np.linspace(-1, 15, 70)\n",
    "plt, ax = plt.subplots()\n",
    "bins = [nbThemeIndiv + 0.5 for nbThemeIndiv in range(0, 15)]\n",
    "ax.hist(nbThemeIndiv, bins = bins, density='true', rwidth = 0.8)\n",
    "ax.plot(xx, kde(xx))\n",
    "ax.title('Répartitions des nombres de thèmes choisis par probabilité')"
   ]
  },
  {
   "cell_type": "code",
   "execution_count": null,
   "metadata": {},
   "outputs": [],
   "source": []
  }
 ],
 "metadata": {
  "kernelspec": {
   "display_name": "Python 3",
   "language": "python",
   "name": "python3"
  },
  "language_info": {
   "codemirror_mode": {
    "name": "ipython",
    "version": 3
   },
   "file_extension": ".py",
   "mimetype": "text/x-python",
   "name": "python",
   "nbconvert_exporter": "python",
   "pygments_lexer": "ipython3",
   "version": "3.7.1"
  }
 },
 "nbformat": 4,
 "nbformat_minor": 2
}
