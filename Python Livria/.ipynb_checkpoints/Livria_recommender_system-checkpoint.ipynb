{
 "cells": [
  {
   "cell_type": "markdown",
   "metadata": {},
   "source": [
    "# LIVRIA : Recommandation des thèmes et des livres \n",
    "\n",
    "C'est dans ce notebook -que l'on peut considérer comme le dernier - que mettons en lumières les recommendations de nos différents modèles"
   ]
  },
  {
   "cell_type": "markdown",
   "metadata": {},
   "source": [
    "### Import des librairies et des données"
   ]
  },
  {
   "cell_type": "code",
   "execution_count": 7,
   "metadata": {},
   "outputs": [],
   "source": [
    "from ui import *"
   ]
  },
  {
   "cell_type": "code",
   "execution_count": 9,
   "metadata": {},
   "outputs": [
    {
     "data": {
      "application/vnd.jupyter.widget-view+json": {
       "model_id": "dd044d8991dd4ec48494710bd177af6a",
       "version_major": 2,
       "version_minor": 0
      },
      "text/plain": [
       "interactive(children=(RadioButtons(description='Renseignez votre sexe', options=('Homme', 'Femme'), value='Hom…"
      ]
     },
     "metadata": {},
     "output_type": "display_data"
    },
    {
     "data": {
      "text/plain": [
       "<function __main__.enr_crits(sexe, car, pt, attentes)>"
      ]
     },
     "execution_count": 9,
     "metadata": {},
     "output_type": "execute_result"
    }
   ],
   "source": [
    "\n",
    "\n",
    "def enr_crits (sexe, car, pt, attentes): \n",
    "    criteres_entree = pd.DataFrame([np.zeros((34), dtype=int)], columns=criteres)\n",
    "    # On enregistre les valeurs :\n",
    "    if ('Homme' == sexe):\n",
    "        criteres_entree['Sexe'] = 1\n",
    "    else:\n",
    "        criteres_entree['Sexe'] = 0\n",
    "        \n",
    "    for c in cars:\n",
    "        if (c in car):\n",
    "            criteres_entree[c] = 1\n",
    "        else:\n",
    "            criteres_entree[c] = 0\n",
    "    for p in pts:\n",
    "        if (p in pt):\n",
    "            criteres_entree[p] = 1\n",
    "        else:\n",
    "            criteres_entree[p] = 0\n",
    "    for att in atts:\n",
    "        if (att in attentes):\n",
    "            criteres_entree[att] = 1\n",
    "        else:\n",
    "            criteres_entree[att] = 0\n",
    "        # On return les valeurs renseignées\n",
    "    criteres_entree=criteres_entree.sort_index(axis=1)\n",
    "    return criteres_entree\n",
    "    \n",
    "radio_sexe = wg.RadioButtons(options=['Homme', 'Femme'], description='Renseignez votre sexe')\n",
    "sel_m_car = wg.SelectMultiple(options=cars, description='Sélectionnez les items qui vous définissent le mieux', disabled=False)\n",
    "sel_m_pt = wg.SelectMultiple(options=pts, description='Quels sont vos passe-temps ?', disabled=False)\n",
    "sel_m_attentes = wg.SelectMultiple(options=atts, description=\"Qu'est ce qui vous plaît dans un livre ?\", disabled=False)  \n",
    "wg.interact(enr_crits, sexe=radio_sexe, car=sel_m_car, pt=sel_m_pt, attentes=sel_m_attentes)"
   ]
  },
  {
   "cell_type": "code",
   "execution_count": null,
   "metadata": {},
   "outputs": [],
   "source": []
  },
  {
   "cell_type": "code",
   "execution_count": 3,
   "metadata": {},
   "outputs": [
    {
     "name": "stdout",
     "output_type": "stream",
     "text": [
      "**Calculs des prédictions pour ArtsCulture...**\n",
      "[0]\n",
      "**Calculs des prédictions pour BdComics...**\n",
      "[0]\n",
      "**Calculs des prédictions pour DocMedia...**\n",
      "[0]\n",
      "**Calculs des prédictions pour Erotisme...**\n",
      "[0]\n",
      "**Calculs des prédictions pour Esoterisme...**\n",
      "[0]\n",
      "**Calculs des prédictions pour HistGeo...**\n",
      "[0]\n",
      "**Calculs des prédictions pour Jeunesse...**\n",
      "[0]\n",
      "**Calculs des prédictions pour LittEtrangere...**\n",
      "[0]\n",
      "**Calculs des prédictions pour LoisirVie...**\n",
      "[0]\n",
      "**Calculs des prédictions pour Philosophie...**\n",
      "[0]\n",
      "**Calculs des prédictions pour RomanFiction...**\n",
      "[1]\n",
      "**Calculs des prédictions pour SHS...**\n",
      "[0]\n",
      "**Calculs des prédictions pour SanteBE...**\n",
      "[0]\n",
      "**Calculs des prédictions pour ScienceTechnique...**\n",
      "[0]\n"
     ]
    }
   ],
   "source": [
    "predict(criteres_entree)"
   ]
  },
  {
   "cell_type": "code",
   "execution_count": 4,
   "metadata": {},
   "outputs": [
    {
     "data": {
      "text/html": [
       "<div>\n",
       "<style scoped>\n",
       "    .dataframe tbody tr th:only-of-type {\n",
       "        vertical-align: middle;\n",
       "    }\n",
       "\n",
       "    .dataframe tbody tr th {\n",
       "        vertical-align: top;\n",
       "    }\n",
       "\n",
       "    .dataframe thead th {\n",
       "        text-align: right;\n",
       "    }\n",
       "</style>\n",
       "<table border=\"1\" class=\"dataframe\">\n",
       "  <thead>\n",
       "    <tr style=\"text-align: right;\">\n",
       "      <th></th>\n",
       "      <th>ArtsCulture</th>\n",
       "      <th>BdComics</th>\n",
       "      <th>DocMedia</th>\n",
       "      <th>Erotisme</th>\n",
       "      <th>Esoterisme</th>\n",
       "      <th>HistGeo</th>\n",
       "      <th>Jeunesse</th>\n",
       "      <th>LittEtrangere</th>\n",
       "      <th>LoisirVie</th>\n",
       "      <th>Philosophie</th>\n",
       "      <th>RomanFiction</th>\n",
       "      <th>SHS</th>\n",
       "      <th>SanteBE</th>\n",
       "      <th>ScienceTechnique</th>\n",
       "    </tr>\n",
       "  </thead>\n",
       "  <tbody>\n",
       "    <tr>\n",
       "      <th>0</th>\n",
       "      <td>0</td>\n",
       "      <td>0</td>\n",
       "      <td>0</td>\n",
       "      <td>0</td>\n",
       "      <td>0</td>\n",
       "      <td>0</td>\n",
       "      <td>0</td>\n",
       "      <td>0</td>\n",
       "      <td>0</td>\n",
       "      <td>0</td>\n",
       "      <td>1</td>\n",
       "      <td>0</td>\n",
       "      <td>0</td>\n",
       "      <td>0</td>\n",
       "    </tr>\n",
       "  </tbody>\n",
       "</table>\n",
       "</div>"
      ],
      "text/plain": [
       "   ArtsCulture  BdComics  DocMedia  Erotisme  Esoterisme  HistGeo  Jeunesse  \\\n",
       "0            0         0         0         0           0        0         0   \n",
       "\n",
       "   LittEtrangere  LoisirVie  Philosophie  RomanFiction  SHS  SanteBE  \\\n",
       "0              0          0            0             1    0        0   \n",
       "\n",
       "   ScienceTechnique  \n",
       "0                 0  "
      ]
     },
     "execution_count": 4,
     "metadata": {},
     "output_type": "execute_result"
    }
   ],
   "source": [
    "themes_predits"
   ]
  },
  {
   "cell_type": "code",
   "execution_count": 5,
   "metadata": {},
   "outputs": [
    {
     "data": {
      "text/plain": [
       "sklearn.linear_model.logistic.LogisticRegression"
      ]
     },
     "execution_count": 5,
     "metadata": {},
     "output_type": "execute_result"
    }
   ],
   "source": [
    "LogisticRegression"
   ]
  },
  {
   "cell_type": "markdown",
   "metadata": {},
   "source": [
    "### Affichage des livres"
   ]
  },
  {
   "cell_type": "markdown",
   "metadata": {},
   "source": [
    "Ici, nous allons crée la fonction permettant d'afficher proprement les livres avec leur page de couverture, le titre l'auteur et la note moyenne. On commence par nettoyer le DataFrame des colonnes d'ont nous n'avons pas besoin ici."
   ]
  },
  {
   "cell_type": "code",
   "execution_count": 6,
   "metadata": {},
   "outputs": [
    {
     "data": {
      "application/vnd.jupyter.widget-view+json": {
       "model_id": "f11b67a73ca24b9fb04727f2eec3db21",
       "version_major": 2,
       "version_minor": 0
      },
      "text/plain": [
       "interactive(children=(RadioButtons(description='Renseignez votre sexe', options=('Homme', 'Femme'), value='Hom…"
      ]
     },
     "metadata": {},
     "output_type": "display_data"
    },
    {
     "data": {
      "text/html": [
       "<div>\n",
       "<style scoped>\n",
       "    .dataframe tbody tr th:only-of-type {\n",
       "        vertical-align: middle;\n",
       "    }\n",
       "\n",
       "    .dataframe tbody tr th {\n",
       "        vertical-align: top;\n",
       "    }\n",
       "\n",
       "    .dataframe thead th {\n",
       "        text-align: right;\n",
       "    }\n",
       "</style>\n",
       "<table border=\"1\" class=\"dataframe\">\n",
       "  <thead>\n",
       "    <tr style=\"text-align: right;\">\n",
       "      <th></th>\n",
       "      <th>Agite</th>\n",
       "      <th>Altruiste</th>\n",
       "      <th>Ambitieux</th>\n",
       "      <th>Amusant</th>\n",
       "      <th>Autoritaire</th>\n",
       "      <th>Aventurier</th>\n",
       "      <th>Calme</th>\n",
       "      <th>Connaissance</th>\n",
       "      <th>Consciencieux</th>\n",
       "      <th>Creatif</th>\n",
       "      <th>...</th>\n",
       "      <th>Reserve</th>\n",
       "      <th>Rien faire</th>\n",
       "      <th>Sexe</th>\n",
       "      <th>Sociable</th>\n",
       "      <th>Sport</th>\n",
       "      <th>Sportif</th>\n",
       "      <th>Style</th>\n",
       "      <th>Theatre</th>\n",
       "      <th>Tout</th>\n",
       "      <th>Voyage</th>\n",
       "    </tr>\n",
       "  </thead>\n",
       "  <tbody>\n",
       "    <tr>\n",
       "      <th>0</th>\n",
       "      <td>0</td>\n",
       "      <td>0</td>\n",
       "      <td>0</td>\n",
       "      <td>0</td>\n",
       "      <td>0</td>\n",
       "      <td>0</td>\n",
       "      <td>0</td>\n",
       "      <td>0</td>\n",
       "      <td>0</td>\n",
       "      <td>0</td>\n",
       "      <td>...</td>\n",
       "      <td>0</td>\n",
       "      <td>0</td>\n",
       "      <td>0</td>\n",
       "      <td>0</td>\n",
       "      <td>0</td>\n",
       "      <td>0</td>\n",
       "      <td>0</td>\n",
       "      <td>0</td>\n",
       "      <td>0</td>\n",
       "      <td>0</td>\n",
       "    </tr>\n",
       "  </tbody>\n",
       "</table>\n",
       "<p>1 rows × 34 columns</p>\n",
       "</div>"
      ],
      "text/plain": [
       "   Agite  Altruiste  Ambitieux  Amusant  Autoritaire  Aventurier  Calme  \\\n",
       "0      0          0          0        0            0           0      0   \n",
       "\n",
       "   Connaissance  Consciencieux  Creatif   ...    Reserve  Rien faire  Sexe  \\\n",
       "0             0              0        0   ...          0           0     0   \n",
       "\n",
       "   Sociable  Sport  Sportif  Style  Theatre  Tout  Voyage  \n",
       "0         0      0        0      0        0     0       0  \n",
       "\n",
       "[1 rows x 34 columns]"
      ]
     },
     "execution_count": 6,
     "metadata": {},
     "output_type": "execute_result"
    }
   ],
   "source": [
    "update = wg.interact(enr_crits, sexe=radio_sexe, car=sel_m_car, pt=sel_m_pt, attentes=sel_m_attentes)\n",
    "\n",
    "update\n",
    "criteres_entree"
   ]
  },
  {
   "cell_type": "markdown",
   "metadata": {},
   "source": [
    "On crée la fonction qui nous permettra d'afficher les livres :"
   ]
  },
  {
   "cell_type": "code",
   "execution_count": null,
   "metadata": {},
   "outputs": [],
   "source": []
  },
  {
   "cell_type": "code",
   "execution_count": 7,
   "metadata": {},
   "outputs": [
    {
     "name": "stdout",
     "output_type": "stream",
     "text": [
      "                   Liste des livres qui pourraient vous plaire\n",
      "               ===================================================\n",
      "\n",
      "The Hunger Games de Suzanne Collins (2008).     Note moyenne: 4.34/5\n"
     ]
    },
    {
     "data": {
      "text/html": [
       "<img src=\"https://images.gr-assets.com/books/1447303603s/2767052.jpg\" width=\"100\" height=\"100\"/>"
      ],
      "text/plain": [
       "<IPython.core.display.Image object>"
      ]
     },
     "metadata": {},
     "output_type": "display_data"
    },
    {
     "name": "stdout",
     "output_type": "stream",
     "text": [
      "Angels & Demons  de Dan Brown (2000).     Note moyenne: 3.85/5\n"
     ]
    },
    {
     "data": {
      "text/html": [
       "<img src=\"https://images.gr-assets.com/books/1303390735s/960.jpg\" width=\"100\" height=\"100\"/>"
      ],
      "text/plain": [
       "<IPython.core.display.Image object>"
      ]
     },
     "metadata": {},
     "output_type": "display_data"
    },
    {
     "name": "stdout",
     "output_type": "stream",
     "text": [
      "The Kite Runner  de Khaled Hosseini (2003).     Note moyenne: 4.26/5\n"
     ]
    },
    {
     "data": {
      "text/html": [
       "<img src=\"https://images.gr-assets.com/books/1484565687s/77203.jpg\" width=\"100\" height=\"100\"/>"
      ],
      "text/plain": [
       "<IPython.core.display.Image object>"
      ]
     },
     "metadata": {},
     "output_type": "display_data"
    }
   ],
   "source": [
    "# On teste la fonction\n",
    "livresMontres = books.loc[books['book_id'].isin([1,9,11])]\n",
    "show_books(livresMontres) # Elle prend en entrée un dataFrame avec les livres que nous souhaitons afficher"
   ]
  },
  {
   "cell_type": "markdown",
   "metadata": {},
   "source": [
    "## Préparation et entrainement des données pour la prédiction de thèmes"
   ]
  },
  {
   "cell_type": "code",
   "execution_count": 8,
   "metadata": {},
   "outputs": [
    {
     "data": {
      "text/html": [
       "<div>\n",
       "<style scoped>\n",
       "    .dataframe tbody tr th:only-of-type {\n",
       "        vertical-align: middle;\n",
       "    }\n",
       "\n",
       "    .dataframe tbody tr th {\n",
       "        vertical-align: top;\n",
       "    }\n",
       "\n",
       "    .dataframe thead th {\n",
       "        text-align: right;\n",
       "    }\n",
       "</style>\n",
       "<table border=\"1\" class=\"dataframe\">\n",
       "  <thead>\n",
       "    <tr style=\"text-align: right;\">\n",
       "      <th></th>\n",
       "      <th>Agite</th>\n",
       "      <th>Altruiste</th>\n",
       "      <th>Ambitieux</th>\n",
       "      <th>Amusant</th>\n",
       "      <th>Autoritaire</th>\n",
       "      <th>Aventurier</th>\n",
       "      <th>Calme</th>\n",
       "      <th>Connaissance</th>\n",
       "      <th>Consciencieux</th>\n",
       "      <th>Creatif</th>\n",
       "      <th>...</th>\n",
       "      <th>Reserve</th>\n",
       "      <th>Rien faire</th>\n",
       "      <th>Sexe</th>\n",
       "      <th>Sociable</th>\n",
       "      <th>Sport</th>\n",
       "      <th>Sportif</th>\n",
       "      <th>Style</th>\n",
       "      <th>Theatre</th>\n",
       "      <th>Tout</th>\n",
       "      <th>Voyage</th>\n",
       "    </tr>\n",
       "  </thead>\n",
       "  <tbody>\n",
       "    <tr>\n",
       "      <th>0</th>\n",
       "      <td>0</td>\n",
       "      <td>0</td>\n",
       "      <td>0</td>\n",
       "      <td>0</td>\n",
       "      <td>0</td>\n",
       "      <td>0</td>\n",
       "      <td>0</td>\n",
       "      <td>0</td>\n",
       "      <td>0</td>\n",
       "      <td>0</td>\n",
       "      <td>...</td>\n",
       "      <td>0</td>\n",
       "      <td>0</td>\n",
       "      <td>0</td>\n",
       "      <td>0</td>\n",
       "      <td>0</td>\n",
       "      <td>0</td>\n",
       "      <td>0</td>\n",
       "      <td>0</td>\n",
       "      <td>0</td>\n",
       "      <td>0</td>\n",
       "    </tr>\n",
       "  </tbody>\n",
       "</table>\n",
       "<p>1 rows × 34 columns</p>\n",
       "</div>"
      ],
      "text/plain": [
       "   Agite  Altruiste  Ambitieux  Amusant  Autoritaire  Aventurier  Calme  \\\n",
       "0      0          0          0        0            0           0      0   \n",
       "\n",
       "   Connaissance  Consciencieux  Creatif   ...    Reserve  Rien faire  Sexe  \\\n",
       "0             0              0        0   ...          0           0     0   \n",
       "\n",
       "   Sociable  Sport  Sportif  Style  Theatre  Tout  Voyage  \n",
       "0         0      0        0      0        0     0       0  \n",
       "\n",
       "[1 rows x 34 columns]"
      ]
     },
     "execution_count": 8,
     "metadata": {},
     "output_type": "execute_result"
    }
   ],
   "source": [
    "\n",
    "\n",
    "criteres_entree"
   ]
  },
  {
   "cell_type": "markdown",
   "metadata": {},
   "source": [
    "# Recommandations"
   ]
  },
  {
   "cell_type": "markdown",
   "metadata": {},
   "source": [
    "## A l'entrée de l'application "
   ]
  },
  {
   "cell_type": "code",
   "execution_count": null,
   "metadata": {},
   "outputs": [],
   "source": [
    "\n",
    "    \n",
    "    "
   ]
  },
  {
   "cell_type": "markdown",
   "metadata": {},
   "source": [
    "Veuillez répondre au questions ci-dessous :"
   ]
  },
  {
   "cell_type": "code",
   "execution_count": 9,
   "metadata": {},
   "outputs": [
    {
     "ename": "NameError",
     "evalue": "name 'questions' is not defined",
     "output_type": "error",
     "traceback": [
      "\u001b[0;31m---------------------------------------------------------------------------\u001b[0m",
      "\u001b[0;31mNameError\u001b[0m                                 Traceback (most recent call last)",
      "\u001b[0;32m<ipython-input-9-7483f0069ed8>\u001b[0m in \u001b[0;36m<module>\u001b[0;34m()\u001b[0m\n\u001b[0;32m----> 1\u001b[0;31m \u001b[0mquestions\u001b[0m\u001b[0;34m(\u001b[0m\u001b[0;34m)\u001b[0m\u001b[0;34m\u001b[0m\u001b[0m\n\u001b[0m",
      "\u001b[0;31mNameError\u001b[0m: name 'questions' is not defined"
     ]
    }
   ],
   "source": [
    "questions()"
   ]
  },
  {
   "cell_type": "code",
   "execution_count": null,
   "metadata": {},
   "outputs": [],
   "source": []
  },
  {
   "cell_type": "code",
   "execution_count": null,
   "metadata": {},
   "outputs": [],
   "source": [
    "def get_recommendations(name,sim):\n",
    "   # indx=df_book_new.loc[df_book_new['title']==name].index\n",
    "    indx=book_indices[name]\n",
    "    sim_scores=list(enumerate(sim[indx]))\n",
    "    new=sorted(sim_scores,key=lambda x: x[1],reverse=True)\n",
    "   \n",
    "    new=new[1:11]\n",
    "    #print(new)\n",
    "    book_idx=[x[0] for x in new]\n",
    "    return (df_book_new['title'].iloc[book_idx])"
   ]
  },
  {
   "cell_type": "code",
   "execution_count": null,
   "metadata": {},
   "outputs": [],
   "source": [
    "sel_m_attentes.value.info()"
   ]
  },
  {
   "cell_type": "code",
   "execution_count": null,
   "metadata": {},
   "outputs": [],
   "source": [
    "book = books.query(\"book_id == 11\")\n",
    "Image(url= book['image_url'], width=100, height=100)"
   ]
  },
  {
   "cell_type": "code",
   "execution_count": null,
   "metadata": {},
   "outputs": [],
   "source": []
  },
  {
   "cell_type": "code",
   "execution_count": null,
   "metadata": {},
   "outputs": [],
   "source": []
  },
  {
   "cell_type": "code",
   "execution_count": null,
   "metadata": {},
   "outputs": [],
   "source": []
  },
  {
   "cell_type": "code",
   "execution_count": null,
   "metadata": {},
   "outputs": [],
   "source": [
    "def recommendation(user_id):\n",
    "    user = book.copy()\n",
    "    already_read = books_data[books_data['user_id'] == user_id]['book_id'].unique()\n",
    "    user = user.reset_index()\n",
    "    user = user[~user['book_id'].isin(already_read)]\n",
    "    user['Estimate_Score']=user['book_id'].apply(lambda x: algo.predict(user_id, x).est)\n",
    "    user = user.drop('book_id', axis = 1)\n",
    "    user = user.sort_values('Estimate_Score', ascending=False)\n",
    "    print(user.head(10))"
   ]
  },
  {
   "cell_type": "code",
   "execution_count": null,
   "metadata": {},
   "outputs": [],
   "source": []
  }
 ],
 "metadata": {
  "kernelspec": {
   "display_name": "Python 3 (ML)",
   "language": "python",
   "name": "ml"
  },
  "language_info": {
   "codemirror_mode": {
    "name": "ipython",
    "version": 3
   },
   "file_extension": ".py",
   "mimetype": "text/x-python",
   "name": "python",
   "nbconvert_exporter": "python",
   "pygments_lexer": "ipython3",
   "version": "3.5.4"
  }
 },
 "nbformat": 4,
 "nbformat_minor": 2
}
