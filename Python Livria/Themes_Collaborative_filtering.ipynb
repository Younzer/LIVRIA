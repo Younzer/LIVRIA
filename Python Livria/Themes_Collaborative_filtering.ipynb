{
 "cells": [
  {
   "cell_type": "markdown",
   "metadata": {},
   "source": [
    "# LIVRIA : Filtrage colllaboratif\n",
    "\n",
    "   Ce jupyter notebook contient le code permettant de prédire les thèmes de livres susceptibles de plaire à l'utilisateur.\n",
    "\n",
    "   Nous utiliserons dans un premier temps notre base de données issue d'un questionnaire dont vous pouvez observer les résultats dans le fichier answerLivria.csv. Ce dataset est axé sur les thèmes de prédilection des utilisateurs. Nous avons déjà nettoyé et vectorisé ce set de donnée (cf. dataCleaning.ipynb) et analysé les réponses (cf. dataVizualisation.ipynb).\n",
    "   Dans un second temps, nous utiliserons la base de données Goodbooks-10k, qui a l'avantage de réunir beaucoup plus de réponses et qui comprend notamment les notes attribuées par les utilisateurs aux livres qu'ils ont lus. \n",
    "   \n",
    "* Le set de données de Goodbooks-10 :\n",
    "http://fastml.com/goodbooks-10k-a-new-dataset-for-book-recommendations/\n",
    "\n",
    "Vous pourrez retrouver le notebook jupyter dédié au collaborative filtering pour les livres notés de Goodbooks-10k dans le fichier Livria_Goodbooks10k_Collaborative_filtering.ipynb"
   ]
  },
  {
   "cell_type": "markdown",
   "metadata": {},
   "source": [
    "## Import des librairies\n",
    "\n",
    "On commence par importer les librairies utilisées dans ce notebook."
   ]
  },
  {
   "cell_type": "code",
   "execution_count": 1,
   "metadata": {},
   "outputs": [],
   "source": [
    "import numpy as np\n",
    "import pandas as pd\n",
    "\n",
    "from sklearn.model_selection import train_test_split\n",
    "\n",
    "# Plot data\n",
    "import matplotlib.pyplot as plt\n",
    "%matplotlib inline"
   ]
  },
  {
   "cell_type": "markdown",
   "metadata": {},
   "source": [
    "## Import des données\n",
    "\n",
    "Vous pouvez retrouver l'ensemble des données utilisées dans le dossier './data'\n"
   ]
  },
  {
   "cell_type": "code",
   "execution_count": 2,
   "metadata": {},
   "outputs": [],
   "source": [
    "# Lecture du fichier 'df_sortie.csv' contenant les thèmes choisis  et vectorisés des réponses du questionnaire.\n",
    "dataTheme = pd.read_csv('data/df_sortie.csv', sep='\\t')\n",
    "# On supprime la colonne inutile :\n",
    "del dataTheme['Unnamed: 0']"
   ]
  },
  {
   "cell_type": "code",
   "execution_count": 3,
   "metadata": {},
   "outputs": [
    {
     "data": {
      "text/html": [
       "<div>\n",
       "<style scoped>\n",
       "    .dataframe tbody tr th:only-of-type {\n",
       "        vertical-align: middle;\n",
       "    }\n",
       "\n",
       "    .dataframe tbody tr th {\n",
       "        vertical-align: top;\n",
       "    }\n",
       "\n",
       "    .dataframe thead th {\n",
       "        text-align: right;\n",
       "    }\n",
       "</style>\n",
       "<table border=\"1\" class=\"dataframe\">\n",
       "  <thead>\n",
       "    <tr style=\"text-align: right;\">\n",
       "      <th></th>\n",
       "      <th>ArtsCulture</th>\n",
       "      <th>BdComics</th>\n",
       "      <th>DocMedia</th>\n",
       "      <th>Erotisme</th>\n",
       "      <th>Esoterisme</th>\n",
       "      <th>HistGeo</th>\n",
       "      <th>Jeunesse</th>\n",
       "      <th>LittEtrangere</th>\n",
       "      <th>LoisirVie</th>\n",
       "      <th>Philosophie</th>\n",
       "      <th>RomanFiction</th>\n",
       "      <th>SHS</th>\n",
       "      <th>SanteBE</th>\n",
       "      <th>ScienceTechnique</th>\n",
       "    </tr>\n",
       "  </thead>\n",
       "  <tbody>\n",
       "    <tr>\n",
       "      <th>0</th>\n",
       "      <td>0</td>\n",
       "      <td>1</td>\n",
       "      <td>0</td>\n",
       "      <td>0</td>\n",
       "      <td>0</td>\n",
       "      <td>0</td>\n",
       "      <td>0</td>\n",
       "      <td>0</td>\n",
       "      <td>0</td>\n",
       "      <td>0</td>\n",
       "      <td>1</td>\n",
       "      <td>0</td>\n",
       "      <td>0</td>\n",
       "      <td>0</td>\n",
       "    </tr>\n",
       "    <tr>\n",
       "      <th>1</th>\n",
       "      <td>0</td>\n",
       "      <td>0</td>\n",
       "      <td>0</td>\n",
       "      <td>0</td>\n",
       "      <td>0</td>\n",
       "      <td>0</td>\n",
       "      <td>0</td>\n",
       "      <td>1</td>\n",
       "      <td>0</td>\n",
       "      <td>0</td>\n",
       "      <td>1</td>\n",
       "      <td>0</td>\n",
       "      <td>0</td>\n",
       "      <td>0</td>\n",
       "    </tr>\n",
       "    <tr>\n",
       "      <th>2</th>\n",
       "      <td>0</td>\n",
       "      <td>0</td>\n",
       "      <td>0</td>\n",
       "      <td>0</td>\n",
       "      <td>0</td>\n",
       "      <td>0</td>\n",
       "      <td>1</td>\n",
       "      <td>1</td>\n",
       "      <td>0</td>\n",
       "      <td>0</td>\n",
       "      <td>1</td>\n",
       "      <td>0</td>\n",
       "      <td>0</td>\n",
       "      <td>0</td>\n",
       "    </tr>\n",
       "    <tr>\n",
       "      <th>3</th>\n",
       "      <td>0</td>\n",
       "      <td>0</td>\n",
       "      <td>0</td>\n",
       "      <td>0</td>\n",
       "      <td>0</td>\n",
       "      <td>0</td>\n",
       "      <td>0</td>\n",
       "      <td>0</td>\n",
       "      <td>0</td>\n",
       "      <td>0</td>\n",
       "      <td>1</td>\n",
       "      <td>0</td>\n",
       "      <td>0</td>\n",
       "      <td>0</td>\n",
       "    </tr>\n",
       "    <tr>\n",
       "      <th>4</th>\n",
       "      <td>0</td>\n",
       "      <td>1</td>\n",
       "      <td>1</td>\n",
       "      <td>0</td>\n",
       "      <td>0</td>\n",
       "      <td>1</td>\n",
       "      <td>0</td>\n",
       "      <td>0</td>\n",
       "      <td>0</td>\n",
       "      <td>0</td>\n",
       "      <td>0</td>\n",
       "      <td>0</td>\n",
       "      <td>0</td>\n",
       "      <td>0</td>\n",
       "    </tr>\n",
       "  </tbody>\n",
       "</table>\n",
       "</div>"
      ],
      "text/plain": [
       "   ArtsCulture  BdComics  DocMedia  Erotisme  Esoterisme  HistGeo  Jeunesse  \\\n",
       "0            0         1         0         0           0        0         0   \n",
       "1            0         0         0         0           0        0         0   \n",
       "2            0         0         0         0           0        0         1   \n",
       "3            0         0         0         0           0        0         0   \n",
       "4            0         1         1         0           0        1         0   \n",
       "\n",
       "   LittEtrangere  LoisirVie  Philosophie  RomanFiction  SHS  SanteBE  \\\n",
       "0              0          0            0             1    0        0   \n",
       "1              1          0            0             1    0        0   \n",
       "2              1          0            0             1    0        0   \n",
       "3              0          0            0             1    0        0   \n",
       "4              0          0            0             0    0        0   \n",
       "\n",
       "   ScienceTechnique  \n",
       "0                 0  \n",
       "1                 0  \n",
       "2                 0  \n",
       "3                 0  \n",
       "4                 0  "
      ]
     },
     "execution_count": 3,
     "metadata": {},
     "output_type": "execute_result"
    }
   ],
   "source": [
    "# On montre les premières lignes de dataTheme\n",
    "dataTheme.head()"
   ]
  },
  {
   "cell_type": "code",
   "execution_count": 4,
   "metadata": {},
   "outputs": [
    {
     "name": "stdout",
     "output_type": "stream",
     "text": [
      "Les dimensions de dataTheme sont de : (1279, 14)\n"
     ]
    }
   ],
   "source": [
    "print('Les dimensions de dataTheme sont de : ' + str(dataTheme.shape))"
   ]
  },
  {
   "cell_type": "markdown",
   "metadata": {},
   "source": [
    "## Création des sets d'entraînement et de test\n",
    "\n",
    "On sépare le dataset en deux set distincts : un pour l'entraînement de notre modèle de prédiction et un pour tester ce modèle. On garde 25% des données pour le set de test."
   ]
  },
  {
   "cell_type": "code",
   "execution_count": 5,
   "metadata": {},
   "outputs": [],
   "source": [
    "train_data_theme, test_data_theme = train_test_split(dataTheme, test_size=0.25)"
   ]
  },
  {
   "cell_type": "markdown",
   "metadata": {},
   "source": [
    "## Filtrage collaboratif\n",
    "\n",
    "Nous allons prendre en considération deux modèle pour le filtrage collaboratif, le \"memory-based\" et le \"model-based\".\n",
    "\n",
    "D'abord, on crée une matrice utilisateur-thème pour l'entraînement des données."
   ]
  },
  {
   "cell_type": "code",
   "execution_count": 6,
   "metadata": {},
   "outputs": [],
   "source": [
    "train_data_theme_matrix = np.zeros((1279,14))\n",
    "for line in train_data_theme.itertuples():\n",
    "    train_data_theme_matrix[line[0], :] = line[1:]"
   ]
  },
  {
   "cell_type": "markdown",
   "metadata": {},
   "source": [
    "On crée ensuite une matrice utilisateur-thème pour tester le modèle."
   ]
  },
  {
   "cell_type": "code",
   "execution_count": 7,
   "metadata": {},
   "outputs": [],
   "source": [
    "test_data_theme_matrix = np.zeros((1279,14))\n",
    "for line in test_data_theme.itertuples():\n",
    "    test_data_theme_matrix[line[0], :] = line[1:]"
   ]
  },
  {
   "cell_type": "markdown",
   "metadata": {},
   "source": [
    "## Filtrage collaboratif avec la méthode Memory-Based \n",
    "\n",
    "L'idée sous-jacente derrière le modèle dit \"**memory-based**\" est de calculer et d'utiliser les **similarités** entre utilisateurs et/ou items -ici les thèmes- et d'utiliser ces facteurs comme des \"poids\"  permettant la prédiction d'un thème, d'une note attribuée à un livre, ou autre. \n",
    "\n",
    "Nous allons tester les deux types de filtrage collaboratif:\n",
    "\n",
    "* Item-Item \n",
    "* Utilisateur-Item \n",
    "\n",
    "Nous utilisons le coéfficient de similarité. Pour cela, nous importons la fonction \"pairwise_distances\" de sklearn. \n",
    "\n",
    "On calcule d'abord la similarité entre les utilisateurs."
   ]
  },
  {
   "cell_type": "code",
   "execution_count": 8,
   "metadata": {},
   "outputs": [],
   "source": [
    "from sklearn.metrics import pairwise\n",
    "user_similarity_theme = pairwise.cosine_similarity(train_data_theme_matrix)"
   ]
  },
  {
   "cell_type": "code",
   "execution_count": 9,
   "metadata": {},
   "outputs": [
    {
     "data": {
      "text/plain": [
       "array([[1.        , 0.5       , 0.40824829, 0.70710678, 0.40824829],\n",
       "       [0.5       , 1.        , 0.81649658, 0.70710678, 0.        ],\n",
       "       [0.40824829, 0.81649658, 1.        , 0.57735027, 0.        ],\n",
       "       [0.70710678, 0.70710678, 0.57735027, 1.        , 0.        ],\n",
       "       [0.40824829, 0.        , 0.        , 0.        , 1.        ]])"
      ]
     },
     "execution_count": 9,
     "metadata": {},
     "output_type": "execute_result"
    }
   ],
   "source": [
    "user_similarity_theme[:5, 0:5]"
   ]
  },
  {
   "cell_type": "markdown",
   "metadata": {},
   "source": [
    "Calcul de la similarité entre les thèmes :"
   ]
  },
  {
   "cell_type": "code",
   "execution_count": 10,
   "metadata": {},
   "outputs": [],
   "source": [
    "item_similarity_theme = pairwise.cosine_similarity(train_data_theme_matrix.T)"
   ]
  },
  {
   "cell_type": "code",
   "execution_count": 11,
   "metadata": {},
   "outputs": [
    {
     "data": {
      "text/plain": [
       "array([[1.        , 0.02030483, 0.25685795, 0.11356419, 0.19390934],\n",
       "       [0.02030483, 1.        , 0.14935173, 0.18438344, 0.13861599],\n",
       "       [0.25685795, 0.14935173, 1.        , 0.10280848, 0.17898615],\n",
       "       [0.11356419, 0.18438344, 0.10280848, 1.        , 0.06277525],\n",
       "       [0.19390934, 0.13861599, 0.17898615, 0.06277525, 1.        ]])"
      ]
     },
     "execution_count": 11,
     "metadata": {},
     "output_type": "execute_result"
    }
   ],
   "source": [
    "item_similarity_theme[:5, 0:5]"
   ]
  },
  {
   "cell_type": "markdown",
   "metadata": {},
   "source": [
    "On définit une méthode pour réaliser les prédictions. "
   ]
  },
  {
   "cell_type": "code",
   "execution_count": 12,
   "metadata": {},
   "outputs": [],
   "source": [
    "def predict(choices, similarity, kind='user'):\n",
    "    \n",
    "    sum_sim = np.array([np.abs(similarity).sum(axis=1)])\n",
    "    sum_sim[sum_sim == 0] = 1    \n",
    "    if kind == 'user':\n",
    "        return similarity.dot(choices) / sum_sim.T\n",
    "    elif kind == 'item':\n",
    "        return choices.dot(similarity) / sum_sim"
   ]
  },
  {
   "cell_type": "markdown",
   "metadata": {},
   "source": [
    "Cette méthode permet de prédire les thèmes susceptibles d'intéresser un utilisateur. Soit elle prend en considération les thèmes qui lui plaisent déjà, soit elle regarde les thèmes de prédilection d'autres utilisateurs ayant donné des réponses similaires."
   ]
  },
  {
   "cell_type": "code",
   "execution_count": 13,
   "metadata": {},
   "outputs": [],
   "source": [
    "item_prediction_theme = predict(train_data_theme_matrix, item_similarity_theme, 'item')"
   ]
  },
  {
   "cell_type": "code",
   "execution_count": 14,
   "metadata": {},
   "outputs": [
    {
     "data": {
      "text/plain": [
       "array([[0.09604396, 0.36963034, 0.12236471],\n",
       "       [0.18860455, 0.21682627, 0.1533126 ],\n",
       "       [0.20774754, 0.30433106, 0.18052897],\n",
       "       [0.09060544, 0.13035196, 0.08484096],\n",
       "       [0.14182016, 0.33700502, 0.36730329]])"
      ]
     },
     "execution_count": 14,
     "metadata": {},
     "output_type": "execute_result"
    }
   ],
   "source": [
    "item_prediction_theme[0:5,0:3]"
   ]
  },
  {
   "cell_type": "code",
   "execution_count": 15,
   "metadata": {},
   "outputs": [
    {
     "data": {
      "text/plain": [
       "array([[0.07925702, 0.4475034 , 0.09524782],\n",
       "       [0.12249504, 0.28444256, 0.10890049],\n",
       "       [0.11340962, 0.30294865, 0.10484112],\n",
       "       [0.09944364, 0.277193  , 0.09895893],\n",
       "       [0.10465499, 0.65329101, 0.30786225]])"
      ]
     },
     "execution_count": 15,
     "metadata": {},
     "output_type": "execute_result"
    }
   ],
   "source": [
    "user_prediction_theme = predict(train_data_theme_matrix, user_similarity_theme, 'user')\n",
    "user_prediction_theme[0:5,0:3]"
   ]
  },
  {
   "cell_type": "markdown",
   "metadata": {},
   "source": [
    "On mesure la performance du modèle avec le calcul de la RMSE (root-mean-square error), c'est-à-dire la racine carrée de l'erreur quadratique. Cette méthode compare les vraies réponses aux réponses prédites par notre modèle."
   ]
  },
  {
   "cell_type": "code",
   "execution_count": 16,
   "metadata": {},
   "outputs": [],
   "source": [
    "from sklearn.metrics import mean_squared_error\n",
    "from math import sqrt\n",
    "def rmse(prediction, true_value):\n",
    "    prediction = prediction.flatten()\n",
    "    true_value = true_value.flatten()\n",
    "    return sqrt(mean_squared_error(prediction, true_value))"
   ]
  },
  {
   "cell_type": "markdown",
   "metadata": {},
   "source": [
    "RMSE pour la prédiction basée sur la comparaison entre les utilisateurs. "
   ]
  },
  {
   "cell_type": "code",
   "execution_count": 17,
   "metadata": {},
   "outputs": [
    {
     "name": "stdout",
     "output_type": "stream",
     "text": [
      "RMSE basée sur les utilisateurs :  0.3733836128457446\n"
     ]
    }
   ],
   "source": [
    "user_CF_RMSE_theme = rmse(user_prediction_theme, test_data_theme_matrix)\n",
    "print('RMSE basée sur les utilisateurs : ', user_CF_RMSE_theme)"
   ]
  },
  {
   "cell_type": "code",
   "execution_count": 18,
   "metadata": {},
   "outputs": [
    {
     "name": "stdout",
     "output_type": "stream",
     "text": [
      "RMSE basée sur les thèmes :  0.357084117775764\n"
     ]
    }
   ],
   "source": [
    "item_CF_RMSE_theme = rmse(item_prediction_theme, test_data_theme_matrix)\n",
    "print('RMSE basée sur les thèmes : ', item_CF_RMSE_theme)"
   ]
  },
  {
   "cell_type": "markdown",
   "metadata": {},
   "source": [
    "## Filtrage collaboratif avec la méthode Model-based\n",
    "\n",
    "La même logique développée dans la partie précédente (cf. I.1 memory-based collaborative filtering) peut être utilisée dans la méthode dite \"model-based\" : les similarités entre utilisateurs et/ou items peuvent être calculées et associées à un *modèle*, et on peut ensuite utiliser ce modèle pour faire nos prédictions. \n",
    "\n",
    "Le filtrage collaboratif dit \"model-based\" repose sur la factorisation de matrice. \n",
    "\n",
    "Nous allons utiliser un algorithme \"SVD-based\" permettant de réduire les dimensions de notre set de données et de guarder les caractéristiques principales, c'est-à-dire déterminantes de nos prédictions."
   ]
  },
  {
   "cell_type": "markdown",
   "metadata": {
    "collapsed": true
   },
   "source": [
    "Check the sparsity of our dataset."
   ]
  },
  {
   "cell_type": "code",
   "execution_count": 19,
   "metadata": {},
   "outputs": [
    {
     "name": "stdout",
     "output_type": "stream",
     "text": [
      "The sparsity level of dataTheme is 92.9%\n"
     ]
    }
   ],
   "source": [
    "sparsity_theme=round(1.0-len(dataTheme)/float(1279*14),3)\n",
    "print('The sparsity level of dataTheme is ' +  str(sparsity_theme*100) + '%')"
   ]
  },
  {
   "cell_type": "markdown",
   "metadata": {
    "collapsed": true
   },
   "source": [
    "Decompose the train_data_theme_matrix using the SVD method."
   ]
  },
  {
   "cell_type": "code",
   "execution_count": 20,
   "metadata": {},
   "outputs": [],
   "source": [
    "import scipy.sparse as sp\n",
    "from scipy.sparse.linalg import svds\n",
    "\n",
    "#get SVD components from train matrix. Choose k.\n",
    "u, s, vt = svds(train_data_theme_matrix, k = 13)"
   ]
  },
  {
   "cell_type": "markdown",
   "metadata": {
    "collapsed": true
   },
   "source": [
    "Crée une matrice diagonale."
   ]
  },
  {
   "cell_type": "code",
   "execution_count": 21,
   "metadata": {},
   "outputs": [],
   "source": [
    "s_diag_matrix=np.diag(s)"
   ]
  },
  {
   "cell_type": "markdown",
   "metadata": {
    "collapsed": true
   },
   "source": [
    "Compute the rating predictions from the decomposition values."
   ]
  },
  {
   "cell_type": "code",
   "execution_count": 22,
   "metadata": {},
   "outputs": [],
   "source": [
    "X_pred_theme = np.dot(np.dot(u, s_diag_matrix), vt)"
   ]
  },
  {
   "cell_type": "markdown",
   "metadata": {},
   "source": [
    "Compute the model RMSE."
   ]
  },
  {
   "cell_type": "code",
   "execution_count": 23,
   "metadata": {},
   "outputs": [
    {
     "name": "stdout",
     "output_type": "stream",
     "text": [
      "SVD-based CF RMSE (k=1): 0.3748092165275526\n",
      "SVD-based CF RMSE (k=2): 0.39552446449588186\n",
      "SVD-based CF RMSE (k=3): 0.41093722962487567\n",
      "SVD-based CF RMSE (k=4): 0.4229056563497694\n",
      "SVD-based CF RMSE (k=5): 0.4326037430109687\n",
      "SVD-based CF RMSE (k=6): 0.440553097191172\n",
      "SVD-based CF RMSE (k=7): 0.4478338308454805\n",
      "SVD-based CF RMSE (k=8): 0.4548137464318242\n",
      "SVD-based CF RMSE (k=9): 0.4607089788213043\n",
      "SVD-based CF RMSE (k=10): 0.4659571666853469\n",
      "SVD-based CF RMSE (k=11): 0.4708338247902965\n",
      "SVD-based CF RMSE (k=12): 0.4748697062442431\n",
      "SVD-based CF RMSE (k=13): 0.4778878373281602\n"
     ]
    }
   ],
   "source": [
    "for k in [1, 2, 3, 4, 5, 6, 7, 8, 9, 10, 11, 12, 13]:\n",
    "    u, s, vt = svds(train_data_theme_matrix, k = k)\n",
    "    s_diag_matrix=np.diag(s)\n",
    "    X_pred_theme = np.dot(np.dot(u, s_diag_matrix), vt)\n",
    "    print('SVD-based CF RMSE (k={}): {}'.format(k, str(rmse(X_pred_theme, test_data_theme_matrix))))"
   ]
  },
  {
   "cell_type": "markdown",
   "metadata": {},
   "source": [
    "### PCA avec Scikit-Learn "
   ]
  },
  {
   "cell_type": "code",
   "execution_count": 24,
   "metadata": {},
   "outputs": [],
   "source": [
    "# on importe la librairie permettant la réduction de dimension de notre set de données sur les thèmes\n",
    "from sklearn.decomposition import PCA "
   ]
  },
  {
   "cell_type": "markdown",
   "metadata": {},
   "source": [
    "Ici, on détermine précisemment le nombre minimum de dimensions à garder pour préserver au moins 95% de la variance caractérisant notre set de données."
   ]
  },
  {
   "cell_type": "code",
   "execution_count": 73,
   "metadata": {},
   "outputs": [
    {
     "data": {
      "image/png": "[encoded data removed]",
      "text/plain": [
       "<Figure size 1080x720 with 1 Axes>"
      ]
     },
     "metadata": {
      "needs_background": "light"
     },
     "output_type": "display_data"
    },
    {
     "name": "stdout",
     "output_type": "stream",
     "text": [
      "\n",
      " nombre de dimensions du set après PCA : 13\n"
     ]
    }
   ],
   "source": [
    "# On détermine d, le nombre de dimensions après PCA\n",
    "pca = PCA()\n",
    "pca.fit(train_data_theme)\n",
    "cumsum = np.cumsum(pca.explained_variance_ratio_*100)\n",
    "d = np.argmax(cumsum >= 95)+1\n",
    "\n",
    "# On trace la variance cumulative en fonction du nombre de dimensions\n",
    "dim=np.arange(1,15)\n",
    "plt.plot(dim, cumsum)\n",
    "axes = plt.gca()\n",
    "plt.axhline(y=95,color=\"red\")\n",
    "plt.axvline(x=13, color=\"black\", linestyle='--')\n",
    "axes.xaxis.set_ticks(range(15))\n",
    "plt.axvspan(12, 13, facecolor='#2ca02c', alpha=0.3)\n",
    "plt.title(\"Variance expliquée en fonction du nombre de dimensions\")\n",
    "plt.xlabel(\"Dimensions\")\n",
    "plt.ylabel(\"Variance cumulative expliquée (%)\")\n",
    "plt.gcf().set_size_inches(15, 10)\n",
    "plt.show()\n",
    "\n",
    "print ('\\n nombre de dimensions du set après PCA : ' + str(d))"
   ]
  },
  {
   "cell_type": "markdown",
   "metadata": {},
   "source": [
    "Cela veut dire que l'on ne peut enlever qu'une seule dimension à notre set de données si on souhaite garder assez d'informations pour la prédiction. Cependant, comme nous pouvons le voir sur le graphique, réduire le set à 12 dimensions ne nous ferait pas dépasser de beaucoup la limite de variance cumulative généralement fixée à 95% de celle du set initial."
   ]
  },
  {
   "cell_type": "code",
   "execution_count": null,
   "metadata": {},
   "outputs": [],
   "source": []
  }
 ],
 "metadata": {
  "kernelspec": {
   "display_name": "Python 3",
   "language": "python",
   "name": "python3"
  },
  "language_info": {
   "codemirror_mode": {
    "name": "ipython",
    "version": 3
   },
   "file_extension": ".py",
   "mimetype": "text/x-python",
   "name": "python",
   "nbconvert_exporter": "python",
   "pygments_lexer": "ipython3",
   "version": "3.7.3"
  }
 },
 "nbformat": 4,
 "nbformat_minor": 1
}
