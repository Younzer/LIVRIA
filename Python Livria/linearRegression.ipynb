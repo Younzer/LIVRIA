{
 "cells": [
  {
   "cell_type": "markdown",
   "metadata": {},
   "source": [
    "# LIVRIA : Régression Linéaire pour la prédiction des thèmes\n",
    "\n",
    "\n",
    "Ce notebook comprend le code implementant notre modèle de régression linéaire pour la prédiction des thèmes susceptibles de plaire à l'utilisateur en fonction des critères d'entrée qu'il aura renseignés. Je précise que cela ne compose qu'une partie des prédictions, car ce modèle sera complété par des prédictions non pas de thèmes mais de livres par par la mise en place de filtrage collaboratif sur le set de données de Goodbooks-10k (Cf. "
   ]
  }
 ],
 "metadata": {
  "kernelspec": {
   "display_name": "Python 3 (ML)",
   "language": "python",
   "name": "ml"
  },
  "language_info": {
   "codemirror_mode": {
    "name": "ipython",
    "version": 3
   },
   "file_extension": ".py",
   "mimetype": "text/x-python",
   "name": "python",
   "nbconvert_exporter": "python",
   "pygments_lexer": "ipython3",
   "version": "3.5.4"
  }
 },
 "nbformat": 4,
 "nbformat_minor": 2
}
