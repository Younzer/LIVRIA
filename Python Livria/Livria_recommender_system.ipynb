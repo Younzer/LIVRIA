{
 "cells": [
  {
   "cell_type": "markdown",
   "metadata": {},
   "source": [
    "# LIVRIA : Recommandation des thèmes et des livres \n",
    "\n",
    "C'est dans ce notebook -que l'on peut considérer comme le dernier - que mettons en lumières les recommendations de nos différents modèles"
   ]
  },
  {
   "cell_type": "markdown",
   "metadata": {},
   "source": [
    "### Import des librairies et des données"
   ]
  },
  {
   "cell_type": "code",
   "execution_count": 1,
   "metadata": {},
   "outputs": [],
   "source": [
    "from ui import *\n",
    "livria = Livria()"
   ]
  },
  {
   "cell_type": "code",
   "execution_count": 2,
   "metadata": {},
   "outputs": [
    {
     "data": {
      "application/vnd.jupyter.widget-view+json": {
       "model_id": "9a8e61ad4d014acc89dc01417c2eb5b7",
       "version_major": 2,
       "version_minor": 0
      },
      "text/plain": [
       "RadioButtons(description='Renseignez votre sexe', options=('Homme', 'Femme'), value='Homme')"
      ]
     },
     "metadata": {},
     "output_type": "display_data"
    },
    {
     "data": {
      "application/vnd.jupyter.widget-view+json": {
       "model_id": "0e44f9b7af1a4c0bb7a72f0ae5edc15d",
       "version_major": 2,
       "version_minor": 0
      },
      "text/plain": [
       "SelectMultiple(description='Sélectionnez les items qui vous définissent le mieux', options=('Calme', 'Intellec…"
      ]
     },
     "metadata": {},
     "output_type": "display_data"
    },
    {
     "data": {
      "application/vnd.jupyter.widget-view+json": {
       "model_id": "3c5186bbb96b4fad9711fa9d8ed0ec71",
       "version_major": 2,
       "version_minor": 0
      },
      "text/plain": [
       "SelectMultiple(description='Quels sont vos passe-temps ?', options=('Sport', 'Dessin', 'Rien faire', 'Jeux vid…"
      ]
     },
     "metadata": {},
     "output_type": "display_data"
    },
    {
     "data": {
      "application/vnd.jupyter.widget-view+json": {
       "model_id": "89a3bcf1aafe42edbef2609a5628d045",
       "version_major": 2,
       "version_minor": 0
      },
      "text/plain": [
       "SelectMultiple(description=\"Qu'est ce qui vous plaît dans un livre ?\", options=('Voyage', 'FacileLire', 'Refle…"
      ]
     },
     "metadata": {},
     "output_type": "display_data"
    }
   ],
   "source": [
    "display_quest()"
   ]
  },
  {
   "cell_type": "code",
   "execution_count": 7,
   "metadata": {},
   "outputs": [
    {
     "data": {
      "text/html": [
       "<div>\n",
       "<style scoped>\n",
       "    .dataframe tbody tr th:only-of-type {\n",
       "        vertical-align: middle;\n",
       "    }\n",
       "\n",
       "    .dataframe tbody tr th {\n",
       "        vertical-align: top;\n",
       "    }\n",
       "\n",
       "    .dataframe thead th {\n",
       "        text-align: right;\n",
       "    }\n",
       "</style>\n",
       "<table border=\"1\" class=\"dataframe\">\n",
       "  <thead>\n",
       "    <tr style=\"text-align: right;\">\n",
       "      <th></th>\n",
       "      <th>Agite</th>\n",
       "      <th>Altruiste</th>\n",
       "      <th>Ambitieux</th>\n",
       "      <th>Amusant</th>\n",
       "      <th>Autoritaire</th>\n",
       "      <th>Aventurier</th>\n",
       "      <th>Calme</th>\n",
       "      <th>Connaissance</th>\n",
       "      <th>Consciencieux</th>\n",
       "      <th>Creatif</th>\n",
       "      <th>Cuisine</th>\n",
       "      <th>Curieux</th>\n",
       "      <th>Dessin</th>\n",
       "      <th>Esprit</th>\n",
       "      <th>FacileLire</th>\n",
       "      <th>Geek</th>\n",
       "      <th>Intellectuel</th>\n",
       "      <th>Introverti</th>\n",
       "      <th>Jaloux</th>\n",
       "      <th>Jeux videos</th>\n",
       "      <th>Meditation</th>\n",
       "      <th>Pantouflard</th>\n",
       "      <th>Personnage</th>\n",
       "      <th>Reflechir</th>\n",
       "      <th>Reserve</th>\n",
       "      <th>Rien faire</th>\n",
       "      <th>Sexe</th>\n",
       "      <th>Sociable</th>\n",
       "      <th>Sport</th>\n",
       "      <th>Sportif</th>\n",
       "      <th>Style</th>\n",
       "      <th>Theatre</th>\n",
       "      <th>Tout</th>\n",
       "      <th>Voyage</th>\n",
       "    </tr>\n",
       "  </thead>\n",
       "  <tbody>\n",
       "    <tr>\n",
       "      <th>0</th>\n",
       "      <td>0</td>\n",
       "      <td>0</td>\n",
       "      <td>0</td>\n",
       "      <td>0</td>\n",
       "      <td>0</td>\n",
       "      <td>0</td>\n",
       "      <td>1</td>\n",
       "      <td>0</td>\n",
       "      <td>0</td>\n",
       "      <td>0</td>\n",
       "      <td>0</td>\n",
       "      <td>0</td>\n",
       "      <td>1</td>\n",
       "      <td>0</td>\n",
       "      <td>1</td>\n",
       "      <td>0</td>\n",
       "      <td>1</td>\n",
       "      <td>0</td>\n",
       "      <td>0</td>\n",
       "      <td>0</td>\n",
       "      <td>0</td>\n",
       "      <td>0</td>\n",
       "      <td>0</td>\n",
       "      <td>0</td>\n",
       "      <td>0</td>\n",
       "      <td>0</td>\n",
       "      <td>0</td>\n",
       "      <td>0</td>\n",
       "      <td>1</td>\n",
       "      <td>0</td>\n",
       "      <td>0</td>\n",
       "      <td>0</td>\n",
       "      <td>0</td>\n",
       "      <td>1</td>\n",
       "    </tr>\n",
       "  </tbody>\n",
       "</table>\n",
       "</div>"
      ],
      "text/plain": [
       "   Agite  Altruiste  Ambitieux  Amusant  Autoritaire  Aventurier  Calme  \\\n",
       "0      0          0          0        0            0           0      1   \n",
       "\n",
       "   Connaissance  Consciencieux  Creatif  Cuisine  Curieux  Dessin  Esprit  \\\n",
       "0             0              0        0        0        0       1       0   \n",
       "\n",
       "   FacileLire  Geek  Intellectuel  Introverti  Jaloux  Jeux videos  \\\n",
       "0           1     0             1           0       0            0   \n",
       "\n",
       "   Meditation  Pantouflard  Personnage  Reflechir  Reserve  Rien faire  Sexe  \\\n",
       "0           0            0           0          0        0           0     0   \n",
       "\n",
       "   Sociable  Sport  Sportif  Style  Theatre  Tout  Voyage  \n",
       "0         0      1        0      0        0     0       1  "
      ]
     },
     "execution_count": 7,
     "metadata": {},
     "output_type": "execute_result"
    }
   ],
   "source": [
    "livria.enr_crits(s_sexe.value, s_pers.value, s_passe_t.value, s_attentes.value)\n",
    "livria.car_input"
   ]
  },
  {
   "cell_type": "code",
   "execution_count": 8,
   "metadata": {},
   "outputs": [
    {
     "name": "stdout",
     "output_type": "stream",
     "text": [
      "**Calculs des prédictions pour ArtsCulture...**\n",
      "[0]\n",
      "**Calculs des prédictions pour BdComics...**\n",
      "[0]\n",
      "**Calculs des prédictions pour DocMedia...**\n",
      "[0]\n",
      "**Calculs des prédictions pour Erotisme...**\n",
      "[0]\n",
      "**Calculs des prédictions pour Esoterisme...**\n",
      "[0]\n",
      "**Calculs des prédictions pour HistGeo...**\n",
      "[0]\n",
      "**Calculs des prédictions pour Jeunesse...**\n",
      "[0]\n",
      "**Calculs des prédictions pour LittEtrangere...**\n",
      "[0]\n",
      "**Calculs des prédictions pour LoisirVie...**\n",
      "[0]\n",
      "**Calculs des prédictions pour Philosophie...**\n",
      "[0]\n",
      "**Calculs des prédictions pour RomanFiction...**\n",
      "[1]\n",
      "**Calculs des prédictions pour SHS...**\n",
      "[0]\n",
      "**Calculs des prédictions pour SanteBE...**\n",
      "[0]\n",
      "**Calculs des prédictions pour ScienceTechnique...**\n",
      "[0]\n"
     ]
    }
   ],
   "source": [
    "livria.predict()"
   ]
  },
  {
   "cell_type": "code",
   "execution_count": null,
   "metadata": {},
   "outputs": [],
   "source": []
  },
  {
   "cell_type": "code",
   "execution_count": 5,
   "metadata": {},
   "outputs": [
    {
     "data": {
      "text/plain": [
       "sklearn.linear_model.logistic.LogisticRegression"
      ]
     },
     "execution_count": 5,
     "metadata": {},
     "output_type": "execute_result"
    }
   ],
   "source": [
    "LogisticRegression"
   ]
  },
  {
   "cell_type": "markdown",
   "metadata": {},
   "source": [
    "### Affichage des livres"
   ]
  },
  {
   "cell_type": "markdown",
   "metadata": {},
   "source": [
    "Ici, nous allons crée la fonction permettant d'afficher proprement les livres avec leur page de couverture, le titre l'auteur et la note moyenne. On commence par nettoyer le DataFrame des colonnes d'ont nous n'avons pas besoin ici."
   ]
  },
  {
   "cell_type": "code",
   "execution_count": 6,
   "metadata": {},
   "outputs": [
    {
     "ename": "NameError",
     "evalue": "name 'enr_crits' is not defined",
     "output_type": "error",
     "traceback": [
      "\u001b[0;31m---------------------------------------------------------------------------\u001b[0m",
      "\u001b[0;31mNameError\u001b[0m                                 Traceback (most recent call last)",
      "\u001b[0;32m<ipython-input-6-3ac90194b3f9>\u001b[0m in \u001b[0;36m<module>\u001b[0;34m()\u001b[0m\n\u001b[0;32m----> 1\u001b[0;31m \u001b[0mupdate\u001b[0m \u001b[0;34m=\u001b[0m \u001b[0mwg\u001b[0m\u001b[0;34m.\u001b[0m\u001b[0minteract\u001b[0m\u001b[0;34m(\u001b[0m\u001b[0menr_crits\u001b[0m\u001b[0;34m,\u001b[0m \u001b[0msexe\u001b[0m\u001b[0;34m=\u001b[0m\u001b[0mradio_sexe\u001b[0m\u001b[0;34m,\u001b[0m \u001b[0mcar\u001b[0m\u001b[0;34m=\u001b[0m\u001b[0msel_m_car\u001b[0m\u001b[0;34m,\u001b[0m \u001b[0mpt\u001b[0m\u001b[0;34m=\u001b[0m\u001b[0msel_m_pt\u001b[0m\u001b[0;34m,\u001b[0m \u001b[0mattentes\u001b[0m\u001b[0;34m=\u001b[0m\u001b[0msel_m_attentes\u001b[0m\u001b[0;34m)\u001b[0m\u001b[0;34m\u001b[0m\u001b[0m\n\u001b[0m\u001b[1;32m      2\u001b[0m \u001b[0;34m\u001b[0m\u001b[0m\n\u001b[1;32m      3\u001b[0m \u001b[0mupdate\u001b[0m\u001b[0;34m\u001b[0m\u001b[0m\n\u001b[1;32m      4\u001b[0m \u001b[0mcriteres_entree\u001b[0m\u001b[0;34m\u001b[0m\u001b[0m\n",
      "\u001b[0;31mNameError\u001b[0m: name 'enr_crits' is not defined"
     ]
    }
   ],
   "source": [
    "update = wg.interact(enr_crits, sexe=radio_sexe, car=sel_m_car, pt=sel_m_pt, attentes=sel_m_attentes)\n",
    "\n",
    "update\n",
    "criteres_entree"
   ]
  },
  {
   "cell_type": "markdown",
   "metadata": {},
   "source": [
    "On crée la fonction qui nous permettra d'afficher les livres :"
   ]
  },
  {
   "cell_type": "code",
   "execution_count": null,
   "metadata": {},
   "outputs": [],
   "source": []
  },
  {
   "cell_type": "code",
   "execution_count": null,
   "metadata": {},
   "outputs": [],
   "source": [
    "# On teste la fonction\n",
    "livresMontres = books.loc[books['book_id'].isin([1,9,2])]\n",
    "show_books(livresMontres) # Elle prend en entrée un dataFrame avec les livres que nous souhaitons afficher"
   ]
  },
  {
   "cell_type": "markdown",
   "metadata": {},
   "source": [
    "## Préparation et entrainement des données pour la prédiction de thèmes"
   ]
  },
  {
   "cell_type": "code",
   "execution_count": null,
   "metadata": {},
   "outputs": [],
   "source": [
    "\n",
    "\n",
    "criteres_entree"
   ]
  },
  {
   "cell_type": "markdown",
   "metadata": {},
   "source": [
    "# Recommandations"
   ]
  },
  {
   "cell_type": "markdown",
   "metadata": {},
   "source": [
    "## A l'entrée de l'application "
   ]
  },
  {
   "cell_type": "code",
   "execution_count": null,
   "metadata": {},
   "outputs": [],
   "source": [
    "\n",
    "    \n",
    "    "
   ]
  },
  {
   "cell_type": "markdown",
   "metadata": {},
   "source": [
    "Veuillez répondre au questions ci-dessous :"
   ]
  },
  {
   "cell_type": "code",
   "execution_count": null,
   "metadata": {},
   "outputs": [],
   "source": [
    "questions()"
   ]
  },
  {
   "cell_type": "code",
   "execution_count": null,
   "metadata": {},
   "outputs": [],
   "source": []
  },
  {
   "cell_type": "code",
   "execution_count": null,
   "metadata": {},
   "outputs": [],
   "source": [
    "def get_recommendations(name,sim):\n",
    "   # indx=df_book_new.loc[df_book_new['title']==name].index\n",
    "    indx=book_indices[name]\n",
    "    sim_scores=list(enumerate(sim[indx]))\n",
    "    new=sorted(sim_scores,key=lambda x: x[1],reverse=True)\n",
    "   \n",
    "    new=new[1:11]\n",
    "    #print(new)\n",
    "    book_idx=[x[0] for x in new]\n",
    "    return (df_book_new['title'].iloc[book_idx])"
   ]
  },
  {
   "cell_type": "code",
   "execution_count": null,
   "metadata": {},
   "outputs": [],
   "source": [
    "sel_m_attentes.value.info()"
   ]
  },
  {
   "cell_type": "code",
   "execution_count": null,
   "metadata": {},
   "outputs": [],
   "source": [
    "book = books.query(\"book_id == 11\")\n",
    "Image(url= book['image_url'], width=100, height=100)"
   ]
  },
  {
   "cell_type": "code",
   "execution_count": null,
   "metadata": {},
   "outputs": [],
   "source": []
  },
  {
   "cell_type": "code",
   "execution_count": null,
   "metadata": {},
   "outputs": [],
   "source": [
    "total = 0\n",
    "\n",
    "def doA():\n",
    "    # not accessing global total\n",
    "    total = 10\n",
    "\n",
    "def doB():\n",
    "    global total\n",
    "    total = total + 1\n",
    "\n",
    "def checkTotal():\n",
    "    # global total - not required as global is required\n",
    "    # only for assignment - thanks for comment Greg\n",
    "    print (total)"
   ]
  },
  {
   "cell_type": "code",
   "execution_count": null,
   "metadata": {},
   "outputs": [],
   "source": [
    "doA()\n",
    "doB()\n",
    "checkTotal()"
   ]
  },
  {
   "cell_type": "code",
   "execution_count": null,
   "metadata": {},
   "outputs": [],
   "source": [
    "def recommendation(user_id):\n",
    "    user = book.copy()\n",
    "    already_read = books_data[books_data['user_id'] == user_id]['book_id'].unique()\n",
    "    user = user.reset_index()\n",
    "    user = user[~user['book_id'].isin(already_read)]\n",
    "    user['Estimate_Score']=user['book_id'].apply(lambda x: algo.predict(user_id, x).est)\n",
    "    user = user.drop('book_id', axis = 1)\n",
    "    user = user.sort_values('Estimate_Score', ascending=False)\n",
    "    print(user.head(10))"
   ]
  },
  {
   "cell_type": "code",
   "execution_count": null,
   "metadata": {},
   "outputs": [],
   "source": []
  },
  {
   "cell_type": "code",
   "execution_count": null,
   "metadata": {},
   "outputs": [],
   "source": []
  }
 ],
 "metadata": {
  "kernelspec": {
   "display_name": "Python 3 (ML)",
   "language": "python",
   "name": "ml"
  },
  "language_info": {
   "codemirror_mode": {
    "name": "ipython",
    "version": 3
   },
   "file_extension": ".py",
   "mimetype": "text/x-python",
   "name": "python",
   "nbconvert_exporter": "python",
   "pygments_lexer": "ipython3",
   "version": "3.5.4"
  }
 },
 "nbformat": 4,
 "nbformat_minor": 2
}
