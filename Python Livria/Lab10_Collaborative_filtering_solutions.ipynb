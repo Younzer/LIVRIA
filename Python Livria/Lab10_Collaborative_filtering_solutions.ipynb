{
 "cells": [
  {
   "cell_type": "markdown",
   "metadata": {},
   "source": [
    "# LAB 10: Recommender Systems based on Collaborative filtering\n",
    "\n",
    "In this lab, we will develop a recommender system based on collaborative filtering technics.\n",
    "\n",
    "We will use the MovieLens dataset (https://grouplens.org/datasets/movielens/).\n",
    "\n",
    "* The dataset has been downloaded from http://files.grouplens.org/datasets/movielens/ml-100k.zip.\n",
    "\n",
    "* The full used dataset contains 100000 ratings by 943 users on 1682 items.\n",
    "* Each user has rated at least 20 movies.  \n",
    "* Users and items are numbered consecutively from 1.  \n"
   ]
  },
  {
   "cell_type": "markdown",
   "metadata": {},
   "source": [
    "## Import libraries\n",
    "\n",
    "First, we import libraries used in this lab."
   ]
  },
  {
   "cell_type": "code",
   "execution_count": 953,
   "metadata": {},
   "outputs": [],
   "source": [
    "import numpy as np\n",
    "import pandas as pd\n",
    "\n",
    "from sklearn.model_selection import train_test_split\n",
    "\n",
    "# Plot data\n",
    "import matplotlib.pyplot as plt\n",
    "%matplotlib inline"
   ]
  },
  {
   "cell_type": "markdown",
   "metadata": {},
   "source": [
    "## Load data\n",
    "\n",
    "Data has been downloaded into the '../../ressources/LAB11_Collaborative_filtering/ml-100k' directory.\n"
   ]
  },
  {
   "cell_type": "code",
   "execution_count": 954,
   "metadata": {},
   "outputs": [],
   "source": [
    "path = './ml-100k/'\n",
    "header = ['user_id', 'item_id', 'rating', 'timestamp']\n",
    "ratings = pd.read_csv(path+'u.data', sep='\\t', names=header)"
   ]
  },
  {
   "cell_type": "markdown",
   "metadata": {},
   "source": [
    "## Explore and prepare data\n",
    "\n",
    "\n",
    "Display the dataframe top rows."
   ]
  },
  {
   "cell_type": "code",
   "execution_count": 955,
   "metadata": {},
   "outputs": [
    {
     "data": {
      "text/html": [
       "<div>\n",
       "<style scoped>\n",
       "    .dataframe tbody tr th:only-of-type {\n",
       "        vertical-align: middle;\n",
       "    }\n",
       "\n",
       "    .dataframe tbody tr th {\n",
       "        vertical-align: top;\n",
       "    }\n",
       "\n",
       "    .dataframe thead th {\n",
       "        text-align: right;\n",
       "    }\n",
       "</style>\n",
       "<table border=\"1\" class=\"dataframe\">\n",
       "  <thead>\n",
       "    <tr style=\"text-align: right;\">\n",
       "      <th></th>\n",
       "      <th>user_id</th>\n",
       "      <th>item_id</th>\n",
       "      <th>rating</th>\n",
       "      <th>timestamp</th>\n",
       "    </tr>\n",
       "  </thead>\n",
       "  <tbody>\n",
       "    <tr>\n",
       "      <th>0</th>\n",
       "      <td>196</td>\n",
       "      <td>242</td>\n",
       "      <td>3</td>\n",
       "      <td>881250949</td>\n",
       "    </tr>\n",
       "    <tr>\n",
       "      <th>1</th>\n",
       "      <td>186</td>\n",
       "      <td>302</td>\n",
       "      <td>3</td>\n",
       "      <td>891717742</td>\n",
       "    </tr>\n",
       "    <tr>\n",
       "      <th>2</th>\n",
       "      <td>22</td>\n",
       "      <td>377</td>\n",
       "      <td>1</td>\n",
       "      <td>878887116</td>\n",
       "    </tr>\n",
       "    <tr>\n",
       "      <th>3</th>\n",
       "      <td>244</td>\n",
       "      <td>51</td>\n",
       "      <td>2</td>\n",
       "      <td>880606923</td>\n",
       "    </tr>\n",
       "    <tr>\n",
       "      <th>4</th>\n",
       "      <td>166</td>\n",
       "      <td>346</td>\n",
       "      <td>1</td>\n",
       "      <td>886397596</td>\n",
       "    </tr>\n",
       "  </tbody>\n",
       "</table>\n",
       "</div>"
      ],
      "text/plain": [
       "   user_id  item_id  rating  timestamp\n",
       "0      196      242       3  881250949\n",
       "1      186      302       3  891717742\n",
       "2       22      377       1  878887116\n",
       "3      244       51       2  880606923\n",
       "4      166      346       1  886397596"
      ]
     },
     "execution_count": 955,
     "metadata": {},
     "output_type": "execute_result"
    }
   ],
   "source": [
    "ratings.head()"
   ]
  },
  {
   "cell_type": "code",
   "execution_count": 956,
   "metadata": {},
   "outputs": [
    {
     "data": {
      "text/plain": [
       "(100000, 4)"
      ]
     },
     "execution_count": 956,
     "metadata": {},
     "output_type": "execute_result"
    }
   ],
   "source": [
    "ratings.shape"
   ]
  },
  {
   "cell_type": "markdown",
   "metadata": {},
   "source": [
    "Get the number of (unique) users and (unique) items which are movies."
   ]
  },
  {
   "cell_type": "code",
   "execution_count": 957,
   "metadata": {},
   "outputs": [
    {
     "name": "stdout",
     "output_type": "stream",
     "text": [
      "Number of users = 943 | Number of movies = 1682\n"
     ]
    }
   ],
   "source": [
    "n_users = ratings.user_id.unique().shape[0]\n",
    "n_items = ratings.item_id.unique().shape[0]\n",
    "print ('Number of users = ' + str(n_users) + ' | Number of movies = ' + str(n_items))"
   ]
  },
  {
   "cell_type": "markdown",
   "metadata": {},
   "source": [
    "## Split the dataset into train and test data\n",
    "\n",
    "We split the dataset into train and test data. We keep 25% for test data."
   ]
  },
  {
   "cell_type": "code",
   "execution_count": 958,
   "metadata": {},
   "outputs": [
    {
     "name": "stdout",
     "output_type": "stream",
     "text": [
      "       user_id  item_id  rating  timestamp\n",
      "54729      435      222       3  884132027\n",
      "55369      745      515       4  880122863\n",
      "99931      379      621       4  880525815\n",
      "69177      851     1047       3  874789005\n",
      "67206      846     1311       2  883950712\n",
      "69536      906      696       4  879435758\n",
      "45985      560      111       3  879976731\n",
      "43187        7      540       3  892132972\n",
      "93031      735     1012       2  876698897\n",
      "23998      145      929       2  888398069\n",
      "41147        5      396       5  875636265\n",
      "60879      823      124       4  878437925\n",
      "90341      429      936       4  882385934\n",
      "11867        7      185       5  892135346\n",
      "84641      717      121       2  884642762\n",
      "53511       85      173       3  879454045\n",
      "79239      880      375       1  880242782\n",
      "62618      848      899       3  887037471\n",
      "91816      648      364       5  884882528\n",
      "59798      452      132       2  875560255\n",
      "61139      840      506       5  891204385\n",
      "80178      937       14       4  876769080\n",
      "45401      131        9       5  883681723\n",
      "2848       292       86       4  881105778\n",
      "52716      788       51       4  880870018\n",
      "57132      578      258       1  888957735\n",
      "33496      336      186       4  877757730\n",
      "38229      511      908       4  890004938\n",
      "62897      758      474       5  881976089\n",
      "38843      637      831       1  882904961\n",
      "...        ...      ...     ...        ...\n",
      "3346       143      331       5  888407622\n",
      "9643       385      221       5  881398053\n",
      "88296      881      215       3  876538726\n",
      "19361      451      294       5  879012470\n",
      "93218      817      222       4  874815835\n",
      "62121      307       64       4  879283371\n",
      "9992       145      413       3  877343280\n",
      "61097      487      596       5  883441956\n",
      "62098      863      333       5  889289123\n",
      "68228      102      384       2  892993827\n",
      "85060      296      153       4  884197419\n",
      "38727      537      553       2  886032123\n",
      "34289      280      156       4  891700643\n",
      "5410       234       14       3  891227730\n",
      "38444      634      221       1  875729105\n",
      "80769      833      508       5  875035953\n",
      "85187      201      806       3  884140049\n",
      "38481      493      273       4  884131717\n",
      "80944      939      597       4  880261610\n",
      "49085      305      713       4  886323115\n",
      "76952      924      211       3  885457891\n",
      "75348      597     1016       4  875342355\n",
      "39567      396      717       3  884646467\n",
      "98674      479      496       3  879461084\n",
      "27069      268      179       4  875309258\n",
      "54693      452      509       4  875560790\n",
      "39355      592      533       4  882608827\n",
      "28903       44      231       2  878347915\n",
      "80532      615      699       3  879448823\n",
      "82086      815      945       4  878697261\n",
      "\n",
      "[75000 rows x 4 columns]\n",
      "       user_id  item_id  rating  timestamp\n",
      "66590      896      436       3  887159692\n",
      "88134      601      228       5  876350400\n",
      "51723      716       95       4  879794775\n",
      "18437       62      229       3  879375977\n",
      "68028      487      380       2  883531466\n",
      "10769      375      356       4  886622131\n",
      "66503      622      280       3  882590534\n",
      "55922      782      690       4  891497793\n",
      "44158      405        8       4  885545015\n",
      "57922      380      208       2  885480301\n",
      "22784      244       66       4  880607683\n",
      "66690      360       69       3  880355994\n",
      "59522      653      380       3  880151984\n",
      "22323       95      451       3  880572249\n",
      "41448       11      662       3  891904300\n",
      "18743      210      179       3  887736429\n",
      "39926      360      271       2  880354839\n",
      "32580       30      892       4  884310496\n",
      "24788      267     1090       3  878973854\n",
      "1953       199      258       4  883782403\n",
      "81749      833       55       3  875038807\n",
      "26807      502      683       3  883702867\n",
      "8734        43       54       3  883956494\n",
      "19479       13      678       3  882140792\n",
      "84831      838       82       4  887066783\n",
      "27663      269      783       1  891451889\n",
      "95370       85      520       3  882996257\n",
      "375         87       40       3  879876917\n",
      "12313       13      617       3  881515112\n",
      "61428      128      501       3  879968921\n",
      "...        ...      ...     ...        ...\n",
      "17516      256      775       5  882165269\n",
      "93039      416      124       4  876697017\n",
      "64984      373      177       3  877100161\n",
      "46745      638      265       5  876695216\n",
      "81481       15      322       3  879455262\n",
      "83476      888      274       4  879365497\n",
      "89563      655      944       3  891585504\n",
      "6192       244      226       1  880602264\n",
      "20875      281      288       4  881200264\n",
      "99927      102      172       3  888801232\n",
      "50883       60      708       4  883326784\n",
      "81446      660      393       2  891201541\n",
      "78719      303      805       4  879485475\n",
      "94206      922      127       3  891453105\n",
      "28751      512       11       5  888579520\n",
      "99393      907      288       5  880158476\n",
      "5275        72       82       3  880037242\n",
      "45735      478      959       4  889396049\n",
      "11237      109      248       2  880564415\n",
      "96398       49      300       1  888065577\n",
      "87900      578      268       2  890939697\n",
      "6484       279      408       5  875249210\n",
      "51607      786      177       4  882843646\n",
      "59621      592      730       4  882956011\n",
      "27730       15       15       4  879455939\n",
      "90668      908       79       4  879722850\n",
      "91768      897      125       4  879993314\n",
      "68800      741      790       3  891457456\n",
      "51443      788      723       3  880870207\n",
      "72641      821      476       4  874792403\n",
      "\n",
      "[25000 rows x 4 columns]\n"
     ]
    }
   ],
   "source": [
    "train_data, test_data = train_test_split(ratings, test_size=0.25)\n",
    "print(train_data)\n",
    "print(test_data)"
   ]
  },
  {
   "cell_type": "markdown",
   "metadata": {},
   "source": [
    "## Collaborative filtering\n",
    "\n",
    "We will consider memory-based and model-based collaborative filtering.\n",
    "\n",
    "First, we create the user-item matrix for training data."
   ]
  },
  {
   "cell_type": "code",
   "execution_count": 959,
   "metadata": {},
   "outputs": [
    {
     "name": "stdout",
     "output_type": "stream",
     "text": [
      "[[0. 3. 4. ... 0. 0. 0.]\n",
      " [4. 0. 0. ... 0. 0. 0.]\n",
      " [0. 0. 0. ... 0. 0. 0.]\n",
      " ...\n",
      " [5. 0. 0. ... 0. 0. 0.]\n",
      " [0. 0. 0. ... 0. 0. 0.]\n",
      " [0. 5. 0. ... 0. 0. 0.]]\n"
     ]
    }
   ],
   "source": [
    "#Create two user-item matrices, one for training and another for testing\n",
    "train_data_matrix = np.zeros((n_users, n_items))\n",
    "for line in train_data.itertuples():\n",
    "    train_data_matrix[line[1]-1, line[2]-1] = line[3]\n",
    "print(train_data_matrix)"
   ]
  },
  {
   "cell_type": "markdown",
   "metadata": {},
   "source": [
    "We create the user-item matrix for testing data."
   ]
  },
  {
   "cell_type": "code",
   "execution_count": 960,
   "metadata": {},
   "outputs": [
    {
     "name": "stdout",
     "output_type": "stream",
     "text": [
      "[[5. 0. 0. ... 0. 0. 0.]\n",
      " [0. 0. 0. ... 0. 0. 0.]\n",
      " [0. 0. 0. ... 0. 0. 0.]\n",
      " ...\n",
      " [0. 0. 0. ... 0. 0. 0.]\n",
      " [0. 0. 0. ... 0. 0. 0.]\n",
      " [0. 0. 0. ... 0. 0. 0.]]\n"
     ]
    }
   ],
   "source": [
    "test_data_matrix = np.zeros((n_users, n_items))\n",
    "for line in test_data.itertuples():\n",
    "    test_data_matrix[line[1]-1, line[2]-1] = line[3]\n",
    "    \n",
    "print(test_data_matrix)"
   ]
  },
  {
   "cell_type": "markdown",
   "metadata": {},
   "source": [
    "### Memory-Based Collaborative Filtering\n",
    "\n",
    "The main idea behind **memory-based** collaborative filtering is to calculate and use the **similarities** between users and/or items and use them as \"weights\" to predict a rating for a user and an item. \n",
    "\n",
    "We will test both:\n",
    "\n",
    "* Item-Item Collaborative Filtering\n",
    "* User-Item Collaborative Filtering\n",
    "\n",
    "We use the cosine similarity. For this purpose, we use the pairwise_distances function from sklearn to calculate the cosine similarity. \n",
    "\n",
    "First, compute the similarity between users."
   ]
  },
  {
   "cell_type": "code",
   "execution_count": 961,
   "metadata": {},
   "outputs": [
    {
     "name": "stdout",
     "output_type": "stream",
     "text": [
      "(943, 943)\n"
     ]
    }
   ],
   "source": [
    "from sklearn.metrics import pairwise\n",
    "user_similarity = pairwise.cosine_similarity(train_data_matrix)\n",
    "print(user_similarity.shape)"
   ]
  },
  {
   "cell_type": "markdown",
   "metadata": {},
   "source": [
    "Compute the similarity between items (movies)."
   ]
  },
  {
   "cell_type": "code",
   "execution_count": 962,
   "metadata": {},
   "outputs": [
    {
     "data": {
      "text/plain": [
       "array([[1.        , 0.12277321, 0.0443837 , 0.01913439, 0.26252322,\n",
       "        0.34500381, 0.33618687, 0.18174035, 0.05023975, 0.30448736,\n",
       "        0.25178965, 0.20723227, 0.38381141, 0.23187204, 0.13270086,\n",
       "        0.27996074, 0.17837499, 0.36882912, 0.10539678, 0.19877594,\n",
       "        0.14918994, 0.22489869, 0.30212389, 0.20371273, 0.21628374],\n",
       "       [0.12277321, 1.        , 0.10899961, 0.14192275, 0.04243365,\n",
       "        0.20167526, 0.0822419 , 0.04115023, 0.12140179, 0.06791461,\n",
       "        0.10945425, 0.07472248, 0.19247136, 0.13356013, 0.46417032,\n",
       "        0.09908782, 0.21224712, 0.1090637 , 0.08494904, 0.06833907,\n",
       "        0.1278567 , 0.03377375, 0.1322182 , 0.11125677, 0.09397444],\n",
       "       [0.0443837 , 0.10899961, 1.        , 0.17615786, 0.02830531,\n",
       "        0.04217824, 0.05021873, 0.05426119, 0.        , 0.01632876,\n",
       "        0.06610565, 0.01459703, 0.11537311, 0.02831578, 0.07196062,\n",
       "        0.04442544, 0.00691041, 0.01071658, 0.0674498 , 0.06230016,\n",
       "        0.09536596, 0.0446941 , 0.02639441, 0.05953228, 0.        ],\n",
       "       [0.01913439, 0.14192275, 0.17615786, 1.        , 0.        ,\n",
       "        0.06076736, 0.08182256, 0.11734857, 0.07620818, 0.        ,\n",
       "        0.07008246, 0.08041017, 0.1096327 , 0.03587589, 0.12197138,\n",
       "        0.0550631 , 0.        , 0.03050094, 0.04954112, 0.09239751,\n",
       "        0.10825171, 0.01477229, 0.04652736, 0.12935545, 0.07538599],\n",
       "       [0.26252322, 0.04243365, 0.02830531, 0.        , 1.        ,\n",
       "        0.18129804, 0.31951245, 0.25188429, 0.04190323, 0.14869681,\n",
       "        0.20127299, 0.10862849, 0.29523304, 0.20924216, 0.03276223,\n",
       "        0.24534456, 0.10826533, 0.20240869, 0.03913834, 0.21523285,\n",
       "        0.11922596, 0.34077473, 0.28119427, 0.12435887, 0.24142067],\n",
       "       [0.34500381, 0.20167526, 0.04217824, 0.06076736, 0.18129804,\n",
       "        1.        , 0.3771065 , 0.13313242, 0.12477104, 0.41215811,\n",
       "        0.20656703, 0.17694205, 0.33783363, 0.28080512, 0.17451341,\n",
       "        0.30139141, 0.15167596, 0.44156699, 0.13159549, 0.17212283,\n",
       "        0.10898367, 0.17063222, 0.28650426, 0.25077472, 0.34232899],\n",
       "       [0.33618687, 0.0822419 , 0.05021873, 0.08182256, 0.31951245,\n",
       "        0.3771065 , 1.        , 0.2229196 , 0.10543185, 0.37663124,\n",
       "        0.30209566, 0.20715606, 0.43210597, 0.26272526, 0.09246242,\n",
       "        0.36494825, 0.05140229, 0.38411928, 0.11638282, 0.22576509,\n",
       "        0.1919557 , 0.28540318, 0.29828655, 0.21623275, 0.26352361],\n",
       "       [0.18174035, 0.04115023, 0.05426119, 0.11734857, 0.25188429,\n",
       "        0.13313242, 0.2229196 , 1.        , 0.08617601, 0.22250123,\n",
       "        0.07492033, 0.16913619, 0.2422338 , 0.16798495, 0.06841514,\n",
       "        0.17954785, 0.04355868, 0.14569671, 0.09447981, 0.20967649,\n",
       "        0.12751121, 0.36126731, 0.21139158, 0.09565254, 0.23885791],\n",
       "       [0.05023975, 0.12140179, 0.        , 0.07620818, 0.04190323,\n",
       "        0.12477104, 0.10543185, 0.08617601, 1.        , 0.09585892,\n",
       "        0.06749167, 0.1415793 , 0.10748529, 0.0751646 , 0.07346939,\n",
       "        0.01133922, 0.05291474, 0.07385361, 0.        , 0.03669599,\n",
       "        0.16522625, 0.06084159, 0.1024017 , 0.13000267, 0.13801522],\n",
       "       [0.30448736, 0.06791461, 0.01632876, 0.        , 0.14869681,\n",
       "        0.41215811, 0.37663124, 0.22250123, 0.09585892, 1.        ,\n",
       "        0.13903175, 0.14086011, 0.37609185, 0.21433054, 0.06809511,\n",
       "        0.37349327, 0.09368411, 0.37632646, 0.11571284, 0.1299385 ,\n",
       "        0.13875517, 0.15821135, 0.2957049 , 0.13824916, 0.23127983],\n",
       "       [0.25178965, 0.10945425, 0.06610565, 0.07008246, 0.20127299,\n",
       "        0.20656703, 0.30209566, 0.07492033, 0.06749167, 0.13903175,\n",
       "        1.        , 0.14948022, 0.2499014 , 0.17007015, 0.14606556,\n",
       "        0.20753289, 0.0811023 , 0.27826136, 0.12762301, 0.12131028,\n",
       "        0.11305441, 0.15633382, 0.213803  , 0.24355053, 0.1751275 ],\n",
       "       [0.20723227, 0.07472248, 0.01459703, 0.08041017, 0.10862849,\n",
       "        0.17694205, 0.20715606, 0.16913619, 0.1415793 , 0.14086011,\n",
       "        0.14948022, 1.        , 0.21944416, 0.1858806 , 0.11305054,\n",
       "        0.27742569, 0.02326349, 0.28139862, 0.0908263 , 0.15810401,\n",
       "        0.08853028, 0.1675122 , 0.18037612, 0.14028832, 0.17753683],\n",
       "       [0.38381141, 0.19247136, 0.11537311, 0.1096327 , 0.29523304,\n",
       "        0.33783363, 0.43210597, 0.2422338 , 0.10748529, 0.37609185,\n",
       "        0.2499014 , 0.21944416, 1.        , 0.28667783, 0.17674363,\n",
       "        0.33245685, 0.12871018, 0.39730349, 0.14158182, 0.17469375,\n",
       "        0.21799348, 0.29690792, 0.28021791, 0.22132423, 0.2468972 ],\n",
       "       [0.23187204, 0.13356013, 0.02831578, 0.03587589, 0.20924216,\n",
       "        0.28080512, 0.26272526, 0.16798495, 0.0751646 , 0.21433054,\n",
       "        0.17007015, 0.1858806 , 0.28667783, 1.        , 0.12916948,\n",
       "        0.21816469, 0.20397511, 0.35644566, 0.        , 0.25912601,\n",
       "        0.12606391, 0.20547441, 0.29439792, 0.19870219, 0.33305702],\n",
       "       [0.13270086, 0.46417032, 0.07196062, 0.12197138, 0.03276223,\n",
       "        0.17451341, 0.09246242, 0.06841514, 0.07346939, 0.06809511,\n",
       "        0.14606556, 0.11305054, 0.17674363, 0.12916948, 1.        ,\n",
       "        0.09754795, 0.20702043, 0.11127122, 0.07143694, 0.14846151,\n",
       "        0.15642395, 0.06086069, 0.0907528 , 0.12385094, 0.16703381],\n",
       "       [0.27996074, 0.09908782, 0.04442544, 0.0550631 , 0.24534456,\n",
       "        0.30139141, 0.36494825, 0.17954785, 0.01133922, 0.37349327,\n",
       "        0.20753289, 0.27742569, 0.33245685, 0.21816469, 0.09754795,\n",
       "        1.        , 0.12036244, 0.2730311 , 0.13667728, 0.27005154,\n",
       "        0.16580807, 0.1581346 , 0.25690573, 0.2405894 , 0.19219181],\n",
       "       [0.17837499, 0.21224712, 0.00691041, 0.        , 0.10826533,\n",
       "        0.15167596, 0.05140229, 0.04355868, 0.05291474, 0.09368411,\n",
       "        0.0811023 , 0.02326349, 0.12871018, 0.20397511, 0.20702043,\n",
       "        0.12036244, 1.        , 0.12069277, 0.        , 0.08554096,\n",
       "        0.07737471, 0.04558694, 0.14470406, 0.17499609, 0.12979575],\n",
       "       [0.36882912, 0.1090637 , 0.01071658, 0.03050094, 0.20240869,\n",
       "        0.44156699, 0.38411928, 0.14569671, 0.07385361, 0.37632646,\n",
       "        0.27826136, 0.28139862, 0.39730349, 0.35644566, 0.11127122,\n",
       "        0.2730311 , 0.12069277, 1.        , 0.14077143, 0.16503027,\n",
       "        0.08618457, 0.19441316, 0.34791528, 0.19781449, 0.29642898],\n",
       "       [0.10539678, 0.08494904, 0.0674498 , 0.04954112, 0.03913834,\n",
       "        0.13159549, 0.11638282, 0.09447981, 0.        , 0.11571284,\n",
       "        0.12762301, 0.0908263 , 0.14158182, 0.        , 0.07143694,\n",
       "        0.13667728, 0.        , 0.14077143, 1.        , 0.00993966,\n",
       "        0.08191583, 0.18127845, 0.08576585, 0.15091363, 0.07384395],\n",
       "       [0.19877594, 0.06833907, 0.06230016, 0.09239751, 0.21523285,\n",
       "        0.17212283, 0.22576509, 0.20967649, 0.03669599, 0.1299385 ,\n",
       "        0.12131028, 0.15810401, 0.17469375, 0.25912601, 0.14846151,\n",
       "        0.27005154, 0.08554096, 0.16503027, 0.00993966, 1.        ,\n",
       "        0.10604001, 0.14753301, 0.19370119, 0.08772905, 0.24347621],\n",
       "       [0.14918994, 0.1278567 , 0.09536596, 0.10825171, 0.11922596,\n",
       "        0.10898367, 0.1919557 , 0.12751121, 0.16522625, 0.13875517,\n",
       "        0.11305441, 0.08853028, 0.21799348, 0.12606391, 0.15642395,\n",
       "        0.16580807, 0.07737471, 0.08618457, 0.08191583, 0.10604001,\n",
       "        1.        , 0.06910732, 0.10484413, 0.15165414, 0.09966077],\n",
       "       [0.22489869, 0.03377375, 0.0446941 , 0.01477229, 0.34077473,\n",
       "        0.17063222, 0.28540318, 0.36126731, 0.06084159, 0.15821135,\n",
       "        0.15633382, 0.1675122 , 0.29690792, 0.20547441, 0.06086069,\n",
       "        0.1581346 , 0.04558694, 0.19441316, 0.18127845, 0.14753301,\n",
       "        0.06910732, 1.        , 0.21619898, 0.09727229, 0.18440887],\n",
       "       [0.30212389, 0.1322182 , 0.02639441, 0.04652736, 0.28119427,\n",
       "        0.28650426, 0.29828655, 0.21139158, 0.1024017 , 0.2957049 ,\n",
       "        0.213803  , 0.18037612, 0.28021791, 0.29439792, 0.0907528 ,\n",
       "        0.25690573, 0.14470406, 0.34791528, 0.08576585, 0.19370119,\n",
       "        0.10484413, 0.21619898, 1.        , 0.16830796, 0.28688873],\n",
       "       [0.20371273, 0.11125677, 0.05953228, 0.12935545, 0.12435887,\n",
       "        0.25077472, 0.21623275, 0.09565254, 0.13000267, 0.13824916,\n",
       "        0.24355053, 0.14028832, 0.22132423, 0.19870219, 0.12385094,\n",
       "        0.2405894 , 0.17499609, 0.19781449, 0.15091363, 0.08772905,\n",
       "        0.15165414, 0.09727229, 0.16830796, 1.        , 0.21691339],\n",
       "       [0.21628374, 0.09397444, 0.        , 0.07538599, 0.24142067,\n",
       "        0.34232899, 0.26352361, 0.23885791, 0.13801522, 0.23127983,\n",
       "        0.1751275 , 0.17753683, 0.2468972 , 0.33305702, 0.16703381,\n",
       "        0.19219181, 0.12979575, 0.29642898, 0.07384395, 0.24347621,\n",
       "        0.09966077, 0.18440887, 0.28688873, 0.21691339, 1.        ]])"
      ]
     },
     "execution_count": 962,
     "metadata": {},
     "output_type": "execute_result"
    }
   ],
   "source": [
    "user_similarity[:25, 0:25]"
   ]
  },
  {
   "cell_type": "code",
   "execution_count": 963,
   "metadata": {},
   "outputs": [],
   "source": [
    "#item_similarity = pairwise_distances(train_data_matrix.T, metric='cosine')\n",
    "\n",
    "item_similarity = pairwise.cosine_similarity(train_data_matrix.T)"
   ]
  },
  {
   "cell_type": "code",
   "execution_count": 964,
   "metadata": {},
   "outputs": [
    {
     "data": {
      "text/plain": [
       "array([[1.        , 0.28886707, 0.20368779, 0.31781696, 0.23608229],\n",
       "       [0.28886707, 1.        , 0.16651094, 0.36996622, 0.22351254],\n",
       "       [0.20368779, 0.16651094, 1.        , 0.22803064, 0.19919431],\n",
       "       [0.31781696, 0.36996622, 0.22803064, 1.        , 0.22972298],\n",
       "       [0.23608229, 0.22351254, 0.19919431, 0.22972298, 1.        ]])"
      ]
     },
     "execution_count": 964,
     "metadata": {},
     "output_type": "execute_result"
    }
   ],
   "source": [
    "item_similarity[:5, 0:5]"
   ]
  },
  {
   "cell_type": "markdown",
   "metadata": {},
   "source": [
    "Define a method for making predictions. This method predicts in both cases: item-item and User-item collaborative filtering."
   ]
  },
  {
   "cell_type": "code",
   "execution_count": 965,
   "metadata": {},
   "outputs": [],
   "source": [
    "def predict(ratings, similarity, kind='user'):\n",
    "    \n",
    "    sum_sim = np.array([np.abs(similarity).sum(axis=1)])\n",
    "    sum_sim[sum_sim == 0] = 1\n",
    "    if kind == 'user':\n",
    "        return similarity.dot(ratings) / sum_sim.T\n",
    "    elif kind == 'item':\n",
    "        return ratings.dot(similarity) / sum_sim"
   ]
  },
  {
   "cell_type": "markdown",
   "metadata": {},
   "source": [
    "Make predictions for the item case."
   ]
  },
  {
   "cell_type": "code",
   "execution_count": 966,
   "metadata": {},
   "outputs": [],
   "source": [
    "item_prediction = predict(train_data_matrix, item_similarity, 'item')"
   ]
  },
  {
   "cell_type": "code",
   "execution_count": 967,
   "metadata": {},
   "outputs": [
    {
     "data": {
      "text/plain": [
       "array([[0.86756933, 0.86474958, 0.86702304],\n",
       "       [0.20540948, 0.11826552, 0.1560434 ],\n",
       "       [0.07423658, 0.06156086, 0.08038561],\n",
       "       [0.06316123, 0.04841776, 0.05723922],\n",
       "       [0.51071511, 0.5410871 , 0.45078205]])"
      ]
     },
     "execution_count": 967,
     "metadata": {},
     "output_type": "execute_result"
    }
   ],
   "source": [
    "item_prediction[0:5,0:3]"
   ]
  },
  {
   "cell_type": "markdown",
   "metadata": {},
   "source": [
    "**Exercise**\n",
    "\n",
    "Complete the following code to make predictions in the user case (user-item collaboration)."
   ]
  },
  {
   "cell_type": "code",
   "execution_count": 968,
   "metadata": {},
   "outputs": [],
   "source": [
    "user_prediction = None               # Replace None with the appropriate code"
   ]
  },
  {
   "cell_type": "markdown",
   "metadata": {},
   "source": [
    "**Solution**"
   ]
  },
  {
   "cell_type": "code",
   "execution_count": 969,
   "metadata": {},
   "outputs": [],
   "source": [
    "user_prediction = predict(train_data_matrix, user_similarity, 'user')"
   ]
  },
  {
   "cell_type": "markdown",
   "metadata": {},
   "source": [
    "Define a model performance measure which is the RMSE measure. The method compares the true value and the perdicted ratings.\n",
    "\n",
    "Only non null values are compared. Zero value means that the user has not rate the movie."
   ]
  },
  {
   "cell_type": "code",
   "execution_count": 970,
   "metadata": {},
   "outputs": [],
   "source": [
    "from sklearn.metrics import mean_squared_error\n",
    "from math import sqrt\n",
    "def rmse(prediction, true_value):\n",
    "    prediction = prediction[true_value.nonzero()].flatten()\n",
    "    true_value = true_value[true_value.nonzero()].flatten()\n",
    "    return sqrt(mean_squared_error(prediction, true_value))"
   ]
  },
  {
   "cell_type": "markdown",
   "metadata": {},
   "source": [
    "Compute the user-based collaborative filtering RMSE. "
   ]
  },
  {
   "cell_type": "code",
   "execution_count": 971,
   "metadata": {},
   "outputs": [
    {
     "name": "stdout",
     "output_type": "stream",
     "text": [
      "User-based CF RMSE:  3.034239981008242\n"
     ]
    }
   ],
   "source": [
    "user_CF_RMSE = rmse(user_prediction, test_data_matrix)\n",
    "print('User-based CF RMSE: ', user_CF_RMSE)"
   ]
  },
  {
   "cell_type": "markdown",
   "metadata": {},
   "source": [
    "**Exercise**\n",
    "\n",
    "Complete the following code to compute and print the Item-based collaborative filtering RMSE."
   ]
  },
  {
   "cell_type": "code",
   "execution_count": 972,
   "metadata": {},
   "outputs": [
    {
     "name": "stdout",
     "output_type": "stream",
     "text": [
      "Item-based CF RMSE:  None\n"
     ]
    }
   ],
   "source": [
    "item_CF_RMSE = None                # Replace None with the appropriate code\n",
    "print('Item-based CF RMSE: ', item_CF_RMSE)"
   ]
  },
  {
   "cell_type": "markdown",
   "metadata": {},
   "source": [
    "**Solution**"
   ]
  },
  {
   "cell_type": "code",
   "execution_count": 973,
   "metadata": {},
   "outputs": [
    {
     "name": "stdout",
     "output_type": "stream",
     "text": [
      "Item-based CF RMSE:  3.158747233298894\n"
     ]
    }
   ],
   "source": [
    "item_CF_RMSE = rmse(item_prediction, test_data_matrix)\n",
    "print('Item-based CF RMSE: ', item_CF_RMSE)"
   ]
  },
  {
   "cell_type": "markdown",
   "metadata": {},
   "source": [
    "### Model-based Collaborative Filtering\n",
    "\n",
    "As the memory-based collaborative filtering, the same idea can be used in model-based algorithms: the similarities between users and/or items can be calculated and then stored as a *model*, and then we can use the stored similarity values to predict ratings. \n",
    "\n",
    "The model-based collaborative filtering is based on matrix factorization. \n",
    "\n",
    "We will use an SVD-based algorithm which reduces the dimensionality of our dataset and captures the \"features\"."
   ]
  },
  {
   "cell_type": "markdown",
   "metadata": {
    "collapsed": true
   },
   "source": [
    "Check the sparsity of our dataset."
   ]
  },
  {
   "cell_type": "code",
   "execution_count": 974,
   "metadata": {},
   "outputs": [
    {
     "name": "stdout",
     "output_type": "stream",
     "text": [
      "The sparsity level of MovieLens100K is 93.7%\n"
     ]
    }
   ],
   "source": [
    "sparsity=round(1.0-len(ratings)/float(n_users*n_items),3)\n",
    "print('The sparsity level of MovieLens100K is ' +  str(sparsity*100) + '%')"
   ]
  },
  {
   "cell_type": "markdown",
   "metadata": {
    "collapsed": true
   },
   "source": [
    "Decompose the train_data_matrix using the SVD method."
   ]
  },
  {
   "cell_type": "code",
   "execution_count": 975,
   "metadata": {},
   "outputs": [],
   "source": [
    "import scipy.sparse as sp\n",
    "from scipy.sparse.linalg import svds\n",
    "\n",
    "#get SVD components from train matrix. Choose k.\n",
    "u, s, vt = svds(train_data_matrix, k = 20)"
   ]
  },
  {
   "cell_type": "markdown",
   "metadata": {
    "collapsed": true
   },
   "source": [
    "Create the diagonale matrix."
   ]
  },
  {
   "cell_type": "code",
   "execution_count": 976,
   "metadata": {},
   "outputs": [],
   "source": [
    "s_diag_matrix=np.diag(s)"
   ]
  },
  {
   "cell_type": "markdown",
   "metadata": {
    "collapsed": true
   },
   "source": [
    "Compute the rating predictions from the decomposition values."
   ]
  },
  {
   "cell_type": "code",
   "execution_count": 977,
   "metadata": {},
   "outputs": [],
   "source": [
    "X_pred = np.dot(np.dot(u, s_diag_matrix), vt)"
   ]
  },
  {
   "cell_type": "markdown",
   "metadata": {},
   "source": [
    "Compute the model RMSE."
   ]
  },
  {
   "cell_type": "code",
   "execution_count": 978,
   "metadata": {},
   "outputs": [
    {
     "name": "stdout",
     "output_type": "stream",
     "text": [
      "SVD-based CF RMSE: 2.7149435517828784\n"
     ]
    }
   ],
   "source": [
    "print('SVD-based CF RMSE: ' + str(rmse(X_pred, test_data_matrix)))"
   ]
  },
  {
   "cell_type": "markdown",
   "metadata": {
    "collapsed": true
   },
   "source": [
    "**Exercise:**\n",
    "\n",
    "Test the SVD-based model with different values for k and compare the obtained results."
   ]
  },
  {
   "cell_type": "markdown",
   "metadata": {},
   "source": [
    "**Solution**"
   ]
  },
  {
   "cell_type": "code",
   "execution_count": 979,
   "metadata": {},
   "outputs": [
    {
     "name": "stdout",
     "output_type": "stream",
     "text": [
      "SVD-based CF RMSE (k=5): 2.735324732893819\n",
      "SVD-based CF RMSE (k=10): 2.6687606157658603\n",
      "SVD-based CF RMSE (k=15): 2.680900850197953\n",
      "SVD-based CF RMSE (k=20): 2.714943551782879\n",
      "SVD-based CF RMSE (k=25): 2.7537585845413584\n",
      "SVD-based CF RMSE (k=30): 2.8009845619022333\n"
     ]
    }
   ],
   "source": [
    "for k in [5, 10, 15, 20, 25, 30]:\n",
    "    u, s, vt = svds(train_data_matrix, k = k)\n",
    "    s_diag_matrix=np.diag(s)\n",
    "    X_pred = np.dot(np.dot(u, s_diag_matrix), vt)\n",
    "    print('SVD-based CF RMSE (k={}): {}'.format(k, str(rmse(X_pred, test_data_matrix))))"
   ]
  },
  {
   "cell_type": "code",
   "execution_count": null,
   "metadata": {},
   "outputs": [],
   "source": []
  }
 ],
 "metadata": {
  "kernelspec": {
   "display_name": "Python 3",
   "language": "python",
   "name": "python3"
  },
  "language_info": {
   "codemirror_mode": {
    "name": "ipython",
    "version": 3
   },
   "file_extension": ".py",
   "mimetype": "text/x-python",
   "name": "python",
   "nbconvert_exporter": "python",
   "pygments_lexer": "ipython3",
   "version": "3.7.1"
  }
 },
 "nbformat": 4,
 "nbformat_minor": 1
}
