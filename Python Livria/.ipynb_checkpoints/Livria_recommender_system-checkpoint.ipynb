{
 "cells": [
  {
   "cell_type": "markdown",
   "metadata": {},
   "source": [
    "# LIVRIA : Recommandation des thèmes et des livres \n",
    "\n",
    "C'est dans ce notebook -que l'on peut considérer comme le dernier - que mettons en lumières les recommendations de nos différents modèles"
   ]
  },
  {
   "cell_type": "markdown",
   "metadata": {},
   "source": [
    "### Import des librairies et des données"
   ]
  },
  {
   "cell_type": "code",
   "execution_count": 1,
   "metadata": {},
   "outputs": [],
   "source": [
    "from ui import *\n",
    "livria = Livria()"
   ]
  },
  {
   "cell_type": "code",
   "execution_count": 2,
   "metadata": {},
   "outputs": [
    {
     "data": {
      "application/vnd.jupyter.widget-view+json": {
       "model_id": "b770e32265184056969d7a40cbc58e70",
       "version_major": 2,
       "version_minor": 0
      },
      "text/plain": [
       "RadioButtons(description='Renseignez votre sexe', options=('Homme', 'Femme'), value='Homme')"
      ]
     },
     "metadata": {},
     "output_type": "display_data"
    },
    {
     "data": {
      "application/vnd.jupyter.widget-view+json": {
       "model_id": "52d80c468e0148cf8d5d3f7782ad4bc6",
       "version_major": 2,
       "version_minor": 0
      },
      "text/plain": [
       "SelectMultiple(description='Sélectionnez les items qui vous définissent le mieux', options=('Calme', 'Intellec…"
      ]
     },
     "metadata": {},
     "output_type": "display_data"
    },
    {
     "data": {
      "application/vnd.jupyter.widget-view+json": {
       "model_id": "d9f75c13aab24ea4b5a80028a1eda49f",
       "version_major": 2,
       "version_minor": 0
      },
      "text/plain": [
       "SelectMultiple(description='Quels sont vos passe-temps ?', options=('Sport', 'Dessin', 'Rien faire', 'Jeux vid…"
      ]
     },
     "metadata": {},
     "output_type": "display_data"
    },
    {
     "data": {
      "application/vnd.jupyter.widget-view+json": {
       "model_id": "f17b388571f347ebbef7e72e6245007e",
       "version_major": 2,
       "version_minor": 0
      },
      "text/plain": [
       "SelectMultiple(description=\"Qu'est ce qui vous plaît dans un livre ?\", options=('Voyage', 'FacileLire', 'Refle…"
      ]
     },
     "metadata": {},
     "output_type": "display_data"
    }
   ],
   "source": [
    "display_quest()"
   ]
  },
  {
   "cell_type": "code",
   "execution_count": 3,
   "metadata": {},
   "outputs": [
    {
     "data": {
      "text/html": [
       "<div>\n",
       "<style scoped>\n",
       "    .dataframe tbody tr th:only-of-type {\n",
       "        vertical-align: middle;\n",
       "    }\n",
       "\n",
       "    .dataframe tbody tr th {\n",
       "        vertical-align: top;\n",
       "    }\n",
       "\n",
       "    .dataframe thead th {\n",
       "        text-align: right;\n",
       "    }\n",
       "</style>\n",
       "<table border=\"1\" class=\"dataframe\">\n",
       "  <thead>\n",
       "    <tr style=\"text-align: right;\">\n",
       "      <th></th>\n",
       "      <th>Agite</th>\n",
       "      <th>Altruiste</th>\n",
       "      <th>Ambitieux</th>\n",
       "      <th>Amusant</th>\n",
       "      <th>Autoritaire</th>\n",
       "      <th>Aventurier</th>\n",
       "      <th>Calme</th>\n",
       "      <th>Connaissance</th>\n",
       "      <th>Consciencieux</th>\n",
       "      <th>Creatif</th>\n",
       "      <th>Cuisine</th>\n",
       "      <th>Curieux</th>\n",
       "      <th>Dessin</th>\n",
       "      <th>Esprit</th>\n",
       "      <th>FacileLire</th>\n",
       "      <th>Geek</th>\n",
       "      <th>Intellectuel</th>\n",
       "      <th>Introverti</th>\n",
       "      <th>Jaloux</th>\n",
       "      <th>Jeux videos</th>\n",
       "      <th>Meditation</th>\n",
       "      <th>Pantouflard</th>\n",
       "      <th>Personnage</th>\n",
       "      <th>Reflechir</th>\n",
       "      <th>Reserve</th>\n",
       "      <th>Rien faire</th>\n",
       "      <th>Sexe</th>\n",
       "      <th>Sociable</th>\n",
       "      <th>Sport</th>\n",
       "      <th>Sportif</th>\n",
       "      <th>Style</th>\n",
       "      <th>Theatre</th>\n",
       "      <th>Tout</th>\n",
       "      <th>Voyage</th>\n",
       "    </tr>\n",
       "  </thead>\n",
       "  <tbody>\n",
       "    <tr>\n",
       "      <th>0</th>\n",
       "      <td>0</td>\n",
       "      <td>0</td>\n",
       "      <td>0</td>\n",
       "      <td>0</td>\n",
       "      <td>0</td>\n",
       "      <td>0</td>\n",
       "      <td>0</td>\n",
       "      <td>0</td>\n",
       "      <td>0</td>\n",
       "      <td>0</td>\n",
       "      <td>0</td>\n",
       "      <td>0</td>\n",
       "      <td>0</td>\n",
       "      <td>0</td>\n",
       "      <td>0</td>\n",
       "      <td>0</td>\n",
       "      <td>0</td>\n",
       "      <td>0</td>\n",
       "      <td>0</td>\n",
       "      <td>0</td>\n",
       "      <td>0</td>\n",
       "      <td>0</td>\n",
       "      <td>0</td>\n",
       "      <td>0</td>\n",
       "      <td>0</td>\n",
       "      <td>0</td>\n",
       "      <td>1</td>\n",
       "      <td>0</td>\n",
       "      <td>0</td>\n",
       "      <td>0</td>\n",
       "      <td>0</td>\n",
       "      <td>0</td>\n",
       "      <td>0</td>\n",
       "      <td>0</td>\n",
       "    </tr>\n",
       "  </tbody>\n",
       "</table>\n",
       "</div>"
      ],
      "text/plain": [
       "   Agite  Altruiste  Ambitieux  Amusant  Autoritaire  Aventurier  Calme  \\\n",
       "0      0          0          0        0            0           0      0   \n",
       "\n",
       "   Connaissance  Consciencieux  Creatif  Cuisine  Curieux  Dessin  Esprit  \\\n",
       "0             0              0        0        0        0       0       0   \n",
       "\n",
       "   FacileLire  Geek  Intellectuel  Introverti  Jaloux  Jeux videos  \\\n",
       "0           0     0             0           0       0            0   \n",
       "\n",
       "   Meditation  Pantouflard  Personnage  Reflechir  Reserve  Rien faire  Sexe  \\\n",
       "0           0            0           0          0        0           0     1   \n",
       "\n",
       "   Sociable  Sport  Sportif  Style  Theatre  Tout  Voyage  \n",
       "0         0      0        0      0        0     0       0  "
      ]
     },
     "execution_count": 3,
     "metadata": {},
     "output_type": "execute_result"
    }
   ],
   "source": [
    "livria.enr_crits(s_sexe.value, s_pers.value, s_passe_t.value, s_attentes.value)\n",
    "livria.car_input"
   ]
  },
  {
   "cell_type": "code",
   "execution_count": 4,
   "metadata": {},
   "outputs": [
    {
     "name": "stdout",
     "output_type": "stream",
     "text": [
      "**Calculs des prédictions pour ArtsCulture...**\n",
      "[0]\n",
      "**Calculs des prédictions pour BdComics...**\n",
      "[0]\n",
      "**Calculs des prédictions pour DocMedia...**\n",
      "[0]\n",
      "**Calculs des prédictions pour Erotisme...**\n",
      "[0]\n",
      "**Calculs des prédictions pour Esoterisme...**\n",
      "[0]\n",
      "**Calculs des prédictions pour HistGeo...**\n",
      "[0]\n",
      "**Calculs des prédictions pour Jeunesse...**\n",
      "[0]\n",
      "**Calculs des prédictions pour LittEtrangere...**\n",
      "[0]\n",
      "**Calculs des prédictions pour LoisirVie...**\n",
      "[0]\n",
      "**Calculs des prédictions pour Philosophie...**\n",
      "[0]\n",
      "**Calculs des prédictions pour RomanFiction...**\n",
      "[0]\n",
      "**Calculs des prédictions pour SHS...**\n",
      "[0]\n",
      "**Calculs des prédictions pour SanteBE...**\n",
      "[0]\n",
      "**Calculs des prédictions pour ScienceTechnique...**\n",
      "[0]\n"
     ]
    },
    {
     "data": {
      "text/html": [
       "<div>\n",
       "<style scoped>\n",
       "    .dataframe tbody tr th:only-of-type {\n",
       "        vertical-align: middle;\n",
       "    }\n",
       "\n",
       "    .dataframe tbody tr th {\n",
       "        vertical-align: top;\n",
       "    }\n",
       "\n",
       "    .dataframe thead th {\n",
       "        text-align: right;\n",
       "    }\n",
       "</style>\n",
       "<table border=\"1\" class=\"dataframe\">\n",
       "  <thead>\n",
       "    <tr style=\"text-align: right;\">\n",
       "      <th></th>\n",
       "      <th>ArtsCulture</th>\n",
       "      <th>BdComics</th>\n",
       "      <th>DocMedia</th>\n",
       "      <th>Erotisme</th>\n",
       "      <th>Esoterisme</th>\n",
       "      <th>HistGeo</th>\n",
       "      <th>Jeunesse</th>\n",
       "      <th>LittEtrangere</th>\n",
       "      <th>LoisirVie</th>\n",
       "      <th>Philosophie</th>\n",
       "      <th>RomanFiction</th>\n",
       "      <th>SHS</th>\n",
       "      <th>SanteBE</th>\n",
       "      <th>ScienceTechnique</th>\n",
       "    </tr>\n",
       "  </thead>\n",
       "  <tbody>\n",
       "    <tr>\n",
       "      <th>0</th>\n",
       "      <td>0</td>\n",
       "      <td>0</td>\n",
       "      <td>0</td>\n",
       "      <td>0</td>\n",
       "      <td>0</td>\n",
       "      <td>0</td>\n",
       "      <td>0</td>\n",
       "      <td>0</td>\n",
       "      <td>0</td>\n",
       "      <td>0</td>\n",
       "      <td>0</td>\n",
       "      <td>0</td>\n",
       "      <td>0</td>\n",
       "      <td>0</td>\n",
       "    </tr>\n",
       "  </tbody>\n",
       "</table>\n",
       "</div>"
      ],
      "text/plain": [
       "   ArtsCulture  BdComics  DocMedia  Erotisme  Esoterisme  HistGeo  Jeunesse  \\\n",
       "0            0         0         0         0           0        0         0   \n",
       "\n",
       "   LittEtrangere  LoisirVie  Philosophie  RomanFiction  SHS  SanteBE  \\\n",
       "0              0          0            0             0    0        0   \n",
       "\n",
       "   ScienceTechnique  \n",
       "0                 0  "
      ]
     },
     "execution_count": 4,
     "metadata": {},
     "output_type": "execute_result"
    }
   ],
   "source": [
    "livria.predict()"
   ]
  },
  {
   "cell_type": "code",
   "execution_count": 5,
   "metadata": {},
   "outputs": [
    {
     "data": {
      "text/html": [
       "<div>\n",
       "<style scoped>\n",
       "    .dataframe tbody tr th:only-of-type {\n",
       "        vertical-align: middle;\n",
       "    }\n",
       "\n",
       "    .dataframe tbody tr th {\n",
       "        vertical-align: top;\n",
       "    }\n",
       "\n",
       "    .dataframe thead th {\n",
       "        text-align: right;\n",
       "    }\n",
       "</style>\n",
       "<table border=\"1\" class=\"dataframe\">\n",
       "  <thead>\n",
       "    <tr style=\"text-align: right;\">\n",
       "      <th></th>\n",
       "      <th>art</th>\n",
       "      <th>comics</th>\n",
       "      <th>movies</th>\n",
       "      <th>erotica</th>\n",
       "      <th>mystery</th>\n",
       "      <th>historical</th>\n",
       "      <th>childhood</th>\n",
       "      <th>literature</th>\n",
       "      <th>travel</th>\n",
       "      <th>philosophy</th>\n",
       "      <th>fiction</th>\n",
       "      <th>sociology</th>\n",
       "      <th>personal-development</th>\n",
       "      <th>science</th>\n",
       "    </tr>\n",
       "  </thead>\n",
       "  <tbody>\n",
       "    <tr>\n",
       "      <th>0</th>\n",
       "      <td>0</td>\n",
       "      <td>0</td>\n",
       "      <td>0</td>\n",
       "      <td>0</td>\n",
       "      <td>0</td>\n",
       "      <td>0</td>\n",
       "      <td>0</td>\n",
       "      <td>0</td>\n",
       "      <td>0</td>\n",
       "      <td>0</td>\n",
       "      <td>0</td>\n",
       "      <td>0</td>\n",
       "      <td>0</td>\n",
       "      <td>0</td>\n",
       "    </tr>\n",
       "  </tbody>\n",
       "</table>\n",
       "</div>"
      ],
      "text/plain": [
       "   art  comics  movies  erotica  mystery  historical  childhood  literature  \\\n",
       "0    0       0       0        0        0           0          0           0   \n",
       "\n",
       "   travel  philosophy  fiction  sociology  personal-development  science  \n",
       "0       0           0        0          0                     0        0  "
      ]
     },
     "execution_count": 5,
     "metadata": {},
     "output_type": "execute_result"
    }
   ],
   "source": [
    "livria.rename()\n",
    "livria.themes_output"
   ]
  },
  {
   "cell_type": "code",
   "execution_count": 6,
   "metadata": {},
   "outputs": [],
   "source": [
    "livres = livres.drop(['average_rating','ratings_count','tag_id','count','title_y'], axis=1)"
   ]
  },
  {
   "cell_type": "markdown",
   "metadata": {},
   "source": [
    "### Affichage des livres"
   ]
  },
  {
   "cell_type": "markdown",
   "metadata": {},
   "source": [
    "Ici, nous allons crée la fonction permettant d'afficher proprement les livres avec leur page de couverture, le titre l'auteur et la note moyenne. On commence par nettoyer le DataFrame des colonnes d'ont nous n'avons pas besoin ici."
   ]
  },
  {
   "cell_type": "code",
   "execution_count": null,
   "metadata": {},
   "outputs": [],
   "source": []
  },
  {
   "cell_type": "markdown",
   "metadata": {},
   "source": [
    "On crée la fonction qui nous permettra d'afficher les livres :"
   ]
  },
  {
   "cell_type": "code",
   "execution_count": 7,
   "metadata": {},
   "outputs": [
    {
     "data": {
      "text/html": [
       "<div>\n",
       "<style scoped>\n",
       "    .dataframe tbody tr th:only-of-type {\n",
       "        vertical-align: middle;\n",
       "    }\n",
       "\n",
       "    .dataframe tbody tr th {\n",
       "        vertical-align: top;\n",
       "    }\n",
       "\n",
       "    .dataframe thead th {\n",
       "        text-align: right;\n",
       "    }\n",
       "</style>\n",
       "<table border=\"1\" class=\"dataframe\">\n",
       "  <thead>\n",
       "    <tr style=\"text-align: right;\">\n",
       "      <th></th>\n",
       "      <th>book_id</th>\n",
       "      <th>tag_name</th>\n",
       "      <th>authors</th>\n",
       "      <th>original_publication_year</th>\n",
       "      <th>original_title</th>\n",
       "      <th>average_rating</th>\n",
       "      <th>image_url</th>\n",
       "    </tr>\n",
       "  </thead>\n",
       "  <tbody>\n",
       "    <tr>\n",
       "      <th>0</th>\n",
       "      <td>1</td>\n",
       "      <td>fantasy</td>\n",
       "      <td>Suzanne Collins</td>\n",
       "      <td>2008.0</td>\n",
       "      <td>The Hunger Games</td>\n",
       "      <td>4.34</td>\n",
       "      <td>https://images.gr-assets.com/books/1447303603m...</td>\n",
       "    </tr>\n",
       "    <tr>\n",
       "      <th>1</th>\n",
       "      <td>1</td>\n",
       "      <td>young-adult</td>\n",
       "      <td>Suzanne Collins</td>\n",
       "      <td>2008.0</td>\n",
       "      <td>The Hunger Games</td>\n",
       "      <td>4.34</td>\n",
       "      <td>https://images.gr-assets.com/books/1447303603m...</td>\n",
       "    </tr>\n",
       "    <tr>\n",
       "      <th>2</th>\n",
       "      <td>1</td>\n",
       "      <td>fiction</td>\n",
       "      <td>Suzanne Collins</td>\n",
       "      <td>2008.0</td>\n",
       "      <td>The Hunger Games</td>\n",
       "      <td>4.34</td>\n",
       "      <td>https://images.gr-assets.com/books/1447303603m...</td>\n",
       "    </tr>\n",
       "    <tr>\n",
       "      <th>3</th>\n",
       "      <td>1</td>\n",
       "      <td>series</td>\n",
       "      <td>Suzanne Collins</td>\n",
       "      <td>2008.0</td>\n",
       "      <td>The Hunger Games</td>\n",
       "      <td>4.34</td>\n",
       "      <td>https://images.gr-assets.com/books/1447303603m...</td>\n",
       "    </tr>\n",
       "    <tr>\n",
       "      <th>4</th>\n",
       "      <td>1</td>\n",
       "      <td>adventure</td>\n",
       "      <td>Suzanne Collins</td>\n",
       "      <td>2008.0</td>\n",
       "      <td>The Hunger Games</td>\n",
       "      <td>4.34</td>\n",
       "      <td>https://images.gr-assets.com/books/1447303603m...</td>\n",
       "    </tr>\n",
       "    <tr>\n",
       "      <th>5</th>\n",
       "      <td>1</td>\n",
       "      <td>novels</td>\n",
       "      <td>Suzanne Collins</td>\n",
       "      <td>2008.0</td>\n",
       "      <td>The Hunger Games</td>\n",
       "      <td>4.34</td>\n",
       "      <td>https://images.gr-assets.com/books/1447303603m...</td>\n",
       "    </tr>\n",
       "    <tr>\n",
       "      <th>6</th>\n",
       "      <td>1</td>\n",
       "      <td>romance</td>\n",
       "      <td>Suzanne Collins</td>\n",
       "      <td>2008.0</td>\n",
       "      <td>The Hunger Games</td>\n",
       "      <td>4.34</td>\n",
       "      <td>https://images.gr-assets.com/books/1447303603m...</td>\n",
       "    </tr>\n",
       "    <tr>\n",
       "      <th>7</th>\n",
       "      <td>1</td>\n",
       "      <td>contemporary</td>\n",
       "      <td>Suzanne Collins</td>\n",
       "      <td>2008.0</td>\n",
       "      <td>The Hunger Games</td>\n",
       "      <td>4.34</td>\n",
       "      <td>https://images.gr-assets.com/books/1447303603m...</td>\n",
       "    </tr>\n",
       "    <tr>\n",
       "      <th>8</th>\n",
       "      <td>1</td>\n",
       "      <td>thriller</td>\n",
       "      <td>Suzanne Collins</td>\n",
       "      <td>2008.0</td>\n",
       "      <td>The Hunger Games</td>\n",
       "      <td>4.34</td>\n",
       "      <td>https://images.gr-assets.com/books/1447303603m...</td>\n",
       "    </tr>\n",
       "    <tr>\n",
       "      <th>9</th>\n",
       "      <td>1</td>\n",
       "      <td>drama</td>\n",
       "      <td>Suzanne Collins</td>\n",
       "      <td>2008.0</td>\n",
       "      <td>The Hunger Games</td>\n",
       "      <td>4.34</td>\n",
       "      <td>https://images.gr-assets.com/books/1447303603m...</td>\n",
       "    </tr>\n",
       "    <tr>\n",
       "      <th>10</th>\n",
       "      <td>2</td>\n",
       "      <td>fantasy</td>\n",
       "      <td>J.K. Rowling, Mary GrandPré</td>\n",
       "      <td>1997.0</td>\n",
       "      <td>Harry Potter and the Philosopher's Stone</td>\n",
       "      <td>4.44</td>\n",
       "      <td>https://images.gr-assets.com/books/1474154022m...</td>\n",
       "    </tr>\n",
       "    <tr>\n",
       "      <th>11</th>\n",
       "      <td>2</td>\n",
       "      <td>young-adult</td>\n",
       "      <td>J.K. Rowling, Mary GrandPré</td>\n",
       "      <td>1997.0</td>\n",
       "      <td>Harry Potter and the Philosopher's Stone</td>\n",
       "      <td>4.44</td>\n",
       "      <td>https://images.gr-assets.com/books/1474154022m...</td>\n",
       "    </tr>\n",
       "    <tr>\n",
       "      <th>12</th>\n",
       "      <td>2</td>\n",
       "      <td>fiction</td>\n",
       "      <td>J.K. Rowling, Mary GrandPré</td>\n",
       "      <td>1997.0</td>\n",
       "      <td>Harry Potter and the Philosopher's Stone</td>\n",
       "      <td>4.44</td>\n",
       "      <td>https://images.gr-assets.com/books/1474154022m...</td>\n",
       "    </tr>\n",
       "    <tr>\n",
       "      <th>13</th>\n",
       "      <td>2</td>\n",
       "      <td>series</td>\n",
       "      <td>J.K. Rowling, Mary GrandPré</td>\n",
       "      <td>1997.0</td>\n",
       "      <td>Harry Potter and the Philosopher's Stone</td>\n",
       "      <td>4.44</td>\n",
       "      <td>https://images.gr-assets.com/books/1474154022m...</td>\n",
       "    </tr>\n",
       "    <tr>\n",
       "      <th>14</th>\n",
       "      <td>2</td>\n",
       "      <td>adventure</td>\n",
       "      <td>J.K. Rowling, Mary GrandPré</td>\n",
       "      <td>1997.0</td>\n",
       "      <td>Harry Potter and the Philosopher's Stone</td>\n",
       "      <td>4.44</td>\n",
       "      <td>https://images.gr-assets.com/books/1474154022m...</td>\n",
       "    </tr>\n",
       "    <tr>\n",
       "      <th>15</th>\n",
       "      <td>2</td>\n",
       "      <td>childhood</td>\n",
       "      <td>J.K. Rowling, Mary GrandPré</td>\n",
       "      <td>1997.0</td>\n",
       "      <td>Harry Potter and the Philosopher's Stone</td>\n",
       "      <td>4.44</td>\n",
       "      <td>https://images.gr-assets.com/books/1474154022m...</td>\n",
       "    </tr>\n",
       "    <tr>\n",
       "      <th>16</th>\n",
       "      <td>2</td>\n",
       "      <td>classics</td>\n",
       "      <td>J.K. Rowling, Mary GrandPré</td>\n",
       "      <td>1997.0</td>\n",
       "      <td>Harry Potter and the Philosopher's Stone</td>\n",
       "      <td>4.44</td>\n",
       "      <td>https://images.gr-assets.com/books/1474154022m...</td>\n",
       "    </tr>\n",
       "    <tr>\n",
       "      <th>17</th>\n",
       "      <td>2</td>\n",
       "      <td>novels</td>\n",
       "      <td>J.K. Rowling, Mary GrandPré</td>\n",
       "      <td>1997.0</td>\n",
       "      <td>Harry Potter and the Philosopher's Stone</td>\n",
       "      <td>4.44</td>\n",
       "      <td>https://images.gr-assets.com/books/1474154022m...</td>\n",
       "    </tr>\n",
       "    <tr>\n",
       "      <th>18</th>\n",
       "      <td>2</td>\n",
       "      <td>mystery</td>\n",
       "      <td>J.K. Rowling, Mary GrandPré</td>\n",
       "      <td>1997.0</td>\n",
       "      <td>Harry Potter and the Philosopher's Stone</td>\n",
       "      <td>4.44</td>\n",
       "      <td>https://images.gr-assets.com/books/1474154022m...</td>\n",
       "    </tr>\n",
       "    <tr>\n",
       "      <th>19</th>\n",
       "      <td>2</td>\n",
       "      <td>contemporary</td>\n",
       "      <td>J.K. Rowling, Mary GrandPré</td>\n",
       "      <td>1997.0</td>\n",
       "      <td>Harry Potter and the Philosopher's Stone</td>\n",
       "      <td>4.44</td>\n",
       "      <td>https://images.gr-assets.com/books/1474154022m...</td>\n",
       "    </tr>\n",
       "    <tr>\n",
       "      <th>20</th>\n",
       "      <td>3</td>\n",
       "      <td>fantasy</td>\n",
       "      <td>Stephenie Meyer</td>\n",
       "      <td>2005.0</td>\n",
       "      <td>Twilight</td>\n",
       "      <td>3.57</td>\n",
       "      <td>https://images.gr-assets.com/books/1361039443m...</td>\n",
       "    </tr>\n",
       "    <tr>\n",
       "      <th>21</th>\n",
       "      <td>3</td>\n",
       "      <td>young-adult</td>\n",
       "      <td>Stephenie Meyer</td>\n",
       "      <td>2005.0</td>\n",
       "      <td>Twilight</td>\n",
       "      <td>3.57</td>\n",
       "      <td>https://images.gr-assets.com/books/1361039443m...</td>\n",
       "    </tr>\n",
       "    <tr>\n",
       "      <th>22</th>\n",
       "      <td>3</td>\n",
       "      <td>fiction</td>\n",
       "      <td>Stephenie Meyer</td>\n",
       "      <td>2005.0</td>\n",
       "      <td>Twilight</td>\n",
       "      <td>3.57</td>\n",
       "      <td>https://images.gr-assets.com/books/1361039443m...</td>\n",
       "    </tr>\n",
       "    <tr>\n",
       "      <th>23</th>\n",
       "      <td>3</td>\n",
       "      <td>novels</td>\n",
       "      <td>Stephenie Meyer</td>\n",
       "      <td>2005.0</td>\n",
       "      <td>Twilight</td>\n",
       "      <td>3.57</td>\n",
       "      <td>https://images.gr-assets.com/books/1361039443m...</td>\n",
       "    </tr>\n",
       "    <tr>\n",
       "      <th>24</th>\n",
       "      <td>3</td>\n",
       "      <td>contemporary</td>\n",
       "      <td>Stephenie Meyer</td>\n",
       "      <td>2005.0</td>\n",
       "      <td>Twilight</td>\n",
       "      <td>3.57</td>\n",
       "      <td>https://images.gr-assets.com/books/1361039443m...</td>\n",
       "    </tr>\n",
       "    <tr>\n",
       "      <th>25</th>\n",
       "      <td>3</td>\n",
       "      <td>movies</td>\n",
       "      <td>Stephenie Meyer</td>\n",
       "      <td>2005.0</td>\n",
       "      <td>Twilight</td>\n",
       "      <td>3.57</td>\n",
       "      <td>https://images.gr-assets.com/books/1361039443m...</td>\n",
       "    </tr>\n",
       "    <tr>\n",
       "      <th>26</th>\n",
       "      <td>3</td>\n",
       "      <td>drama</td>\n",
       "      <td>Stephenie Meyer</td>\n",
       "      <td>2005.0</td>\n",
       "      <td>Twilight</td>\n",
       "      <td>3.57</td>\n",
       "      <td>https://images.gr-assets.com/books/1361039443m...</td>\n",
       "    </tr>\n",
       "    <tr>\n",
       "      <th>27</th>\n",
       "      <td>3</td>\n",
       "      <td>chick-lit</td>\n",
       "      <td>Stephenie Meyer</td>\n",
       "      <td>2005.0</td>\n",
       "      <td>Twilight</td>\n",
       "      <td>3.57</td>\n",
       "      <td>https://images.gr-assets.com/books/1361039443m...</td>\n",
       "    </tr>\n",
       "    <tr>\n",
       "      <th>28</th>\n",
       "      <td>4</td>\n",
       "      <td>young-adult</td>\n",
       "      <td>Harper Lee</td>\n",
       "      <td>1960.0</td>\n",
       "      <td>To Kill a Mockingbird</td>\n",
       "      <td>4.25</td>\n",
       "      <td>https://images.gr-assets.com/books/1361975680m...</td>\n",
       "    </tr>\n",
       "    <tr>\n",
       "      <th>29</th>\n",
       "      <td>4</td>\n",
       "      <td>fiction</td>\n",
       "      <td>Harper Lee</td>\n",
       "      <td>1960.0</td>\n",
       "      <td>To Kill a Mockingbird</td>\n",
       "      <td>4.25</td>\n",
       "      <td>https://images.gr-assets.com/books/1361975680m...</td>\n",
       "    </tr>\n",
       "    <tr>\n",
       "      <th>...</th>\n",
       "      <td>...</td>\n",
       "      <td>...</td>\n",
       "      <td>...</td>\n",
       "      <td>...</td>\n",
       "      <td>...</td>\n",
       "      <td>...</td>\n",
       "      <td>...</td>\n",
       "    </tr>\n",
       "    <tr>\n",
       "      <th>83306</th>\n",
       "      <td>9996</td>\n",
       "      <td>mystery</td>\n",
       "      <td>Ilona Andrews</td>\n",
       "      <td>2010.0</td>\n",
       "      <td>Bayou Moon</td>\n",
       "      <td>4.09</td>\n",
       "      <td>https://images.gr-assets.com/books/1307445460m...</td>\n",
       "    </tr>\n",
       "    <tr>\n",
       "      <th>83307</th>\n",
       "      <td>9996</td>\n",
       "      <td>romance</td>\n",
       "      <td>Ilona Andrews</td>\n",
       "      <td>2010.0</td>\n",
       "      <td>Bayou Moon</td>\n",
       "      <td>4.09</td>\n",
       "      <td>https://images.gr-assets.com/books/1307445460m...</td>\n",
       "    </tr>\n",
       "    <tr>\n",
       "      <th>83308</th>\n",
       "      <td>9996</td>\n",
       "      <td>contemporary</td>\n",
       "      <td>Ilona Andrews</td>\n",
       "      <td>2010.0</td>\n",
       "      <td>Bayou Moon</td>\n",
       "      <td>4.09</td>\n",
       "      <td>https://images.gr-assets.com/books/1307445460m...</td>\n",
       "    </tr>\n",
       "    <tr>\n",
       "      <th>83309</th>\n",
       "      <td>9996</td>\n",
       "      <td>adult</td>\n",
       "      <td>Ilona Andrews</td>\n",
       "      <td>2010.0</td>\n",
       "      <td>Bayou Moon</td>\n",
       "      <td>4.09</td>\n",
       "      <td>https://images.gr-assets.com/books/1307445460m...</td>\n",
       "    </tr>\n",
       "    <tr>\n",
       "      <th>83310</th>\n",
       "      <td>9997</td>\n",
       "      <td>series</td>\n",
       "      <td>Robert A. Caro</td>\n",
       "      <td>1990.0</td>\n",
       "      <td>Means of Ascent</td>\n",
       "      <td>4.25</td>\n",
       "      <td>https://s.gr-assets.com/assets/nophoto/book/11...</td>\n",
       "    </tr>\n",
       "    <tr>\n",
       "      <th>83311</th>\n",
       "      <td>9997</td>\n",
       "      <td>classics</td>\n",
       "      <td>Robert A. Caro</td>\n",
       "      <td>1990.0</td>\n",
       "      <td>Means of Ascent</td>\n",
       "      <td>4.25</td>\n",
       "      <td>https://s.gr-assets.com/assets/nophoto/book/11...</td>\n",
       "    </tr>\n",
       "    <tr>\n",
       "      <th>83312</th>\n",
       "      <td>9997</td>\n",
       "      <td>nonfiction</td>\n",
       "      <td>Robert A. Caro</td>\n",
       "      <td>1990.0</td>\n",
       "      <td>Means of Ascent</td>\n",
       "      <td>4.25</td>\n",
       "      <td>https://s.gr-assets.com/assets/nophoto/book/11...</td>\n",
       "    </tr>\n",
       "    <tr>\n",
       "      <th>83313</th>\n",
       "      <td>9997</td>\n",
       "      <td>historical</td>\n",
       "      <td>Robert A. Caro</td>\n",
       "      <td>1990.0</td>\n",
       "      <td>Means of Ascent</td>\n",
       "      <td>4.25</td>\n",
       "      <td>https://s.gr-assets.com/assets/nophoto/book/11...</td>\n",
       "    </tr>\n",
       "    <tr>\n",
       "      <th>83314</th>\n",
       "      <td>9997</td>\n",
       "      <td>biography</td>\n",
       "      <td>Robert A. Caro</td>\n",
       "      <td>1990.0</td>\n",
       "      <td>Means of Ascent</td>\n",
       "      <td>4.25</td>\n",
       "      <td>https://s.gr-assets.com/assets/nophoto/book/11...</td>\n",
       "    </tr>\n",
       "    <tr>\n",
       "      <th>83315</th>\n",
       "      <td>9997</td>\n",
       "      <td>politics</td>\n",
       "      <td>Robert A. Caro</td>\n",
       "      <td>1990.0</td>\n",
       "      <td>Means of Ascent</td>\n",
       "      <td>4.25</td>\n",
       "      <td>https://s.gr-assets.com/assets/nophoto/book/11...</td>\n",
       "    </tr>\n",
       "    <tr>\n",
       "      <th>83316</th>\n",
       "      <td>9998</td>\n",
       "      <td>fiction</td>\n",
       "      <td>Patrick O'Brian</td>\n",
       "      <td>1977.0</td>\n",
       "      <td>The Mauritius Command</td>\n",
       "      <td>4.35</td>\n",
       "      <td>https://images.gr-assets.com/books/1455373531m...</td>\n",
       "    </tr>\n",
       "    <tr>\n",
       "      <th>83317</th>\n",
       "      <td>9998</td>\n",
       "      <td>series</td>\n",
       "      <td>Patrick O'Brian</td>\n",
       "      <td>1977.0</td>\n",
       "      <td>The Mauritius Command</td>\n",
       "      <td>4.35</td>\n",
       "      <td>https://images.gr-assets.com/books/1455373531m...</td>\n",
       "    </tr>\n",
       "    <tr>\n",
       "      <th>83318</th>\n",
       "      <td>9998</td>\n",
       "      <td>adventure</td>\n",
       "      <td>Patrick O'Brian</td>\n",
       "      <td>1977.0</td>\n",
       "      <td>The Mauritius Command</td>\n",
       "      <td>4.35</td>\n",
       "      <td>https://images.gr-assets.com/books/1455373531m...</td>\n",
       "    </tr>\n",
       "    <tr>\n",
       "      <th>83319</th>\n",
       "      <td>9998</td>\n",
       "      <td>classics</td>\n",
       "      <td>Patrick O'Brian</td>\n",
       "      <td>1977.0</td>\n",
       "      <td>The Mauritius Command</td>\n",
       "      <td>4.35</td>\n",
       "      <td>https://images.gr-assets.com/books/1455373531m...</td>\n",
       "    </tr>\n",
       "    <tr>\n",
       "      <th>83320</th>\n",
       "      <td>9998</td>\n",
       "      <td>novels</td>\n",
       "      <td>Patrick O'Brian</td>\n",
       "      <td>1977.0</td>\n",
       "      <td>The Mauritius Command</td>\n",
       "      <td>4.35</td>\n",
       "      <td>https://images.gr-assets.com/books/1455373531m...</td>\n",
       "    </tr>\n",
       "    <tr>\n",
       "      <th>83321</th>\n",
       "      <td>9998</td>\n",
       "      <td>literature</td>\n",
       "      <td>Patrick O'Brian</td>\n",
       "      <td>1977.0</td>\n",
       "      <td>The Mauritius Command</td>\n",
       "      <td>4.35</td>\n",
       "      <td>https://images.gr-assets.com/books/1455373531m...</td>\n",
       "    </tr>\n",
       "    <tr>\n",
       "      <th>83322</th>\n",
       "      <td>9998</td>\n",
       "      <td>historical</td>\n",
       "      <td>Patrick O'Brian</td>\n",
       "      <td>1977.0</td>\n",
       "      <td>The Mauritius Command</td>\n",
       "      <td>4.35</td>\n",
       "      <td>https://images.gr-assets.com/books/1455373531m...</td>\n",
       "    </tr>\n",
       "    <tr>\n",
       "      <th>83323</th>\n",
       "      <td>9999</td>\n",
       "      <td>contemporary</td>\n",
       "      <td>Peggy Orenstein</td>\n",
       "      <td>2011.0</td>\n",
       "      <td>Cinderella Ate My Daughter: Dispatches from th...</td>\n",
       "      <td>3.65</td>\n",
       "      <td>https://images.gr-assets.com/books/1279214118m...</td>\n",
       "    </tr>\n",
       "    <tr>\n",
       "      <th>83324</th>\n",
       "      <td>9999</td>\n",
       "      <td>humor</td>\n",
       "      <td>Peggy Orenstein</td>\n",
       "      <td>2011.0</td>\n",
       "      <td>Cinderella Ate My Daughter: Dispatches from th...</td>\n",
       "      <td>3.65</td>\n",
       "      <td>https://images.gr-assets.com/books/1279214118m...</td>\n",
       "    </tr>\n",
       "    <tr>\n",
       "      <th>83325</th>\n",
       "      <td>9999</td>\n",
       "      <td>adult</td>\n",
       "      <td>Peggy Orenstein</td>\n",
       "      <td>2011.0</td>\n",
       "      <td>Cinderella Ate My Daughter: Dispatches from th...</td>\n",
       "      <td>3.65</td>\n",
       "      <td>https://images.gr-assets.com/books/1279214118m...</td>\n",
       "    </tr>\n",
       "    <tr>\n",
       "      <th>83326</th>\n",
       "      <td>9999</td>\n",
       "      <td>nonfiction</td>\n",
       "      <td>Peggy Orenstein</td>\n",
       "      <td>2011.0</td>\n",
       "      <td>Cinderella Ate My Daughter: Dispatches from th...</td>\n",
       "      <td>3.65</td>\n",
       "      <td>https://images.gr-assets.com/books/1279214118m...</td>\n",
       "    </tr>\n",
       "    <tr>\n",
       "      <th>83327</th>\n",
       "      <td>9999</td>\n",
       "      <td>culture</td>\n",
       "      <td>Peggy Orenstein</td>\n",
       "      <td>2011.0</td>\n",
       "      <td>Cinderella Ate My Daughter: Dispatches from th...</td>\n",
       "      <td>3.65</td>\n",
       "      <td>https://images.gr-assets.com/books/1279214118m...</td>\n",
       "    </tr>\n",
       "    <tr>\n",
       "      <th>83328</th>\n",
       "      <td>9999</td>\n",
       "      <td>sociology</td>\n",
       "      <td>Peggy Orenstein</td>\n",
       "      <td>2011.0</td>\n",
       "      <td>Cinderella Ate My Daughter: Dispatches from th...</td>\n",
       "      <td>3.65</td>\n",
       "      <td>https://images.gr-assets.com/books/1279214118m...</td>\n",
       "    </tr>\n",
       "    <tr>\n",
       "      <th>83329</th>\n",
       "      <td>9999</td>\n",
       "      <td>politics</td>\n",
       "      <td>Peggy Orenstein</td>\n",
       "      <td>2011.0</td>\n",
       "      <td>Cinderella Ate My Daughter: Dispatches from th...</td>\n",
       "      <td>3.65</td>\n",
       "      <td>https://images.gr-assets.com/books/1279214118m...</td>\n",
       "    </tr>\n",
       "    <tr>\n",
       "      <th>83330</th>\n",
       "      <td>9999</td>\n",
       "      <td>psychology</td>\n",
       "      <td>Peggy Orenstein</td>\n",
       "      <td>2011.0</td>\n",
       "      <td>Cinderella Ate My Daughter: Dispatches from th...</td>\n",
       "      <td>3.65</td>\n",
       "      <td>https://images.gr-assets.com/books/1279214118m...</td>\n",
       "    </tr>\n",
       "    <tr>\n",
       "      <th>83331</th>\n",
       "      <td>9999</td>\n",
       "      <td>chick-lit</td>\n",
       "      <td>Peggy Orenstein</td>\n",
       "      <td>2011.0</td>\n",
       "      <td>Cinderella Ate My Daughter: Dispatches from th...</td>\n",
       "      <td>3.65</td>\n",
       "      <td>https://images.gr-assets.com/books/1279214118m...</td>\n",
       "    </tr>\n",
       "    <tr>\n",
       "      <th>83332</th>\n",
       "      <td>10000</td>\n",
       "      <td>nonfiction</td>\n",
       "      <td>John Keegan</td>\n",
       "      <td>1998.0</td>\n",
       "      <td>The First World War</td>\n",
       "      <td>4.00</td>\n",
       "      <td>https://images.gr-assets.com/books/1403194704m...</td>\n",
       "    </tr>\n",
       "    <tr>\n",
       "      <th>83333</th>\n",
       "      <td>10000</td>\n",
       "      <td>historical</td>\n",
       "      <td>John Keegan</td>\n",
       "      <td>1998.0</td>\n",
       "      <td>The First World War</td>\n",
       "      <td>4.00</td>\n",
       "      <td>https://images.gr-assets.com/books/1403194704m...</td>\n",
       "    </tr>\n",
       "    <tr>\n",
       "      <th>83334</th>\n",
       "      <td>10000</td>\n",
       "      <td>biography</td>\n",
       "      <td>John Keegan</td>\n",
       "      <td>1998.0</td>\n",
       "      <td>The First World War</td>\n",
       "      <td>4.00</td>\n",
       "      <td>https://images.gr-assets.com/books/1403194704m...</td>\n",
       "    </tr>\n",
       "    <tr>\n",
       "      <th>83335</th>\n",
       "      <td>10000</td>\n",
       "      <td>politics</td>\n",
       "      <td>John Keegan</td>\n",
       "      <td>1998.0</td>\n",
       "      <td>The First World War</td>\n",
       "      <td>4.00</td>\n",
       "      <td>https://images.gr-assets.com/books/1403194704m...</td>\n",
       "    </tr>\n",
       "  </tbody>\n",
       "</table>\n",
       "<p>83336 rows × 7 columns</p>\n",
       "</div>"
      ],
      "text/plain": [
       "       book_id      tag_name                      authors  \\\n",
       "0            1       fantasy              Suzanne Collins   \n",
       "1            1   young-adult              Suzanne Collins   \n",
       "2            1       fiction              Suzanne Collins   \n",
       "3            1        series              Suzanne Collins   \n",
       "4            1     adventure              Suzanne Collins   \n",
       "5            1        novels              Suzanne Collins   \n",
       "6            1       romance              Suzanne Collins   \n",
       "7            1  contemporary              Suzanne Collins   \n",
       "8            1      thriller              Suzanne Collins   \n",
       "9            1         drama              Suzanne Collins   \n",
       "10           2       fantasy  J.K. Rowling, Mary GrandPré   \n",
       "11           2   young-adult  J.K. Rowling, Mary GrandPré   \n",
       "12           2       fiction  J.K. Rowling, Mary GrandPré   \n",
       "13           2        series  J.K. Rowling, Mary GrandPré   \n",
       "14           2     adventure  J.K. Rowling, Mary GrandPré   \n",
       "15           2     childhood  J.K. Rowling, Mary GrandPré   \n",
       "16           2      classics  J.K. Rowling, Mary GrandPré   \n",
       "17           2        novels  J.K. Rowling, Mary GrandPré   \n",
       "18           2       mystery  J.K. Rowling, Mary GrandPré   \n",
       "19           2  contemporary  J.K. Rowling, Mary GrandPré   \n",
       "20           3       fantasy              Stephenie Meyer   \n",
       "21           3   young-adult              Stephenie Meyer   \n",
       "22           3       fiction              Stephenie Meyer   \n",
       "23           3        novels              Stephenie Meyer   \n",
       "24           3  contemporary              Stephenie Meyer   \n",
       "25           3        movies              Stephenie Meyer   \n",
       "26           3         drama              Stephenie Meyer   \n",
       "27           3     chick-lit              Stephenie Meyer   \n",
       "28           4   young-adult                   Harper Lee   \n",
       "29           4       fiction                   Harper Lee   \n",
       "...        ...           ...                          ...   \n",
       "83306     9996       mystery                Ilona Andrews   \n",
       "83307     9996       romance                Ilona Andrews   \n",
       "83308     9996  contemporary                Ilona Andrews   \n",
       "83309     9996         adult                Ilona Andrews   \n",
       "83310     9997        series               Robert A. Caro   \n",
       "83311     9997      classics               Robert A. Caro   \n",
       "83312     9997    nonfiction               Robert A. Caro   \n",
       "83313     9997    historical               Robert A. Caro   \n",
       "83314     9997     biography               Robert A. Caro   \n",
       "83315     9997      politics               Robert A. Caro   \n",
       "83316     9998       fiction              Patrick O'Brian   \n",
       "83317     9998        series              Patrick O'Brian   \n",
       "83318     9998     adventure              Patrick O'Brian   \n",
       "83319     9998      classics              Patrick O'Brian   \n",
       "83320     9998        novels              Patrick O'Brian   \n",
       "83321     9998    literature              Patrick O'Brian   \n",
       "83322     9998    historical              Patrick O'Brian   \n",
       "83323     9999  contemporary              Peggy Orenstein   \n",
       "83324     9999         humor              Peggy Orenstein   \n",
       "83325     9999         adult              Peggy Orenstein   \n",
       "83326     9999    nonfiction              Peggy Orenstein   \n",
       "83327     9999       culture              Peggy Orenstein   \n",
       "83328     9999     sociology              Peggy Orenstein   \n",
       "83329     9999      politics              Peggy Orenstein   \n",
       "83330     9999    psychology              Peggy Orenstein   \n",
       "83331     9999     chick-lit              Peggy Orenstein   \n",
       "83332    10000    nonfiction                  John Keegan   \n",
       "83333    10000    historical                  John Keegan   \n",
       "83334    10000     biography                  John Keegan   \n",
       "83335    10000      politics                  John Keegan   \n",
       "\n",
       "       original_publication_year  \\\n",
       "0                         2008.0   \n",
       "1                         2008.0   \n",
       "2                         2008.0   \n",
       "3                         2008.0   \n",
       "4                         2008.0   \n",
       "5                         2008.0   \n",
       "6                         2008.0   \n",
       "7                         2008.0   \n",
       "8                         2008.0   \n",
       "9                         2008.0   \n",
       "10                        1997.0   \n",
       "11                        1997.0   \n",
       "12                        1997.0   \n",
       "13                        1997.0   \n",
       "14                        1997.0   \n",
       "15                        1997.0   \n",
       "16                        1997.0   \n",
       "17                        1997.0   \n",
       "18                        1997.0   \n",
       "19                        1997.0   \n",
       "20                        2005.0   \n",
       "21                        2005.0   \n",
       "22                        2005.0   \n",
       "23                        2005.0   \n",
       "24                        2005.0   \n",
       "25                        2005.0   \n",
       "26                        2005.0   \n",
       "27                        2005.0   \n",
       "28                        1960.0   \n",
       "29                        1960.0   \n",
       "...                          ...   \n",
       "83306                     2010.0   \n",
       "83307                     2010.0   \n",
       "83308                     2010.0   \n",
       "83309                     2010.0   \n",
       "83310                     1990.0   \n",
       "83311                     1990.0   \n",
       "83312                     1990.0   \n",
       "83313                     1990.0   \n",
       "83314                     1990.0   \n",
       "83315                     1990.0   \n",
       "83316                     1977.0   \n",
       "83317                     1977.0   \n",
       "83318                     1977.0   \n",
       "83319                     1977.0   \n",
       "83320                     1977.0   \n",
       "83321                     1977.0   \n",
       "83322                     1977.0   \n",
       "83323                     2011.0   \n",
       "83324                     2011.0   \n",
       "83325                     2011.0   \n",
       "83326                     2011.0   \n",
       "83327                     2011.0   \n",
       "83328                     2011.0   \n",
       "83329                     2011.0   \n",
       "83330                     2011.0   \n",
       "83331                     2011.0   \n",
       "83332                     1998.0   \n",
       "83333                     1998.0   \n",
       "83334                     1998.0   \n",
       "83335                     1998.0   \n",
       "\n",
       "                                          original_title  average_rating  \\\n",
       "0                                       The Hunger Games            4.34   \n",
       "1                                       The Hunger Games            4.34   \n",
       "2                                       The Hunger Games            4.34   \n",
       "3                                       The Hunger Games            4.34   \n",
       "4                                       The Hunger Games            4.34   \n",
       "5                                       The Hunger Games            4.34   \n",
       "6                                       The Hunger Games            4.34   \n",
       "7                                       The Hunger Games            4.34   \n",
       "8                                       The Hunger Games            4.34   \n",
       "9                                       The Hunger Games            4.34   \n",
       "10              Harry Potter and the Philosopher's Stone            4.44   \n",
       "11              Harry Potter and the Philosopher's Stone            4.44   \n",
       "12              Harry Potter and the Philosopher's Stone            4.44   \n",
       "13              Harry Potter and the Philosopher's Stone            4.44   \n",
       "14              Harry Potter and the Philosopher's Stone            4.44   \n",
       "15              Harry Potter and the Philosopher's Stone            4.44   \n",
       "16              Harry Potter and the Philosopher's Stone            4.44   \n",
       "17              Harry Potter and the Philosopher's Stone            4.44   \n",
       "18              Harry Potter and the Philosopher's Stone            4.44   \n",
       "19              Harry Potter and the Philosopher's Stone            4.44   \n",
       "20                                              Twilight            3.57   \n",
       "21                                              Twilight            3.57   \n",
       "22                                              Twilight            3.57   \n",
       "23                                              Twilight            3.57   \n",
       "24                                              Twilight            3.57   \n",
       "25                                              Twilight            3.57   \n",
       "26                                              Twilight            3.57   \n",
       "27                                              Twilight            3.57   \n",
       "28                                 To Kill a Mockingbird            4.25   \n",
       "29                                 To Kill a Mockingbird            4.25   \n",
       "...                                                  ...             ...   \n",
       "83306                                         Bayou Moon            4.09   \n",
       "83307                                         Bayou Moon            4.09   \n",
       "83308                                         Bayou Moon            4.09   \n",
       "83309                                         Bayou Moon            4.09   \n",
       "83310                                   Means of Ascent             4.25   \n",
       "83311                                   Means of Ascent             4.25   \n",
       "83312                                   Means of Ascent             4.25   \n",
       "83313                                   Means of Ascent             4.25   \n",
       "83314                                   Means of Ascent             4.25   \n",
       "83315                                   Means of Ascent             4.25   \n",
       "83316                              The Mauritius Command            4.35   \n",
       "83317                              The Mauritius Command            4.35   \n",
       "83318                              The Mauritius Command            4.35   \n",
       "83319                              The Mauritius Command            4.35   \n",
       "83320                              The Mauritius Command            4.35   \n",
       "83321                              The Mauritius Command            4.35   \n",
       "83322                              The Mauritius Command            4.35   \n",
       "83323  Cinderella Ate My Daughter: Dispatches from th...            3.65   \n",
       "83324  Cinderella Ate My Daughter: Dispatches from th...            3.65   \n",
       "83325  Cinderella Ate My Daughter: Dispatches from th...            3.65   \n",
       "83326  Cinderella Ate My Daughter: Dispatches from th...            3.65   \n",
       "83327  Cinderella Ate My Daughter: Dispatches from th...            3.65   \n",
       "83328  Cinderella Ate My Daughter: Dispatches from th...            3.65   \n",
       "83329  Cinderella Ate My Daughter: Dispatches from th...            3.65   \n",
       "83330  Cinderella Ate My Daughter: Dispatches from th...            3.65   \n",
       "83331  Cinderella Ate My Daughter: Dispatches from th...            3.65   \n",
       "83332                                The First World War            4.00   \n",
       "83333                                The First World War            4.00   \n",
       "83334                                The First World War            4.00   \n",
       "83335                                The First World War            4.00   \n",
       "\n",
       "                                               image_url  \n",
       "0      https://images.gr-assets.com/books/1447303603m...  \n",
       "1      https://images.gr-assets.com/books/1447303603m...  \n",
       "2      https://images.gr-assets.com/books/1447303603m...  \n",
       "3      https://images.gr-assets.com/books/1447303603m...  \n",
       "4      https://images.gr-assets.com/books/1447303603m...  \n",
       "5      https://images.gr-assets.com/books/1447303603m...  \n",
       "6      https://images.gr-assets.com/books/1447303603m...  \n",
       "7      https://images.gr-assets.com/books/1447303603m...  \n",
       "8      https://images.gr-assets.com/books/1447303603m...  \n",
       "9      https://images.gr-assets.com/books/1447303603m...  \n",
       "10     https://images.gr-assets.com/books/1474154022m...  \n",
       "11     https://images.gr-assets.com/books/1474154022m...  \n",
       "12     https://images.gr-assets.com/books/1474154022m...  \n",
       "13     https://images.gr-assets.com/books/1474154022m...  \n",
       "14     https://images.gr-assets.com/books/1474154022m...  \n",
       "15     https://images.gr-assets.com/books/1474154022m...  \n",
       "16     https://images.gr-assets.com/books/1474154022m...  \n",
       "17     https://images.gr-assets.com/books/1474154022m...  \n",
       "18     https://images.gr-assets.com/books/1474154022m...  \n",
       "19     https://images.gr-assets.com/books/1474154022m...  \n",
       "20     https://images.gr-assets.com/books/1361039443m...  \n",
       "21     https://images.gr-assets.com/books/1361039443m...  \n",
       "22     https://images.gr-assets.com/books/1361039443m...  \n",
       "23     https://images.gr-assets.com/books/1361039443m...  \n",
       "24     https://images.gr-assets.com/books/1361039443m...  \n",
       "25     https://images.gr-assets.com/books/1361039443m...  \n",
       "26     https://images.gr-assets.com/books/1361039443m...  \n",
       "27     https://images.gr-assets.com/books/1361039443m...  \n",
       "28     https://images.gr-assets.com/books/1361975680m...  \n",
       "29     https://images.gr-assets.com/books/1361975680m...  \n",
       "...                                                  ...  \n",
       "83306  https://images.gr-assets.com/books/1307445460m...  \n",
       "83307  https://images.gr-assets.com/books/1307445460m...  \n",
       "83308  https://images.gr-assets.com/books/1307445460m...  \n",
       "83309  https://images.gr-assets.com/books/1307445460m...  \n",
       "83310  https://s.gr-assets.com/assets/nophoto/book/11...  \n",
       "83311  https://s.gr-assets.com/assets/nophoto/book/11...  \n",
       "83312  https://s.gr-assets.com/assets/nophoto/book/11...  \n",
       "83313  https://s.gr-assets.com/assets/nophoto/book/11...  \n",
       "83314  https://s.gr-assets.com/assets/nophoto/book/11...  \n",
       "83315  https://s.gr-assets.com/assets/nophoto/book/11...  \n",
       "83316  https://images.gr-assets.com/books/1455373531m...  \n",
       "83317  https://images.gr-assets.com/books/1455373531m...  \n",
       "83318  https://images.gr-assets.com/books/1455373531m...  \n",
       "83319  https://images.gr-assets.com/books/1455373531m...  \n",
       "83320  https://images.gr-assets.com/books/1455373531m...  \n",
       "83321  https://images.gr-assets.com/books/1455373531m...  \n",
       "83322  https://images.gr-assets.com/books/1455373531m...  \n",
       "83323  https://images.gr-assets.com/books/1279214118m...  \n",
       "83324  https://images.gr-assets.com/books/1279214118m...  \n",
       "83325  https://images.gr-assets.com/books/1279214118m...  \n",
       "83326  https://images.gr-assets.com/books/1279214118m...  \n",
       "83327  https://images.gr-assets.com/books/1279214118m...  \n",
       "83328  https://images.gr-assets.com/books/1279214118m...  \n",
       "83329  https://images.gr-assets.com/books/1279214118m...  \n",
       "83330  https://images.gr-assets.com/books/1279214118m...  \n",
       "83331  https://images.gr-assets.com/books/1279214118m...  \n",
       "83332  https://images.gr-assets.com/books/1403194704m...  \n",
       "83333  https://images.gr-assets.com/books/1403194704m...  \n",
       "83334  https://images.gr-assets.com/books/1403194704m...  \n",
       "83335  https://images.gr-assets.com/books/1403194704m...  \n",
       "\n",
       "[83336 rows x 7 columns]"
      ]
     },
     "execution_count": 7,
     "metadata": {},
     "output_type": "execute_result"
    }
   ],
   "source": [
    "livres = pd.merge(left=livres, right=books, on=\"book_id\")\n",
    "livres"
   ]
  },
  {
   "cell_type": "code",
   "execution_count": null,
   "metadata": {},
   "outputs": [],
   "source": []
  },
  {
   "cell_type": "code",
   "execution_count": 8,
   "metadata": {},
   "outputs": [
    {
     "name": "stdout",
     "output_type": "stream",
     "text": [
      "                   Liste des livres qui pourraient vous plaire\n",
      "               ===================================================\n",
      "\n",
      "V for Vendetta de Alan Moore, David   Lloyd (1990).     Note moyenne: 4.25/5\n"
     ]
    },
    {
     "data": {
      "text/html": [
       "<img src=\"https://images.gr-assets.com/books/1343668985m/5805.jpg\" width=\"100\" height=\"100\"/>"
      ],
      "text/plain": [
       "<IPython.core.display.Image object>"
      ]
     },
     "metadata": {},
     "output_type": "display_data"
    },
    {
     "name": "stdout",
     "output_type": "stream",
     "text": [
      "Stardust de Neil Gaiman (1999).     Note moyenne: 4.07/5\n"
     ]
    },
    {
     "data": {
      "text/html": [
       "<img src=\"https://images.gr-assets.com/books/1459127484m/16793.jpg\" width=\"100\" height=\"100\"/>"
      ],
      "text/plain": [
       "<IPython.core.display.Image object>"
      ]
     },
     "metadata": {},
     "output_type": "display_data"
    },
    {
     "name": "stdout",
     "output_type": "stream",
     "text": [
      "Greg Heffley's Journal de Jeff Kinney (2004).     Note moyenne: 3.96/5\n"
     ]
    },
    {
     "data": {
      "text/html": [
       "<img src=\"https://s.gr-assets.com/assets/nophoto/book/111x148-bcc042a9c91a29c1d680899eff700a03.png\" width=\"100\" height=\"100\"/>"
      ],
      "text/plain": [
       "<IPython.core.display.Image object>"
      ]
     },
     "metadata": {},
     "output_type": "display_data"
    },
    {
     "name": "stdout",
     "output_type": "stream",
     "text": [
      "The Hobbit de Chuck Dixon, J.R.R. Tolkien, David Wenzel, Sean Deming (1989).     Note moyenne: 4.48/5\n"
     ]
    },
    {
     "data": {
      "text/html": [
       "<img src=\"https://images.gr-assets.com/books/1374681632m/659469.jpg\" width=\"100\" height=\"100\"/>"
      ],
      "text/plain": [
       "<IPython.core.display.Image object>"
      ]
     },
     "metadata": {},
     "output_type": "display_data"
    },
    {
     "name": "stdout",
     "output_type": "stream",
     "text": [
      "Maus: A Survivor's Tale : My Father Bleeds History de Art Spiegelman (1985).     Note moyenne: 4.35/5\n"
     ]
    },
    {
     "data": {
      "text/html": [
       "<img src=\"https://images.gr-assets.com/books/1327884972m/15196.jpg\" width=\"100\" height=\"100\"/>"
      ],
      "text/plain": [
       "<IPython.core.display.Image object>"
      ]
     },
     "metadata": {},
     "output_type": "display_data"
    },
    {
     "name": "stdout",
     "output_type": "stream",
     "text": [
      "The Walking Dead, Vol. 1: Days Gone Bye de Robert Kirkman, Tony Moore (2004).     Note moyenne: 4.3/5\n"
     ]
    },
    {
     "data": {
      "text/html": [
       "<img src=\"https://images.gr-assets.com/books/1389233242m/138398.jpg\" width=\"100\" height=\"100\"/>"
      ],
      "text/plain": [
       "<IPython.core.display.Image object>"
      ]
     },
     "metadata": {},
     "output_type": "display_data"
    },
    {
     "name": "stdout",
     "output_type": "stream",
     "text": [
      "The Amazing Adventures of Kavalier & Clay de Michael Chabon (2000).     Note moyenne: 4.17/5\n"
     ]
    },
    {
     "data": {
      "text/html": [
       "<img src=\"https://images.gr-assets.com/books/1479660066m/3985.jpg\" width=\"100\" height=\"100\"/>"
      ],
      "text/plain": [
       "<IPython.core.display.Image object>"
      ]
     },
     "metadata": {},
     "output_type": "display_data"
    },
    {
     "name": "stdout",
     "output_type": "stream",
     "text": [
      "BLEACH―ブリーチ―　1 de Tite Kubo (2002).     Note moyenne: 4.21/5\n"
     ]
    },
    {
     "data": {
      "text/html": [
       "<img src=\"https://s.gr-assets.com/assets/nophoto/book/111x148-bcc042a9c91a29c1d680899eff700a03.png\" width=\"100\" height=\"100\"/>"
      ],
      "text/plain": [
       "<IPython.core.display.Image object>"
      ]
     },
     "metadata": {},
     "output_type": "display_data"
    },
    {
     "name": "stdout",
     "output_type": "stream",
     "text": [
      "nan de Allie Brosh (2013).     Note moyenne: 4.17/5\n"
     ]
    },
    {
     "data": {
      "text/html": [
       "<img src=\"https://images.gr-assets.com/books/1409522492m/17571564.jpg\" width=\"100\" height=\"100\"/>"
      ],
      "text/plain": [
       "<IPython.core.display.Image object>"
      ]
     },
     "metadata": {},
     "output_type": "display_data"
    },
    {
     "name": "stdout",
     "output_type": "stream",
     "text": [
      "Batman: The Killing Joke  de Alan Moore, Brian Bolland, Tim Sale (1988).     Note moyenne: 4.36/5\n"
     ]
    },
    {
     "data": {
      "text/html": [
       "<img src=\"https://images.gr-assets.com/books/1346331835m/96358.jpg\" width=\"100\" height=\"100\"/>"
      ],
      "text/plain": [
       "<IPython.core.display.Image object>"
      ]
     },
     "metadata": {},
     "output_type": "display_data"
    },
    {
     "name": "stdout",
     "output_type": "stream",
     "text": [
      "Scott Pilgrim, Volume 1: Scott Pilgrim's Precious Little Life de Bryan Lee O'Malley (2004).     Note moyenne: 4.18/5\n"
     ]
    },
    {
     "data": {
      "text/html": [
       "<img src=\"https://s.gr-assets.com/assets/nophoto/book/111x148-bcc042a9c91a29c1d680899eff700a03.png\" width=\"100\" height=\"100\"/>"
      ],
      "text/plain": [
       "<IPython.core.display.Image object>"
      ]
     },
     "metadata": {},
     "output_type": "display_data"
    },
    {
     "name": "stdout",
     "output_type": "stream",
     "text": [
      "Preludes & Nocturnes de Neil Gaiman, Sam Kieth, Mike Dringenberg, Malcolm Jones III, Todd Klein, Karen  Berger (1989).     Note moyenne: 4.3/5\n"
     ]
    },
    {
     "data": {
      "text/html": [
       "<img src=\"https://images.gr-assets.com/books/1411609637m/23754.jpg\" width=\"100\" height=\"100\"/>"
      ],
      "text/plain": [
       "<IPython.core.display.Image object>"
      ]
     },
     "metadata": {},
     "output_type": "display_data"
    },
    {
     "name": "stdout",
     "output_type": "stream",
     "text": [
      "Calvin and Hobbes de Bill Watterson, G.B. Trudeau (1987).     Note moyenne: 4.61/5\n"
     ]
    },
    {
     "data": {
      "text/html": [
       "<img src=\"https://s.gr-assets.com/assets/nophoto/book/111x148-bcc042a9c91a29c1d680899eff700a03.png\" width=\"100\" height=\"100\"/>"
      ],
      "text/plain": [
       "<IPython.core.display.Image object>"
      ]
     },
     "metadata": {},
     "output_type": "display_data"
    },
    {
     "name": "stdout",
     "output_type": "stream",
     "text": [
      "フルーツバスケット 1 de Natsuki Takaya, Alethea Nibley, Athena Nibley (1999).     Note moyenne: 4.23/5\n"
     ]
    },
    {
     "data": {
      "text/html": [
       "<img src=\"https://s.gr-assets.com/assets/nophoto/book/111x148-bcc042a9c91a29c1d680899eff700a03.png\" width=\"100\" height=\"100\"/>"
      ],
      "text/plain": [
       "<IPython.core.display.Image object>"
      ]
     },
     "metadata": {},
     "output_type": "display_data"
    },
    {
     "name": "stdout",
     "output_type": "stream",
     "text": [
      "The Invention of Hugo Cabret de Brian Selznick (2007).     Note moyenne: 4.23/5\n"
     ]
    },
    {
     "data": {
      "text/html": [
       "<img src=\"https://images.gr-assets.com/books/1422312376m/9673436.jpg\" width=\"100\" height=\"100\"/>"
      ],
      "text/plain": [
       "<IPython.core.display.Image object>"
      ]
     },
     "metadata": {},
     "output_type": "display_data"
    },
    {
     "name": "stdout",
     "output_type": "stream",
     "text": [
      "桜蘭高校ホスト部 1 de Bisco Hatori (2003).     Note moyenne: 4.36/5\n"
     ]
    },
    {
     "data": {
      "text/html": [
       "<img src=\"https://s.gr-assets.com/assets/nophoto/book/111x148-bcc042a9c91a29c1d680899eff700a03.png\" width=\"100\" height=\"100\"/>"
      ],
      "text/plain": [
       "<IPython.core.display.Image object>"
      ]
     },
     "metadata": {},
     "output_type": "display_data"
    },
    {
     "name": "stdout",
     "output_type": "stream",
     "text": [
      "Persepolis de Marjane Satrapi, Mattias Ripa (2000).     Note moyenne: 4.23/5\n"
     ]
    },
    {
     "data": {
      "text/html": [
       "<img src=\"https://images.gr-assets.com/books/1425871473m/9516.jpg\" width=\"100\" height=\"100\"/>"
      ],
      "text/plain": [
       "<IPython.core.display.Image object>"
      ]
     },
     "metadata": {},
     "output_type": "display_data"
    },
    {
     "name": "stdout",
     "output_type": "stream",
     "text": [
      "NARUTO -ナルト- 巻ノ一  de Masashi Kishimoto, Katy Bridges (1999).     Note moyenne: 4.35/5\n"
     ]
    },
    {
     "data": {
      "text/html": [
       "<img src=\"https://images.gr-assets.com/books/1435524806m/204042.jpg\" width=\"100\" height=\"100\"/>"
      ],
      "text/plain": [
       "<IPython.core.display.Image object>"
      ]
     },
     "metadata": {},
     "output_type": "display_data"
    },
    {
     "name": "stdout",
     "output_type": "stream",
     "text": [
      "Smile de Raina Telgemeier (2009).     Note moyenne: 4.19/5\n"
     ]
    },
    {
     "data": {
      "text/html": [
       "<img src=\"https://images.gr-assets.com/books/1438206850m/6393631.jpg\" width=\"100\" height=\"100\"/>"
      ],
      "text/plain": [
       "<IPython.core.display.Image object>"
      ]
     },
     "metadata": {},
     "output_type": "display_data"
    },
    {
     "name": "stdout",
     "output_type": "stream",
     "text": [
      "鋼の錬金術師 1 de Hiromu Arakawa, Akira Watanabe (2002).     Note moyenne: 4.49/5\n"
     ]
    },
    {
     "data": {
      "text/html": [
       "<img src=\"https://s.gr-assets.com/assets/nophoto/book/111x148-bcc042a9c91a29c1d680899eff700a03.png\" width=\"100\" height=\"100\"/>"
      ],
      "text/plain": [
       "<IPython.core.display.Image object>"
      ]
     },
     "metadata": {},
     "output_type": "display_data"
    },
    {
     "name": "stdout",
     "output_type": "stream",
     "text": [
      "The Essential Calvin and Hobbes: A Calvin and Hobbes Treasury de Bill Watterson (1988).     Note moyenne: 4.65/5\n"
     ]
    },
    {
     "data": {
      "text/html": [
       "<img src=\"https://s.gr-assets.com/assets/nophoto/book/111x148-bcc042a9c91a29c1d680899eff700a03.png\" width=\"100\" height=\"100\"/>"
      ],
      "text/plain": [
       "<IPython.core.display.Image object>"
      ]
     },
     "metadata": {},
     "output_type": "display_data"
    },
    {
     "name": "stdout",
     "output_type": "stream",
     "text": [
      "Saga, Volume One de Brian K. Vaughan, Fiona Staples (2012).     Note moyenne: 4.25/5\n"
     ]
    },
    {
     "data": {
      "text/html": [
       "<img src=\"https://images.gr-assets.com/books/1486028947m/15704307.jpg\" width=\"100\" height=\"100\"/>"
      ],
      "text/plain": [
       "<IPython.core.display.Image object>"
      ]
     },
     "metadata": {},
     "output_type": "display_data"
    },
    {
     "name": "stdout",
     "output_type": "stream",
     "text": [
      "Rodrick Rules de Jeff Kinney (2008).     Note moyenne: 4.1/5\n"
     ]
    },
    {
     "data": {
      "text/html": [
       "<img src=\"https://images.gr-assets.com/books/1360095964m/1809465.jpg\" width=\"100\" height=\"100\"/>"
      ],
      "text/plain": [
       "<IPython.core.display.Image object>"
      ]
     },
     "metadata": {},
     "output_type": "display_data"
    },
    {
     "name": "stdout",
     "output_type": "stream",
     "text": [
      "Fables, Volume 1: Legends in Exile de Bill Willingham, Lan Medina, Steve Leialoha, Craig Hamilton, James Jean (2001).     Note moyenne: 3.99/5\n"
     ]
    },
    {
     "data": {
      "text/html": [
       "<img src=\"https://images.gr-assets.com/books/1375392441m/21326.jpg\" width=\"100\" height=\"100\"/>"
      ],
      "text/plain": [
       "<IPython.core.display.Image object>"
      ]
     },
     "metadata": {},
     "output_type": "display_data"
    },
    {
     "name": "stdout",
     "output_type": "stream",
     "text": [
      "ヴァンパイア騎士 1 de Matsuri Hino, Tomo Kimura (2005).     Note moyenne: 4.1/5\n"
     ]
    },
    {
     "data": {
      "text/html": [
       "<img src=\"https://images.gr-assets.com/books/1329232329m/263145.jpg\" width=\"100\" height=\"100\"/>"
      ],
      "text/plain": [
       "<IPython.core.display.Image object>"
      ]
     },
     "metadata": {},
     "output_type": "display_data"
    },
    {
     "name": "stdout",
     "output_type": "stream",
     "text": [
      "Understanding Comics: The Invisible Art de Scott McCloud (1993).     Note moyenne: 3.98/5\n"
     ]
    },
    {
     "data": {
      "text/html": [
       "<img src=\"https://images.gr-assets.com/books/1328408101m/102920.jpg\" width=\"100\" height=\"100\"/>"
      ],
      "text/plain": [
       "<IPython.core.display.Image object>"
      ]
     },
     "metadata": {},
     "output_type": "display_data"
    },
    {
     "name": "stdout",
     "output_type": "stream",
     "text": [
      "The Last Straw de Jeff Kinney (2009).     Note moyenne: 4.11/5\n"
     ]
    },
    {
     "data": {
      "text/html": [
       "<img src=\"https://images.gr-assets.com/books/1350396036m/3293821.jpg\" width=\"100\" height=\"100\"/>"
      ],
      "text/plain": [
       "<IPython.core.display.Image object>"
      ]
     },
     "metadata": {},
     "output_type": "display_data"
    },
    {
     "name": "stdout",
     "output_type": "stream",
     "text": [
      "進撃の巨人 1 de Hajime Isayama, Sheldon Drzka (2010).     Note moyenne: 4.42/5\n"
     ]
    },
    {
     "data": {
      "text/html": [
       "<img src=\"https://images.gr-assets.com/books/1432712438m/13154150.jpg\" width=\"100\" height=\"100\"/>"
      ],
      "text/plain": [
       "<IPython.core.display.Image object>"
      ]
     },
     "metadata": {},
     "output_type": "display_data"
    },
    {
     "name": "stdout",
     "output_type": "stream",
     "text": [
      "Dog Days de Jeff Kinney (2009).     Note moyenne: 4.14/5\n"
     ]
    },
    {
     "data": {
      "text/html": [
       "<img src=\"https://s.gr-assets.com/assets/nophoto/book/111x148-bcc042a9c91a29c1d680899eff700a03.png\" width=\"100\" height=\"100\"/>"
      ],
      "text/plain": [
       "<IPython.core.display.Image object>"
      ]
     },
     "metadata": {},
     "output_type": "display_data"
    },
    {
     "name": "stdout",
     "output_type": "stream",
     "text": [
      "Y: The Last Man, Vol. 1: Unmanned de Brian K. Vaughan, Pia Guerra, José Marzán Jr. (2003).     Note moyenne: 4.12/5\n"
     ]
    },
    {
     "data": {
      "text/html": [
       "<img src=\"https://s.gr-assets.com/assets/nophoto/book/111x148-bcc042a9c91a29c1d680899eff700a03.png\" width=\"100\" height=\"100\"/>"
      ],
      "text/plain": [
       "<IPython.core.display.Image object>"
      ]
     },
     "metadata": {},
     "output_type": "display_data"
    },
    {
     "name": "stdout",
     "output_type": "stream",
     "text": [
      "Maus II : And Here My Troubles Began  de Art Spiegelman (1991).     Note moyenne: 4.41/5\n"
     ]
    },
    {
     "data": {
      "text/html": [
       "<img src=\"https://images.gr-assets.com/books/1327887479m/15197.jpg\" width=\"100\" height=\"100\"/>"
      ],
      "text/plain": [
       "<IPython.core.display.Image object>"
      ]
     },
     "metadata": {},
     "output_type": "display_data"
    },
    {
     "name": "stdout",
     "output_type": "stream",
     "text": [
      "One Piece, Volume 01 de Eiichirō Oda, Andy Nakatani (1997).     Note moyenne: 4.42/5\n"
     ]
    },
    {
     "data": {
      "text/html": [
       "<img src=\"https://images.gr-assets.com/books/1318523719m/1237398.jpg\" width=\"100\" height=\"100\"/>"
      ],
      "text/plain": [
       "<IPython.core.display.Image object>"
      ]
     },
     "metadata": {},
     "output_type": "display_data"
    },
    {
     "name": "stdout",
     "output_type": "stream",
     "text": [
      "Go the Fuck to Sleep de Adam Mansbach, Ricardo Cortés (2011).     Note moyenne: 4.26/5\n"
     ]
    },
    {
     "data": {
      "text/html": [
       "<img src=\"https://images.gr-assets.com/books/1342861907m/11192642.jpg\" width=\"100\" height=\"100\"/>"
      ],
      "text/plain": [
       "<IPython.core.display.Image object>"
      ]
     },
     "metadata": {},
     "output_type": "display_data"
    },
    {
     "name": "stdout",
     "output_type": "stream",
     "text": [
      "黒執事 I [Kuroshitsuji I] de Yana Toboso, Tomo Kimura (2007).     Note moyenne: 4.37/5\n"
     ]
    },
    {
     "data": {
      "text/html": [
       "<img src=\"https://images.gr-assets.com/books/1336691148m/6690979.jpg\" width=\"100\" height=\"100\"/>"
      ],
      "text/plain": [
       "<IPython.core.display.Image object>"
      ]
     },
     "metadata": {},
     "output_type": "display_data"
    },
    {
     "name": "stdout",
     "output_type": "stream",
     "text": [
      "nan de Alison Bechdel (2006).     Note moyenne: 4.12/5\n"
     ]
    },
    {
     "data": {
      "text/html": [
       "<img src=\"https://images.gr-assets.com/books/1327652831m/38990.jpg\" width=\"100\" height=\"100\"/>"
      ],
      "text/plain": [
       "<IPython.core.display.Image object>"
      ]
     },
     "metadata": {},
     "output_type": "display_data"
    },
    {
     "name": "stdout",
     "output_type": "stream",
     "text": [
      "The Ugly Truth de Jeff Kinney (2010).     Note moyenne: 4.16/5\n"
     ]
    },
    {
     "data": {
      "text/html": [
       "<img src=\"https://images.gr-assets.com/books/1332046095m/7823678.jpg\" width=\"100\" height=\"100\"/>"
      ],
      "text/plain": [
       "<IPython.core.display.Image object>"
      ]
     },
     "metadata": {},
     "output_type": "display_data"
    },
    {
     "name": "stdout",
     "output_type": "stream",
     "text": [
      "Anne Rice's The Vampire Lestat: The Graphic Novel de Faye Perozich, Anne Rice, John Bolton, Daerick Gröss (1989).     Note moyenne: 4.17/5\n"
     ]
    },
    {
     "data": {
      "text/html": [
       "<img src=\"https://s.gr-assets.com/assets/nophoto/book/111x148-bcc042a9c91a29c1d680899eff700a03.png\" width=\"100\" height=\"100\"/>"
      ],
      "text/plain": [
       "<IPython.core.display.Image object>"
      ]
     },
     "metadata": {},
     "output_type": "display_data"
    },
    {
     "name": "stdout",
     "output_type": "stream",
     "text": [
      "nan de Roberto Aguirre-Sacasa, Stephen King, Mike Perkins, Laura       Martin (2009).     Note moyenne: 4.43/5\n"
     ]
    },
    {
     "data": {
      "text/html": [
       "<img src=\"https://s.gr-assets.com/assets/nophoto/book/111x148-bcc042a9c91a29c1d680899eff700a03.png\" width=\"100\" height=\"100\"/>"
      ],
      "text/plain": [
       "<IPython.core.display.Image object>"
      ]
     },
     "metadata": {},
     "output_type": "display_data"
    },
    {
     "name": "stdout",
     "output_type": "stream",
     "text": [
      "Out from Boneville de Jeff Smith, Steve Hamaker (1993).     Note moyenne: 4.16/5\n"
     ]
    },
    {
     "data": {
      "text/html": [
       "<img src=\"https://images.gr-assets.com/books/1327921261m/106134.jpg\" width=\"100\" height=\"100\"/>"
      ],
      "text/plain": [
       "<IPython.core.display.Image object>"
      ]
     },
     "metadata": {},
     "output_type": "display_data"
    },
    {
     "name": "stdout",
     "output_type": "stream",
     "text": [
      "Cabin Fever de Jeff Kinney (2010).     Note moyenne: 4.21/5\n"
     ]
    },
    {
     "data": {
      "text/html": [
       "<img src=\"https://images.gr-assets.com/books/1350396037m/11254250.jpg\" width=\"100\" height=\"100\"/>"
      ],
      "text/plain": [
       "<IPython.core.display.Image object>"
      ]
     },
     "metadata": {},
     "output_type": "display_data"
    },
    {
     "name": "stdout",
     "output_type": "stream",
     "text": [
      "The Walking Dead Compendium Volume 1 de Robert Kirkman (2009).     Note moyenne: 4.43/5\n"
     ]
    },
    {
     "data": {
      "text/html": [
       "<img src=\"https://images.gr-assets.com/books/1449865699m/6465707.jpg\" width=\"100\" height=\"100\"/>"
      ],
      "text/plain": [
       "<IPython.core.display.Image object>"
      ]
     },
     "metadata": {},
     "output_type": "display_data"
    },
    {
     "name": "stdout",
     "output_type": "stream",
     "text": [
      "Persepolis de Marjane Satrapi, Mattias Ripa, Blake Ferris, Anjali Singh (2003).     Note moyenne: 4.36/5\n"
     ]
    },
    {
     "data": {
      "text/html": [
       "<img src=\"https://images.gr-assets.com/books/1327876995m/991197.jpg\" width=\"100\" height=\"100\"/>"
      ],
      "text/plain": [
       "<IPython.core.display.Image object>"
      ]
     },
     "metadata": {},
     "output_type": "display_data"
    },
    {
     "name": "stdout",
     "output_type": "stream",
     "text": [
      "Fairy Tail 1 de Hiro Mashima, William Flanagan (2006).     Note moyenne: 4.4/5\n"
     ]
    },
    {
     "data": {
      "text/html": [
       "<img src=\"https://s.gr-assets.com/assets/nophoto/book/111x148-bcc042a9c91a29c1d680899eff700a03.png\" width=\"100\" height=\"100\"/>"
      ],
      "text/plain": [
       "<IPython.core.display.Image object>"
      ]
     },
     "metadata": {},
     "output_type": "display_data"
    },
    {
     "name": "stdout",
     "output_type": "stream",
     "text": [
      "What If?: Serious Scientific Answers to Absurd Hypothetical Questions de Randall Munroe (2014).     Note moyenne: 4.17/5\n"
     ]
    },
    {
     "data": {
      "text/html": [
       "<img src=\"https://images.gr-assets.com/books/1451351509m/21413662.jpg\" width=\"100\" height=\"100\"/>"
      ],
      "text/plain": [
       "<IPython.core.display.Image object>"
      ]
     },
     "metadata": {},
     "output_type": "display_data"
    },
    {
     "name": "stdout",
     "output_type": "stream",
     "text": [
      "The Sandman: Dream Country de Neil Gaiman, Kelley Jones, Charles Vess, Colleen Doran, Malcolm Jones III, Steve Erickson (1991).     Note moyenne: 4.28/5\n"
     ]
    },
    {
     "data": {
      "text/html": [
       "<img src=\"https://images.gr-assets.com/books/1402485052m/25100.jpg\" width=\"100\" height=\"100\"/>"
      ],
      "text/plain": [
       "<IPython.core.display.Image object>"
      ]
     },
     "metadata": {},
     "output_type": "display_data"
    },
    {
     "name": "stdout",
     "output_type": "stream",
     "text": [
      "A Scanner Darkly  de Philip K. Dick (1977).     Note moyenne: 4.04/5\n"
     ]
    },
    {
     "data": {
      "text/html": [
       "<img src=\"https://s.gr-assets.com/assets/nophoto/book/111x148-bcc042a9c91a29c1d680899eff700a03.png\" width=\"100\" height=\"100\"/>"
      ],
      "text/plain": [
       "<IPython.core.display.Image object>"
      ]
     },
     "metadata": {},
     "output_type": "display_data"
    },
    {
     "name": "stdout",
     "output_type": "stream",
     "text": [
      "Batman: The Long Halloween de Jeph Loeb, Tim Sale, Gregory Wright, Richard Starkings (1997).     Note moyenne: 4.29/5\n"
     ]
    },
    {
     "data": {
      "text/html": [
       "<img src=\"https://images.gr-assets.com/books/1350137101m/106069.jpg\" width=\"100\" height=\"100\"/>"
      ],
      "text/plain": [
       "<IPython.core.display.Image object>"
      ]
     },
     "metadata": {},
     "output_type": "display_data"
    },
    {
     "name": "stdout",
     "output_type": "stream",
     "text": [
      "The Dark Tower: The Gunslinger Born de Peter David, Robin Furth, Jae Lee, Richard Isanove, Stephen King (2007).     Note moyenne: 4.18/5\n"
     ]
    },
    {
     "data": {
      "text/html": [
       "<img src=\"https://images.gr-assets.com/books/1489721554m/342445.jpg\" width=\"100\" height=\"100\"/>"
      ],
      "text/plain": [
       "<IPython.core.display.Image object>"
      ]
     },
     "metadata": {},
     "output_type": "display_data"
    },
    {
     "name": "stdout",
     "output_type": "stream",
     "text": [
      "The Calvin and Hobbes Tenth Anniversary Book de Bill Watterson (1995).     Note moyenne: 4.63/5\n"
     ]
    },
    {
     "data": {
      "text/html": [
       "<img src=\"https://s.gr-assets.com/assets/nophoto/book/111x148-bcc042a9c91a29c1d680899eff700a03.png\" width=\"100\" height=\"100\"/>"
      ],
      "text/plain": [
       "<IPython.core.display.Image object>"
      ]
     },
     "metadata": {},
     "output_type": "display_data"
    },
    {
     "name": "stdout",
     "output_type": "stream",
     "text": [
      "犬夜叉 1 de Rumiko Takahashi (1997).     Note moyenne: 4.26/5\n"
     ]
    },
    {
     "data": {
      "text/html": [
       "<img src=\"https://images.gr-assets.com/books/1288648681m/330744.jpg\" width=\"100\" height=\"100\"/>"
      ],
      "text/plain": [
       "<IPython.core.display.Image object>"
      ]
     },
     "metadata": {},
     "output_type": "display_data"
    },
    {
     "name": "stdout",
     "output_type": "stream",
     "text": [
      "Preacher Vol. 1: Gone to Texas de Garth Ennis, Steve Dillon, Joe R. Lansdale (1996).     Note moyenne: 4.16/5\n"
     ]
    },
    {
     "data": {
      "text/html": [
       "<img src=\"https://images.gr-assets.com/books/1309914494m/95431.jpg\" width=\"100\" height=\"100\"/>"
      ],
      "text/plain": [
       "<IPython.core.display.Image object>"
      ]
     },
     "metadata": {},
     "output_type": "display_data"
    },
    {
     "name": "stdout",
     "output_type": "stream",
     "text": [
      "The Doll's House de Neil Gaiman, Steve Parkhouse, Chris Bachalo, Michael Zulli, Mike Dringenberg, Malcolm Jones III, Todd Klein, Clive Barker (1990).     Note moyenne: 4.44/5\n"
     ]
    },
    {
     "data": {
      "text/html": [
       "<img src=\"https://images.gr-assets.com/books/1298566119m/25099.jpg\" width=\"100\" height=\"100\"/>"
      ],
      "text/plain": [
       "<IPython.core.display.Image object>"
      ]
     },
     "metadata": {},
     "output_type": "display_data"
    },
    {
     "name": "stdout",
     "output_type": "stream",
     "text": [
      "The Sandman: Overture de Neil Gaiman, J.H. Williams III, Dave Stewart, Todd Klein (2015).     Note moyenne: 3.94/5\n"
     ]
    },
    {
     "data": {
      "text/html": [
       "<img src=\"https://images.gr-assets.com/books/1444878181m/18310944.jpg\" width=\"100\" height=\"100\"/>"
      ],
      "text/plain": [
       "<IPython.core.display.Image object>"
      ]
     },
     "metadata": {},
     "output_type": "display_data"
    },
    {
     "name": "stdout",
     "output_type": "stream",
     "text": [
      "Hellboy: Seed of Destruction de Mike Mignola, John Byrne (1994).     Note moyenne: 4.11/5\n"
     ]
    },
    {
     "data": {
      "text/html": [
       "<img src=\"https://images.gr-assets.com/books/1486039246m/102458.jpg\" width=\"100\" height=\"100\"/>"
      ],
      "text/plain": [
       "<IPython.core.display.Image object>"
      ]
     },
     "metadata": {},
     "output_type": "display_data"
    },
    {
     "name": "stdout",
     "output_type": "stream",
     "text": [
      "The Third Wheel de Jeff Kinney (2012).     Note moyenne: 4.21/5\n"
     ]
    },
    {
     "data": {
      "text/html": [
       "<img src=\"https://images.gr-assets.com/books/1366229038m/13563669.jpg\" width=\"100\" height=\"100\"/>"
      ],
      "text/plain": [
       "<IPython.core.display.Image object>"
      ]
     },
     "metadata": {},
     "output_type": "display_data"
    },
    {
     "name": "stdout",
     "output_type": "stream",
     "text": [
      "nan de Roberto Aguirre-Sacasa, Mike Perkins, Laura       Martin, Stephen King (2010).     Note moyenne: 4.52/5\n"
     ]
    },
    {
     "data": {
      "text/html": [
       "<img src=\"https://images.gr-assets.com/books/1313267746m/7746259.jpg\" width=\"100\" height=\"100\"/>"
      ],
      "text/plain": [
       "<IPython.core.display.Image object>"
      ]
     },
     "metadata": {},
     "output_type": "display_data"
    },
    {
     "name": "stdout",
     "output_type": "stream",
     "text": [
      "スキップ・ビート! 1  de Yoshiki Nakamura, Tomo Kimura (2002).     Note moyenne: 4.26/5\n"
     ]
    },
    {
     "data": {
      "text/html": [
       "<img src=\"https://images.gr-assets.com/books/1173395297m/282282.jpg\" width=\"100\" height=\"100\"/>"
      ],
      "text/plain": [
       "<IPython.core.display.Image object>"
      ]
     },
     "metadata": {},
     "output_type": "display_data"
    },
    {
     "name": "stdout",
     "output_type": "stream",
     "text": [
      "The Dark Knight Returns de Frank Miller (1986).     Note moyenne: 4.21/5\n"
     ]
    },
    {
     "data": {
      "text/html": [
       "<img src=\"https://s.gr-assets.com/assets/nophoto/book/111x148-bcc042a9c91a29c1d680899eff700a03.png\" width=\"100\" height=\"100\"/>"
      ],
      "text/plain": [
       "<IPython.core.display.Image object>"
      ]
     },
     "metadata": {},
     "output_type": "display_data"
    },
    {
     "name": "stdout",
     "output_type": "stream",
     "text": [
      "Scott Pilgrim, Volume 2: Scott Pilgrim vs. The World de Bryan Lee O'Malley (2005).     Note moyenne: 4.24/5\n"
     ]
    },
    {
     "data": {
      "text/html": [
       "<img src=\"https://s.gr-assets.com/assets/nophoto/book/111x148-bcc042a9c91a29c1d680899eff700a03.png\" width=\"100\" height=\"100\"/>"
      ],
      "text/plain": [
       "<IPython.core.display.Image object>"
      ]
     },
     "metadata": {},
     "output_type": "display_data"
    },
    {
     "name": "stdout",
     "output_type": "stream",
     "text": [
      "Ghost World de Daniel Clowes (1998).     Note moyenne: 3.87/5\n"
     ]
    },
    {
     "data": {
      "text/html": [
       "<img src=\"https://images.gr-assets.com/books/1327894702m/62953.jpg\" width=\"100\" height=\"100\"/>"
      ],
      "text/plain": [
       "<IPython.core.display.Image object>"
      ]
     },
     "metadata": {},
     "output_type": "display_data"
    },
    {
     "name": "stdout",
     "output_type": "stream",
     "text": [
      "Kingdom Come de Mark Waid, Alex Ross, Elliot S. Maggin (1996).     Note moyenne: 4.24/5\n"
     ]
    },
    {
     "data": {
      "text/html": [
       "<img src=\"https://s.gr-assets.com/assets/nophoto/book/111x148-bcc042a9c91a29c1d680899eff700a03.png\" width=\"100\" height=\"100\"/>"
      ],
      "text/plain": [
       "<IPython.core.display.Image object>"
      ]
     },
     "metadata": {},
     "output_type": "display_data"
    },
    {
     "name": "stdout",
     "output_type": "stream",
     "text": [
      "Saga #1 de Brian K. Vaughan, Fiona Staples (2012).     Note moyenne: 4.15/5\n"
     ]
    },
    {
     "data": {
      "text/html": [
       "<img src=\"https://images.gr-assets.com/books/1358637990m/16148398.jpg\" width=\"100\" height=\"100\"/>"
      ],
      "text/plain": [
       "<IPython.core.display.Image object>"
      ]
     },
     "metadata": {},
     "output_type": "display_data"
    },
    {
     "name": "stdout",
     "output_type": "stream",
     "text": [
      "Smoke and Mirrors: Short Fiction and Illusions de Neil Gaiman (1998).     Note moyenne: 4.05/5\n"
     ]
    },
    {
     "data": {
      "text/html": [
       "<img src=\"https://images.gr-assets.com/books/1409595076m/16790.jpg\" width=\"100\" height=\"100\"/>"
      ],
      "text/plain": [
       "<IPython.core.display.Image object>"
      ]
     },
     "metadata": {},
     "output_type": "display_data"
    },
    {
     "name": "stdout",
     "output_type": "stream",
     "text": [
      "Faeries de Brian Froud, Alan Lee (1978).     Note moyenne: 3.89/5\n"
     ]
    },
    {
     "data": {
      "text/html": [
       "<img src=\"https://s.gr-assets.com/assets/nophoto/book/111x148-bcc042a9c91a29c1d680899eff700a03.png\" width=\"100\" height=\"100\"/>"
      ],
      "text/plain": [
       "<IPython.core.display.Image object>"
      ]
     },
     "metadata": {},
     "output_type": "display_data"
    },
    {
     "name": "stdout",
     "output_type": "stream",
     "text": [
      "Saga, Volume Two de Brian K. Vaughan, Fiona Staples (2013).     Note moyenne: 4.57/5\n"
     ]
    },
    {
     "data": {
      "text/html": [
       "<img src=\"https://images.gr-assets.com/books/1486028954m/17131869.jpg\" width=\"100\" height=\"100\"/>"
      ],
      "text/plain": [
       "<IPython.core.display.Image object>"
      ]
     },
     "metadata": {},
     "output_type": "display_data"
    },
    {
     "name": "stdout",
     "output_type": "stream",
     "text": [
      "Welcome to Lovecraft de Joe Hill, Gabriel Rodríguez (2008).     Note moyenne: 4.18/5\n"
     ]
    },
    {
     "data": {
      "text/html": [
       "<img src=\"https://images.gr-assets.com/books/1377304780m/3217221.jpg\" width=\"100\" height=\"100\"/>"
      ],
      "text/plain": [
       "<IPython.core.display.Image object>"
      ]
     },
     "metadata": {},
     "output_type": "display_data"
    },
    {
     "name": "stdout",
     "output_type": "stream",
     "text": [
      "The Sandman: Season of Mists de Neil Gaiman, Matt Wagner, George Pratt, Dick Giordano, Kelley Jones, P. Craig Russell, Mike Dringenberg, Malcolm Jones III, Todd Klein, Harlan Ellison (1990).     Note moyenne: 4.54/5\n"
     ]
    },
    {
     "data": {
      "text/html": [
       "<img src=\"https://images.gr-assets.com/books/1327937313m/25101.jpg\" width=\"100\" height=\"100\"/>"
      ],
      "text/plain": [
       "<IPython.core.display.Image object>"
      ]
     },
     "metadata": {},
     "output_type": "display_data"
    },
    {
     "name": "stdout",
     "output_type": "stream",
     "text": [
      "The Legend of Sleepy Hollow de Bo Hampton, Tracey Hampton, Washington Irving (1993).     Note moyenne: 3.96/5\n"
     ]
    },
    {
     "data": {
      "text/html": [
       "<img src=\"https://images.gr-assets.com/books/1171253283m/93263.jpg\" width=\"100\" height=\"100\"/>"
      ],
      "text/plain": [
       "<IPython.core.display.Image object>"
      ]
     },
     "metadata": {},
     "output_type": "display_data"
    },
    {
     "name": "stdout",
     "output_type": "stream",
     "text": [
      "nan de Marjane Satrapi (2000).     Note moyenne: 4.27/5\n"
     ]
    },
    {
     "data": {
      "text/html": [
       "<img src=\"https://images.gr-assets.com/books/1375777630m/9522.jpg\" width=\"100\" height=\"100\"/>"
      ],
      "text/plain": [
       "<IPython.core.display.Image object>"
      ]
     },
     "metadata": {},
     "output_type": "display_data"
    },
    {
     "name": "stdout",
     "output_type": "stream",
     "text": [
      "300 de Frank Miller, Lynn Varley (1998).     Note moyenne: 3.93/5\n"
     ]
    },
    {
     "data": {
      "text/html": [
       "<img src=\"https://images.gr-assets.com/books/1438711575m/59952.jpg\" width=\"100\" height=\"100\"/>"
      ],
      "text/plain": [
       "<IPython.core.display.Image object>"
      ]
     },
     "metadata": {},
     "output_type": "display_data"
    },
    {
     "name": "stdout",
     "output_type": "stream",
     "text": [
      "るろうに剣心 1 de Nobuhiro Watsuki, Kenichiro Yagi (1994).     Note moyenne: 4.33/5\n"
     ]
    },
    {
     "data": {
      "text/html": [
       "<img src=\"https://s.gr-assets.com/assets/nophoto/book/111x148-bcc042a9c91a29c1d680899eff700a03.png\" width=\"100\" height=\"100\"/>"
      ],
      "text/plain": [
       "<IPython.core.display.Image object>"
      ]
     },
     "metadata": {},
     "output_type": "display_data"
    },
    {
     "name": "stdout",
     "output_type": "stream",
     "text": [
      "Persepolis 2  de Marjane Satrapi, Anjali Singh (2001).     Note moyenne: 4.23/5\n"
     ]
    },
    {
     "data": {
      "text/html": [
       "<img src=\"https://images.gr-assets.com/books/1327865598m/9517.jpg\" width=\"100\" height=\"100\"/>"
      ],
      "text/plain": [
       "<IPython.core.display.Image object>"
      ]
     },
     "metadata": {},
     "output_type": "display_data"
    },
    {
     "name": "stdout",
     "output_type": "stream",
     "text": [
      "青の祓魔師 1 de Kazue Kato, John Werry (2009).     Note moyenne: 4.36/5\n"
     ]
    },
    {
     "data": {
      "text/html": [
       "<img src=\"https://images.gr-assets.com/books/1432642113m/9876989.jpg\" width=\"100\" height=\"100\"/>"
      ],
      "text/plain": [
       "<IPython.core.display.Image object>"
      ]
     },
     "metadata": {},
     "output_type": "display_data"
    },
    {
     "name": "stdout",
     "output_type": "stream",
     "text": [
      "The Picture of Dorian Gray: A Graphic Novel  de Ian Edginton, Oscar Wilde, I.N.J. Culbard (2009).     Note moyenne: 4.12/5\n"
     ]
    },
    {
     "data": {
      "text/html": [
       "<img src=\"https://images.gr-assets.com/books/1328766635m/3052106.jpg\" width=\"100\" height=\"100\"/>"
      ],
      "text/plain": [
       "<IPython.core.display.Image object>"
      ]
     },
     "metadata": {},
     "output_type": "display_data"
    },
    {
     "name": "stdout",
     "output_type": "stream",
     "text": [
      "Sin City Volume 1: The Hard Goodbye de Frank Miller (1992).     Note moyenne: 4.16/5\n"
     ]
    },
    {
     "data": {
      "text/html": [
       "<img src=\"https://images.gr-assets.com/books/1470924635m/392297.jpg\" width=\"100\" height=\"100\"/>"
      ],
      "text/plain": [
       "<IPython.core.display.Image object>"
      ]
     },
     "metadata": {},
     "output_type": "display_data"
    },
    {
     "name": "stdout",
     "output_type": "stream",
     "text": [
      "Marvel 1602 de Neil Gaiman, Andy Kubert, Richard Isanove, Peter Sanderson (2003).     Note moyenne: 3.93/5\n"
     ]
    },
    {
     "data": {
      "text/html": [
       "<img src=\"https://s.gr-assets.com/assets/nophoto/book/111x148-bcc042a9c91a29c1d680899eff700a03.png\" width=\"100\" height=\"100\"/>"
      ],
      "text/plain": [
       "<IPython.core.display.Image object>"
      ]
     },
     "metadata": {},
     "output_type": "display_data"
    },
    {
     "name": "stdout",
     "output_type": "stream",
     "text": [
      "All-Star Superman (Volume 1) de Grant Morrison, Frank Quitely (2007).     Note moyenne: 4.06/5\n"
     ]
    },
    {
     "data": {
      "text/html": [
       "<img src=\"https://s.gr-assets.com/assets/nophoto/book/111x148-bcc042a9c91a29c1d680899eff700a03.png\" width=\"100\" height=\"100\"/>"
      ],
      "text/plain": [
       "<IPython.core.display.Image object>"
      ]
     },
     "metadata": {},
     "output_type": "display_data"
    },
    {
     "name": "stdout",
     "output_type": "stream",
     "text": [
      "ソウルイーター 1 de Atsushi Ohkubo (2004).     Note moyenne: 4.3/5\n"
     ]
    },
    {
     "data": {
      "text/html": [
       "<img src=\"https://images.gr-assets.com/books/1443900841m/6406018.jpg\" width=\"100\" height=\"100\"/>"
      ],
      "text/plain": [
       "<IPython.core.display.Image object>"
      ]
     },
     "metadata": {},
     "output_type": "display_data"
    },
    {
     "name": "stdout",
     "output_type": "stream",
     "text": [
      "American Born Chinese de Gene Luen Yang (2006).     Note moyenne: 3.88/5\n"
     ]
    },
    {
     "data": {
      "text/html": [
       "<img src=\"https://images.gr-assets.com/books/1317066615m/118944.jpg\" width=\"100\" height=\"100\"/>"
      ],
      "text/plain": [
       "<IPython.core.display.Image object>"
      ]
     },
     "metadata": {},
     "output_type": "display_data"
    },
    {
     "name": "stdout",
     "output_type": "stream",
     "text": [
      "Peter Pan (Little Golden Book) de Eugene Bradley Coco, Ron Dias, Walt Disney Company (1960).     Note moyenne: 4.32/5\n"
     ]
    },
    {
     "data": {
      "text/html": [
       "<img src=\"https://s.gr-assets.com/assets/nophoto/book/111x148-bcc042a9c91a29c1d680899eff700a03.png\" width=\"100\" height=\"100\"/>"
      ],
      "text/plain": [
       "<IPython.core.display.Image object>"
      ]
     },
     "metadata": {},
     "output_type": "display_data"
    },
    {
     "name": "stdout",
     "output_type": "stream",
     "text": [
      "Wonderstruck de Brian Selznick (2011).     Note moyenne: 4.16/5\n"
     ]
    },
    {
     "data": {
      "text/html": [
       "<img src=\"https://images.gr-assets.com/books/1327885739m/10128428.jpg\" width=\"100\" height=\"100\"/>"
      ],
      "text/plain": [
       "<IPython.core.display.Image object>"
      ]
     },
     "metadata": {},
     "output_type": "display_data"
    },
    {
     "name": "stdout",
     "output_type": "stream",
     "text": [
      "会長はメイド様! 1 de Hiro Fujiwara (2006).     Note moyenne: 4.4/5\n"
     ]
    },
    {
     "data": {
      "text/html": [
       "<img src=\"https://s.gr-assets.com/assets/nophoto/book/111x148-bcc042a9c91a29c1d680899eff700a03.png\" width=\"100\" height=\"100\"/>"
      ],
      "text/plain": [
       "<IPython.core.display.Image object>"
      ]
     },
     "metadata": {},
     "output_type": "display_data"
    },
    {
     "name": "stdout",
     "output_type": "stream",
     "text": [
      "Griffin & Sabine: An Extraordinary Correspondence de Nick Bantock (1991).     Note moyenne: 4.01/5\n"
     ]
    },
    {
     "data": {
      "text/html": [
       "<img src=\"https://images.gr-assets.com/books/1356716196m/381102.jpg\" width=\"100\" height=\"100\"/>"
      ],
      "text/plain": [
       "<IPython.core.display.Image object>"
      ]
     },
     "metadata": {},
     "output_type": "display_data"
    },
    {
     "name": "stdout",
     "output_type": "stream",
     "text": [
      "nan de Christopher Yost, Orson Scott Card, Pasqual Ferry, Frank D'Armata (2009).     Note moyenne: 4.37/5\n"
     ]
    },
    {
     "data": {
      "text/html": [
       "<img src=\"https://s.gr-assets.com/assets/nophoto/book/111x148-bcc042a9c91a29c1d680899eff700a03.png\" width=\"100\" height=\"100\"/>"
      ],
      "text/plain": [
       "<IPython.core.display.Image object>"
      ]
     },
     "metadata": {},
     "output_type": "display_data"
    },
    {
     "name": "stdout",
     "output_type": "stream",
     "text": [
      "君に届け 1 de Karuho Shiina, Tomo Kimura (2006).     Note moyenne: 4.23/5\n"
     ]
    },
    {
     "data": {
      "text/html": [
       "<img src=\"https://s.gr-assets.com/assets/nophoto/book/111x148-bcc042a9c91a29c1d680899eff700a03.png\" width=\"100\" height=\"100\"/>"
      ],
      "text/plain": [
       "<IPython.core.display.Image object>"
      ]
     },
     "metadata": {},
     "output_type": "display_data"
    },
    {
     "name": "stdout",
     "output_type": "stream",
     "text": [
      "Superman: Red Son de Mark Millar, Kilian Plunkett, Andrew Robinson, Walden Wong, Dave Johnson (2003).     Note moyenne: 4.17/5\n"
     ]
    },
    {
     "data": {
      "text/html": [
       "<img src=\"https://images.gr-assets.com/books/1298557533m/154798.jpg\" width=\"100\" height=\"100\"/>"
      ],
      "text/plain": [
       "<IPython.core.display.Image object>"
      ]
     },
     "metadata": {},
     "output_type": "display_data"
    },
    {
     "name": "stdout",
     "output_type": "stream",
     "text": [
      "Nimona de Noelle Stevenson (2015).     Note moyenne: 4.2/5\n"
     ]
    },
    {
     "data": {
      "text/html": [
       "<img src=\"https://images.gr-assets.com/books/1412626919m/19351043.jpg\" width=\"100\" height=\"100\"/>"
      ],
      "text/plain": [
       "<IPython.core.display.Image object>"
      ]
     },
     "metadata": {},
     "output_type": "display_data"
    },
    {
     "name": "stdout",
     "output_type": "stream",
     "text": [
      "ツバサ-RESERVoir CHRoNiCLE- 1 de CLAMP, Anthony Gerard (2004).     Note moyenne: 4.12/5\n"
     ]
    },
    {
     "data": {
      "text/html": [
       "<img src=\"https://s.gr-assets.com/assets/nophoto/book/111x148-bcc042a9c91a29c1d680899eff700a03.png\" width=\"100\" height=\"100\"/>"
      ],
      "text/plain": [
       "<IPython.core.display.Image object>"
      ]
     },
     "metadata": {},
     "output_type": "display_data"
    },
    {
     "name": "stdout",
     "output_type": "stream",
     "text": [
      "Saga, Volume Three de Brian K. Vaughan, Fiona Staples (2014).     Note moyenne: 4.56/5\n"
     ]
    },
    {
     "data": {
      "text/html": [
       "<img src=\"https://images.gr-assets.com/books/1486028973m/19358975.jpg\" width=\"100\" height=\"100\"/>"
      ],
      "text/plain": [
       "<IPython.core.display.Image object>"
      ]
     },
     "metadata": {},
     "output_type": "display_data"
    },
    {
     "name": "stdout",
     "output_type": "stream",
     "text": [
      "Transmetropolitan, Vol. 1: Back on the Street de Warren Ellis, Darick Robertston, Garth Ennis (1998).     Note moyenne: 4.23/5\n"
     ]
    },
    {
     "data": {
      "text/html": [
       "<img src=\"https://images.gr-assets.com/books/1320606005m/22416.jpg\" width=\"100\" height=\"100\"/>"
      ],
      "text/plain": [
       "<IPython.core.display.Image object>"
      ]
     },
     "metadata": {},
     "output_type": "display_data"
    },
    {
     "name": "stdout",
     "output_type": "stream",
     "text": [
      "Anya's Ghost de Vera Brosgol (2011).     Note moyenne: 3.88/5\n"
     ]
    },
    {
     "data": {
      "text/html": [
       "<img src=\"https://images.gr-assets.com/books/1316739317m/9615347.jpg\" width=\"100\" height=\"100\"/>"
      ],
      "text/plain": [
       "<IPython.core.display.Image object>"
      ]
     },
     "metadata": {},
     "output_type": "display_data"
    },
    {
     "name": "stdout",
     "output_type": "stream",
     "text": [
      "Kick-Ass de Mark Millar, John Romita Jr., Rob Liefeld (2010).     Note moyenne: 4.04/5\n"
     ]
    },
    {
     "data": {
      "text/html": [
       "<img src=\"https://images.gr-assets.com/books/1343964935m/3918010.jpg\" width=\"100\" height=\"100\"/>"
      ],
      "text/plain": [
       "<IPython.core.display.Image object>"
      ]
     },
     "metadata": {},
     "output_type": "display_data"
    },
    {
     "name": "stdout",
     "output_type": "stream",
     "text": [
      "ちょびっツ #1 de CLAMP, Shirley Kubo (2001).     Note moyenne: 4.05/5\n"
     ]
    },
    {
     "data": {
      "text/html": [
       "<img src=\"https://images.gr-assets.com/books/1487723428m/667985.jpg\" width=\"100\" height=\"100\"/>"
      ],
      "text/plain": [
       "<IPython.core.display.Image object>"
      ]
     },
     "metadata": {},
     "output_type": "display_data"
    },
    {
     "name": "stdout",
     "output_type": "stream",
     "text": [
      "The Gashlycrumb Tinies de Edward Gorey (1963).     Note moyenne: 4.23/5\n"
     ]
    },
    {
     "data": {
      "text/html": [
       "<img src=\"https://images.gr-assets.com/books/1327933644m/47558.jpg\" width=\"100\" height=\"100\"/>"
      ],
      "text/plain": [
       "<IPython.core.display.Image object>"
      ]
     },
     "metadata": {},
     "output_type": "display_data"
    },
    {
     "name": "stdout",
     "output_type": "stream",
     "text": [
      "美少女戦士セーラームーン 1 [Bishōjo Senshi Sailor Moon 1] de Naoko Takeuchi (1992).     Note moyenne: 4.29/5\n"
     ]
    },
    {
     "data": {
      "text/html": [
       "<img src=\"https://images.gr-assets.com/books/1327981776m/500503.jpg\" width=\"100\" height=\"100\"/>"
      ],
      "text/plain": [
       "<IPython.core.display.Image object>"
      ]
     },
     "metadata": {},
     "output_type": "display_data"
    },
    {
     "name": "stdout",
     "output_type": "stream",
     "text": [
      "Drama de Raina Telgemeier, Gurihiru (2012).     Note moyenne: 4.14/5\n"
     ]
    },
    {
     "data": {
      "text/html": [
       "<img src=\"https://images.gr-assets.com/books/1330157763m/13436373.jpg\" width=\"100\" height=\"100\"/>"
      ],
      "text/plain": [
       "<IPython.core.display.Image object>"
      ]
     },
     "metadata": {},
     "output_type": "display_data"
    },
    {
     "name": "stdout",
     "output_type": "stream",
     "text": [
      "The Sandman: A Game of You de Neil Gaiman, Shawn McManus, Colleen Doran, Bryan Talbot, George Pratt, Stan Woch, Dick Giordano, Todd Klein (1993).     Note moyenne: 4.43/5\n"
     ]
    },
    {
     "data": {
      "text/html": [
       "<img src=\"https://images.gr-assets.com/books/1312279891m/25102.jpg\" width=\"100\" height=\"100\"/>"
      ],
      "text/plain": [
       "<IPython.core.display.Image object>"
      ]
     },
     "metadata": {},
     "output_type": "display_data"
    },
    {
     "name": "stdout",
     "output_type": "stream",
     "text": [
      "nan de Margaret Weis, Tracy Hickman (1985).     Note moyenne: 4.13/5\n"
     ]
    },
    {
     "data": {
      "text/html": [
       "<img src=\"https://s.gr-assets.com/assets/nophoto/book/111x148-bcc042a9c91a29c1d680899eff700a03.png\" width=\"100\" height=\"100\"/>"
      ],
      "text/plain": [
       "<IPython.core.display.Image object>"
      ]
     },
     "metadata": {},
     "output_type": "display_data"
    },
    {
     "name": "stdout",
     "output_type": "stream",
     "text": [
      "Hard Luck de Jeff Kinney (2013).     Note moyenne: 4.28/5\n"
     ]
    },
    {
     "data": {
      "text/html": [
       "<img src=\"https://images.gr-assets.com/books/1376473492m/17733898.jpg\" width=\"100\" height=\"100\"/>"
      ],
      "text/plain": [
       "<IPython.core.display.Image object>"
      ]
     },
     "metadata": {},
     "output_type": "display_data"
    },
    {
     "name": "stdout",
     "output_type": "stream",
     "text": [
      "Death: the High Cost of Living de Neil Gaiman, Chris Bachalo, Mark Buckingham, Tori Amos (1993).     Note moyenne: 4.21/5\n"
     ]
    },
    {
     "data": {
      "text/html": [
       "<img src=\"https://images.gr-assets.com/books/1366407293m/16791.jpg\" width=\"100\" height=\"100\"/>"
      ],
      "text/plain": [
       "<IPython.core.display.Image object>"
      ]
     },
     "metadata": {},
     "output_type": "display_data"
    },
    {
     "name": "stdout",
     "output_type": "stream",
     "text": [
      "Twilight: The Graphic Novel de Young Kim, Stephenie Meyer (2010).     Note moyenne: 3.74/5\n"
     ]
    },
    {
     "data": {
      "text/html": [
       "<img src=\"https://images.gr-assets.com/books/1317294278m/7619292.jpg\" width=\"100\" height=\"100\"/>"
      ],
      "text/plain": [
       "<IPython.core.display.Image object>"
      ]
     },
     "metadata": {},
     "output_type": "display_data"
    },
    {
     "name": "stdout",
     "output_type": "stream",
     "text": [
      "The Sandman: Brief Lives de Neil Gaiman, Jill Thompson, Vince Locke, Peter Straub (1994).     Note moyenne: 4.55/5\n"
     ]
    },
    {
     "data": {
      "text/html": [
       "<img src=\"https://images.gr-assets.com/books/1339922078m/25105.jpg\" width=\"100\" height=\"100\"/>"
      ],
      "text/plain": [
       "<IPython.core.display.Image object>"
      ]
     },
     "metadata": {},
     "output_type": "display_data"
    },
    {
     "name": "stdout",
     "output_type": "stream",
     "text": [
      "The Sandman: Fables and Reflections de Neil Gaiman, Bryan Talbot, Stan Woch, P. Craig Russell, Shawn McManus, John Watkiss, Jill Thompson, Duncan Eagleson, Kent Williams, Todd Klein (1990).     Note moyenne: 4.45/5\n"
     ]
    },
    {
     "data": {
      "text/html": [
       "<img src=\"https://images.gr-assets.com/books/1311961999m/25106.jpg\" width=\"100\" height=\"100\"/>"
      ],
      "text/plain": [
       "<IPython.core.display.Image object>"
      ]
     },
     "metadata": {},
     "output_type": "display_data"
    },
    {
     "name": "stdout",
     "output_type": "stream",
     "text": [
      "孫悟空と仲間たち de Akira Toriyama (1985).     Note moyenne: 4.42/5\n"
     ]
    },
    {
     "data": {
      "text/html": [
       "<img src=\"https://images.gr-assets.com/books/1442541694m/969275.jpg\" width=\"100\" height=\"100\"/>"
      ],
      "text/plain": [
       "<IPython.core.display.Image object>"
      ]
     },
     "metadata": {},
     "output_type": "display_data"
    },
    {
     "name": "stdout",
     "output_type": "stream",
     "text": [
      "Tales from a Not-So-Fabulous Life de Rachel Renée Russell (2009).     Note moyenne: 4.16/5\n"
     ]
    },
    {
     "data": {
      "text/html": [
       "<img src=\"https://images.gr-assets.com/books/1370064528m/6054449.jpg\" width=\"100\" height=\"100\"/>"
      ],
      "text/plain": [
       "<IPython.core.display.Image object>"
      ]
     },
     "metadata": {},
     "output_type": "display_data"
    },
    {
     "name": "stdout",
     "output_type": "stream",
     "text": [
      "Saga, Volume Four de Brian K. Vaughan, Fiona Staples (2014).     Note moyenne: 4.47/5\n"
     ]
    },
    {
     "data": {
      "text/html": [
       "<img src=\"https://images.gr-assets.com/books/1486028981m/23093367.jpg\" width=\"100\" height=\"100\"/>"
      ],
      "text/plain": [
       "<IPython.core.display.Image object>"
      ]
     },
     "metadata": {},
     "output_type": "display_data"
    },
    {
     "name": "stdout",
     "output_type": "stream",
     "text": [
      "Good Faeries, Bad Faeries de Brian Froud, Terry Windling (1998).     Note moyenne: 3.88/5\n"
     ]
    },
    {
     "data": {
      "text/html": [
       "<img src=\"https://s.gr-assets.com/assets/nophoto/book/111x148-bcc042a9c91a29c1d680899eff700a03.png\" width=\"100\" height=\"100\"/>"
      ],
      "text/plain": [
       "<IPython.core.display.Image object>"
      ]
     },
     "metadata": {},
     "output_type": "display_data"
    },
    {
     "name": "stdout",
     "output_type": "stream",
     "text": [
      "Cycle of the Werewolf de Stephen King, Bernie Wrightson (1983).     Note moyenne: 3.62/5\n"
     ]
    },
    {
     "data": {
      "text/html": [
       "<img src=\"https://s.gr-assets.com/assets/nophoto/book/111x148-bcc042a9c91a29c1d680899eff700a03.png\" width=\"100\" height=\"100\"/>"
      ],
      "text/plain": [
       "<IPython.core.display.Image object>"
      ]
     },
     "metadata": {},
     "output_type": "display_data"
    },
    {
     "name": "stdout",
     "output_type": "stream",
     "text": [
      "Tales from a Not-So-Popular Party Girl de Rachel Renée Russell (2010).     Note moyenne: 4.28/5\n"
     ]
    },
    {
     "data": {
      "text/html": [
       "<img src=\"https://images.gr-assets.com/books/1370064608m/8274537.jpg\" width=\"100\" height=\"100\"/>"
      ],
      "text/plain": [
       "<IPython.core.display.Image object>"
      ]
     },
     "metadata": {},
     "output_type": "display_data"
    },
    {
     "name": "stdout",
     "output_type": "stream",
     "text": [
      "The Arrival de Shaun Tan (2006).     Note moyenne: 4.33/5\n"
     ]
    },
    {
     "data": {
      "text/html": [
       "<img src=\"https://images.gr-assets.com/books/1312827620m/920607.jpg\" width=\"100\" height=\"100\"/>"
      ],
      "text/plain": [
       "<IPython.core.display.Image object>"
      ]
     },
     "metadata": {},
     "output_type": "display_data"
    },
    {
     "name": "stdout",
     "output_type": "stream",
     "text": [
      "NARUTO -ナルト- 巻ノ四十三  de Masashi Kishimoto (2008).     Note moyenne: 4.57/5\n"
     ]
    },
    {
     "data": {
      "text/html": [
       "<img src=\"https://s.gr-assets.com/assets/nophoto/book/111x148-bcc042a9c91a29c1d680899eff700a03.png\" width=\"100\" height=\"100\"/>"
      ],
      "text/plain": [
       "<IPython.core.display.Image object>"
      ]
     },
     "metadata": {},
     "output_type": "display_data"
    },
    {
     "name": "stdout",
     "output_type": "stream",
     "text": [
      "A Game of Thrones - The Graphic Novel Volume 1 de Daniel Abraham, George R.R. Martin, Tommy Patterson (2011).     Note moyenne: 4.48/5\n"
     ]
    },
    {
     "data": {
      "text/html": [
       "<img src=\"https://images.gr-assets.com/books/1369052110m/12962439.jpg\" width=\"100\" height=\"100\"/>"
      ],
      "text/plain": [
       "<IPython.core.display.Image object>"
      ]
     },
     "metadata": {},
     "output_type": "display_data"
    },
    {
     "name": "stdout",
     "output_type": "stream",
     "text": [
      "花ざかりの君たちへ 1 de Hisaya Nakajo, David Ury (1997).     Note moyenne: 4.16/5\n"
     ]
    },
    {
     "data": {
      "text/html": [
       "<img src=\"https://s.gr-assets.com/assets/nophoto/book/111x148-bcc042a9c91a29c1d680899eff700a03.png\" width=\"100\" height=\"100\"/>"
      ],
      "text/plain": [
       "<IPython.core.display.Image object>"
      ]
     },
     "metadata": {},
     "output_type": "display_data"
    },
    {
     "name": "stdout",
     "output_type": "stream",
     "text": [
      "nan de Emily Carroll (2014).     Note moyenne: 3.92/5\n"
     ]
    },
    {
     "data": {
      "text/html": [
       "<img src=\"https://images.gr-assets.com/books/1414845473m/18659623.jpg\" width=\"100\" height=\"100\"/>"
      ],
      "text/plain": [
       "<IPython.core.display.Image object>"
      ]
     },
     "metadata": {},
     "output_type": "display_data"
    },
    {
     "name": "stdout",
     "output_type": "stream",
     "text": [
      "The Sandman: The Kindly Ones de Neil Gaiman, Marc Hempel, Richard Case, D'Israeli, Teddy Kristiansen, Glyn Dillon, Charles Vess, Dean Ormston, Kevin Nowlan, Todd Klein, Frank McConnell (1996).     Note moyenne: 4.59/5\n"
     ]
    },
    {
     "data": {
      "text/html": [
       "<img src=\"https://images.gr-assets.com/books/1339922887m/71252.jpg\" width=\"100\" height=\"100\"/>"
      ],
      "text/plain": [
       "<IPython.core.display.Image object>"
      ]
     },
     "metadata": {},
     "output_type": "display_data"
    },
    {
     "name": "stdout",
     "output_type": "stream",
     "text": [
      "The Sandman: Worlds' End de Neil Gaiman, Mike Allred, Gary Amaro, Mark Buckingham, David Giordano, Tony Harris, Steve Leialoha, Vince Locke, Shea Anton Pensa, Alec Stevens, Bryan Talbot, John Watkiss, Todd Klein, Michael Zulli, Stephen King (1995).     Note moyenne: 4.48/5\n"
     ]
    },
    {
     "data": {
      "text/html": [
       "<img src=\"https://images.gr-assets.com/books/1339922260m/25103.jpg\" width=\"100\" height=\"100\"/>"
      ],
      "text/plain": [
       "<IPython.core.display.Image object>"
      ]
     },
     "metadata": {},
     "output_type": "display_data"
    },
    {
     "name": "stdout",
     "output_type": "stream",
     "text": [
      "Ms. Marvel, Vol. 1: No Normal de G. Willow Wilson, Adrian Alphona (2014).     Note moyenne: 4.13/5\n"
     ]
    },
    {
     "data": {
      "text/html": [
       "<img src=\"https://images.gr-assets.com/books/1413031883m/20898019.jpg\" width=\"100\" height=\"100\"/>"
      ],
      "text/plain": [
       "<IPython.core.display.Image object>"
      ]
     },
     "metadata": {},
     "output_type": "display_data"
    },
    {
     "name": "stdout",
     "output_type": "stream",
     "text": [
      "The Stonekeeper de Kazu Kibuishi (2008).     Note moyenne: 4.15/5\n"
     ]
    },
    {
     "data": {
      "text/html": [
       "<img src=\"https://images.gr-assets.com/books/1327866356m/1238684.jpg\" width=\"100\" height=\"100\"/>"
      ],
      "text/plain": [
       "<IPython.core.display.Image object>"
      ]
     },
     "metadata": {},
     "output_type": "display_data"
    },
    {
     "name": "stdout",
     "output_type": "stream",
     "text": [
      "Flora and Ulysses: The Illuminated Adventures de Kate DiCamillo, K.G. Campbell (2013).     Note moyenne: 3.87/5\n"
     ]
    },
    {
     "data": {
      "text/html": [
       "<img src=\"https://images.gr-assets.com/books/1424980670m/16052012.jpg\" width=\"100\" height=\"100\"/>"
      ],
      "text/plain": [
       "<IPython.core.display.Image object>"
      ]
     },
     "metadata": {},
     "output_type": "display_data"
    },
    {
     "ename": "ValueError",
     "evalue": "cannot convert float NaN to integer",
     "output_type": "error",
     "traceback": [
      "\u001b[0;31m---------------------------------------------------------------------------\u001b[0m",
      "\u001b[0;31mValueError\u001b[0m                                Traceback (most recent call last)",
      "\u001b[0;32m<ipython-input-8-65e9294cd675>\u001b[0m in \u001b[0;36m<module>\u001b[0;34m()\u001b[0m\n\u001b[1;32m      1\u001b[0m \u001b[0;31m# On teste la fonction\u001b[0m\u001b[0;34m\u001b[0m\u001b[0;34m\u001b[0m\u001b[0m\n\u001b[1;32m      2\u001b[0m \u001b[0mlivresMontres\u001b[0m \u001b[0;34m=\u001b[0m \u001b[0mlivres\u001b[0m\u001b[0;34m.\u001b[0m\u001b[0mloc\u001b[0m\u001b[0;34m[\u001b[0m\u001b[0mlivres\u001b[0m\u001b[0;34m[\u001b[0m\u001b[0;34m'tag_name'\u001b[0m\u001b[0;34m]\u001b[0m\u001b[0;34m.\u001b[0m\u001b[0misin\u001b[0m\u001b[0;34m(\u001b[0m\u001b[0;34m[\u001b[0m\u001b[0;34m'comics'\u001b[0m\u001b[0;34m]\u001b[0m\u001b[0;34m)\u001b[0m\u001b[0;34m]\u001b[0m\u001b[0;34m\u001b[0m\u001b[0m\n\u001b[0;32m----> 3\u001b[0;31m \u001b[0mshow_books\u001b[0m\u001b[0;34m(\u001b[0m\u001b[0mlivresMontres\u001b[0m\u001b[0;34m)\u001b[0m \u001b[0;31m# Elle prend en entrée un dataFrame avec les livres que nous souhaitons afficher\u001b[0m\u001b[0;34m\u001b[0m\u001b[0m\n\u001b[0m",
      "\u001b[0;32m~/Documents/LIVRIA/Python Livria/ui.py\u001b[0m in \u001b[0;36mshow_books\u001b[0;34m(books)\u001b[0m\n\u001b[1;32m     89\u001b[0m     \u001b[0mprint\u001b[0m\u001b[0;34m(\u001b[0m\u001b[0;34m'                   Liste des livres qui pourraient vous plaire\\n               ===================================================\\n'\u001b[0m\u001b[0;34m)\u001b[0m\u001b[0;34m\u001b[0m\u001b[0m\n\u001b[1;32m     90\u001b[0m     \u001b[0;32mfor\u001b[0m \u001b[0mrow\u001b[0m \u001b[0;32min\u001b[0m \u001b[0mbooks\u001b[0m\u001b[0;34m.\u001b[0m\u001b[0mitertuples\u001b[0m\u001b[0;34m(\u001b[0m\u001b[0;34m)\u001b[0m\u001b[0;34m:\u001b[0m\u001b[0;34m\u001b[0m\u001b[0m\n\u001b[0;32m---> 91\u001b[0;31m         \u001b[0mprint\u001b[0m\u001b[0;34m(\u001b[0m\u001b[0;34m'{} de {} ({}).     Note moyenne: {}/5'\u001b[0m\u001b[0;34m.\u001b[0m\u001b[0mformat\u001b[0m\u001b[0;34m(\u001b[0m\u001b[0mstr\u001b[0m\u001b[0;34m(\u001b[0m\u001b[0mrow\u001b[0m\u001b[0;34m[\u001b[0m\u001b[0;36m5\u001b[0m\u001b[0;34m]\u001b[0m\u001b[0;34m)\u001b[0m\u001b[0;34m,\u001b[0m\u001b[0mstr\u001b[0m\u001b[0;34m(\u001b[0m\u001b[0mrow\u001b[0m\u001b[0;34m[\u001b[0m\u001b[0;36m3\u001b[0m\u001b[0;34m]\u001b[0m\u001b[0;34m)\u001b[0m\u001b[0;34m,\u001b[0m\u001b[0mint\u001b[0m\u001b[0;34m(\u001b[0m\u001b[0mrow\u001b[0m\u001b[0;34m[\u001b[0m\u001b[0;36m4\u001b[0m\u001b[0;34m]\u001b[0m\u001b[0;34m)\u001b[0m\u001b[0;34m,\u001b[0m\u001b[0mstr\u001b[0m\u001b[0;34m(\u001b[0m\u001b[0mrow\u001b[0m\u001b[0;34m[\u001b[0m\u001b[0;36m6\u001b[0m\u001b[0;34m]\u001b[0m\u001b[0;34m)\u001b[0m\u001b[0;34m)\u001b[0m\u001b[0;34m)\u001b[0m\u001b[0;34m\u001b[0m\u001b[0m\n\u001b[0m\u001b[1;32m     92\u001b[0m         \u001b[0mdisplay\u001b[0m\u001b[0;34m(\u001b[0m\u001b[0mImage\u001b[0m\u001b[0;34m(\u001b[0m\u001b[0murl\u001b[0m\u001b[0;34m=\u001b[0m \u001b[0mstr\u001b[0m\u001b[0;34m(\u001b[0m\u001b[0mrow\u001b[0m\u001b[0;34m[\u001b[0m\u001b[0;36m7\u001b[0m\u001b[0;34m]\u001b[0m\u001b[0;34m)\u001b[0m\u001b[0;34m,\u001b[0m \u001b[0mwidth\u001b[0m\u001b[0;34m=\u001b[0m\u001b[0;36m100\u001b[0m\u001b[0;34m,\u001b[0m \u001b[0mheight\u001b[0m\u001b[0;34m=\u001b[0m\u001b[0;36m100\u001b[0m\u001b[0;34m)\u001b[0m\u001b[0;34m)\u001b[0m\u001b[0;34m\u001b[0m\u001b[0m\n\u001b[1;32m     93\u001b[0m \u001b[0;34m\u001b[0m\u001b[0m\n",
      "\u001b[0;31mValueError\u001b[0m: cannot convert float NaN to integer"
     ]
    }
   ],
   "source": [
    "# On teste la fonction\n",
    "livresMontres = livres.loc[livres['tag_name'].isin(['comics'])]\n",
    "show_books(livresMontres) # Elle prend en entrée un dataFrame avec les livres que nous souhaitons afficher"
   ]
  },
  {
   "cell_type": "markdown",
   "metadata": {},
   "source": [
    "## Préparation et entrainement des données pour la prédiction de thèmes"
   ]
  },
  {
   "cell_type": "code",
   "execution_count": null,
   "metadata": {},
   "outputs": [],
   "source": []
  },
  {
   "cell_type": "markdown",
   "metadata": {},
   "source": [
    "# Recommandations"
   ]
  },
  {
   "cell_type": "markdown",
   "metadata": {},
   "source": [
    "## A l'entrée de l'application "
   ]
  },
  {
   "cell_type": "code",
   "execution_count": null,
   "metadata": {},
   "outputs": [],
   "source": [
    "\n",
    "    \n",
    "    "
   ]
  },
  {
   "cell_type": "markdown",
   "metadata": {},
   "source": [
    "Veuillez répondre au questions ci-dessous :"
   ]
  },
  {
   "cell_type": "code",
   "execution_count": null,
   "metadata": {},
   "outputs": [],
   "source": [
    "questions()"
   ]
  },
  {
   "cell_type": "code",
   "execution_count": null,
   "metadata": {},
   "outputs": [],
   "source": []
  },
  {
   "cell_type": "code",
   "execution_count": null,
   "metadata": {},
   "outputs": [],
   "source": [
    "def get_recommendations(name,sim):\n",
    "   # indx=df_book_new.loc[df_book_new['title']==name].index\n",
    "    indx=book_indices[name]\n",
    "    sim_scores=list(enumerate(sim[indx]))\n",
    "    new=sorted(sim_scores,key=lambda x: x[1],reverse=True)\n",
    "   \n",
    "    new=new[1:11]\n",
    "    #print(new)\n",
    "    book_idx=[x[0] for x in new]\n",
    "    return (df_book_new['title'].iloc[book_idx])"
   ]
  },
  {
   "cell_type": "code",
   "execution_count": null,
   "metadata": {},
   "outputs": [],
   "source": [
    "sel_m_attentes.value.info()"
   ]
  },
  {
   "cell_type": "code",
   "execution_count": null,
   "metadata": {},
   "outputs": [],
   "source": [
    "book = books.query(\"book_id == 11\")\n",
    "Image(url= book['image_url'], width=100, height=100)"
   ]
  },
  {
   "cell_type": "code",
   "execution_count": null,
   "metadata": {},
   "outputs": [],
   "source": []
  },
  {
   "cell_type": "code",
   "execution_count": null,
   "metadata": {},
   "outputs": [],
   "source": [
    "total = 0\n",
    "\n",
    "def doA():\n",
    "    # not accessing global total\n",
    "    total = 10\n",
    "\n",
    "def doB():\n",
    "    global total\n",
    "    total = total + 1\n",
    "\n",
    "def checkTotal():\n",
    "    # global total - not required as global is required\n",
    "    # only for assignment - thanks for comment Greg\n",
    "    print (total)"
   ]
  },
  {
   "cell_type": "code",
   "execution_count": null,
   "metadata": {},
   "outputs": [],
   "source": [
    "doA()\n",
    "doB()\n",
    "checkTotal()"
   ]
  },
  {
   "cell_type": "code",
   "execution_count": null,
   "metadata": {},
   "outputs": [],
   "source": [
    "def recommendation(user_id):\n",
    "    user = book.copy()\n",
    "    already_read = books_data[books_data['user_id'] == user_id]['book_id'].unique()\n",
    "    user = user.reset_index()\n",
    "    user = user[~user['book_id'].isin(already_read)]\n",
    "    user['Estimate_Score']=user['book_id'].apply(lambda x: algo.predict(user_id, x).est)\n",
    "    user = user.drop('book_id', axis = 1)\n",
    "    user = user.sort_values('Estimate_Score', ascending=False)\n",
    "    print(user.head(10))"
   ]
  },
  {
   "cell_type": "code",
   "execution_count": null,
   "metadata": {},
   "outputs": [],
   "source": []
  },
  {
   "cell_type": "code",
   "execution_count": null,
   "metadata": {},
   "outputs": [],
   "source": []
  }
 ],
 "metadata": {
  "kernelspec": {
   "display_name": "Python 3 (ML)",
   "language": "python",
   "name": "ml"
  },
  "language_info": {
   "codemirror_mode": {
    "name": "ipython",
    "version": 3
   },
   "file_extension": ".py",
   "mimetype": "text/x-python",
   "name": "python",
   "nbconvert_exporter": "python",
   "pygments_lexer": "ipython3",
   "version": "3.5.4"
  }
 },
 "nbformat": 4,
 "nbformat_minor": 2
}
