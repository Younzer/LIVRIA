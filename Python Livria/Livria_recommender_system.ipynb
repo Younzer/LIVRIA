{
 "cells": [
  {
   "cell_type": "markdown",
   "metadata": {},
   "source": [
    "# LIVRIA : Recommandation des thèmes et des livres \n",
    "\n",
    "C'est dans ce notebook -que l'on peut considérer comme le dernier - que mettons en lumières les recommendations de nos différents modèles"
   ]
  },
  {
   "cell_type": "markdown",
   "metadata": {},
   "source": [
    "### Import des librairies et des données"
   ]
  },
  {
   "cell_type": "code",
   "execution_count": 1,
   "metadata": {},
   "outputs": [],
   "source": [
    "# Librairies \n",
    "import numpy as np \n",
    "import pandas as pd\n",
    "import ipywidgets as wg\n",
    "from IPython.core.display import Image, display\n",
    "\n",
    "# Fichiers\n",
    "ratings = pd.read_csv('data/ratings.csv')\n",
    "books = pd.read_csv('data/books.csv')\n",
    "tags = pd.read_csv('data/tags.csv')\n",
    "btags = pd.read_csv('data/book_tags.csv')"
   ]
  },
  {
   "cell_type": "markdown",
   "metadata": {},
   "source": [
    "### Affichage des livres"
   ]
  },
  {
   "cell_type": "markdown",
   "metadata": {},
   "source": [
    "Ici, nous allons crée la fonction permettant d'afficher proprement les livres avec leur page de couverture, le titre l'auteur et la note moyenne. On commence par nettoyer le DataFrame des colonnes d'ont nous n'avons pas besoin ici."
   ]
  },
  {
   "cell_type": "code",
   "execution_count": 2,
   "metadata": {},
   "outputs": [
    {
     "data": {
      "text/html": [
       "<div>\n",
       "<style scoped>\n",
       "    .dataframe tbody tr th:only-of-type {\n",
       "        vertical-align: middle;\n",
       "    }\n",
       "\n",
       "    .dataframe tbody tr th {\n",
       "        vertical-align: top;\n",
       "    }\n",
       "\n",
       "    .dataframe thead th {\n",
       "        text-align: right;\n",
       "    }\n",
       "</style>\n",
       "<table border=\"1\" class=\"dataframe\">\n",
       "  <thead>\n",
       "    <tr style=\"text-align: right;\">\n",
       "      <th></th>\n",
       "      <th>book_id</th>\n",
       "      <th>authors</th>\n",
       "      <th>original_publication_year</th>\n",
       "      <th>original_title</th>\n",
       "      <th>average_rating</th>\n",
       "      <th>small_image_url</th>\n",
       "    </tr>\n",
       "  </thead>\n",
       "  <tbody>\n",
       "    <tr>\n",
       "      <th>0</th>\n",
       "      <td>1</td>\n",
       "      <td>Suzanne Collins</td>\n",
       "      <td>2008.0</td>\n",
       "      <td>The Hunger Games</td>\n",
       "      <td>4.34</td>\n",
       "      <td>https://images.gr-assets.com/books/1447303603s...</td>\n",
       "    </tr>\n",
       "    <tr>\n",
       "      <th>1</th>\n",
       "      <td>2</td>\n",
       "      <td>J.K. Rowling, Mary GrandPré</td>\n",
       "      <td>1997.0</td>\n",
       "      <td>Harry Potter and the Philosopher's Stone</td>\n",
       "      <td>4.44</td>\n",
       "      <td>https://images.gr-assets.com/books/1474154022s...</td>\n",
       "    </tr>\n",
       "    <tr>\n",
       "      <th>2</th>\n",
       "      <td>3</td>\n",
       "      <td>Stephenie Meyer</td>\n",
       "      <td>2005.0</td>\n",
       "      <td>Twilight</td>\n",
       "      <td>3.57</td>\n",
       "      <td>https://images.gr-assets.com/books/1361039443s...</td>\n",
       "    </tr>\n",
       "    <tr>\n",
       "      <th>3</th>\n",
       "      <td>4</td>\n",
       "      <td>Harper Lee</td>\n",
       "      <td>1960.0</td>\n",
       "      <td>To Kill a Mockingbird</td>\n",
       "      <td>4.25</td>\n",
       "      <td>https://images.gr-assets.com/books/1361975680s...</td>\n",
       "    </tr>\n",
       "    <tr>\n",
       "      <th>4</th>\n",
       "      <td>5</td>\n",
       "      <td>F. Scott Fitzgerald</td>\n",
       "      <td>1925.0</td>\n",
       "      <td>The Great Gatsby</td>\n",
       "      <td>3.89</td>\n",
       "      <td>https://images.gr-assets.com/books/1490528560s...</td>\n",
       "    </tr>\n",
       "  </tbody>\n",
       "</table>\n",
       "</div>"
      ],
      "text/plain": [
       "   book_id                      authors  original_publication_year  \\\n",
       "0        1              Suzanne Collins                     2008.0   \n",
       "1        2  J.K. Rowling, Mary GrandPré                     1997.0   \n",
       "2        3              Stephenie Meyer                     2005.0   \n",
       "3        4                   Harper Lee                     1960.0   \n",
       "4        5          F. Scott Fitzgerald                     1925.0   \n",
       "\n",
       "                             original_title  average_rating  \\\n",
       "0                          The Hunger Games            4.34   \n",
       "1  Harry Potter and the Philosopher's Stone            4.44   \n",
       "2                                  Twilight            3.57   \n",
       "3                     To Kill a Mockingbird            4.25   \n",
       "4                          The Great Gatsby            3.89   \n",
       "\n",
       "                                     small_image_url  \n",
       "0  https://images.gr-assets.com/books/1447303603s...  \n",
       "1  https://images.gr-assets.com/books/1474154022s...  \n",
       "2  https://images.gr-assets.com/books/1361039443s...  \n",
       "3  https://images.gr-assets.com/books/1361975680s...  \n",
       "4  https://images.gr-assets.com/books/1490528560s...  "
      ]
     },
     "execution_count": 2,
     "metadata": {},
     "output_type": "execute_result"
    }
   ],
   "source": [
    "books = books.drop(['goodreads_book_id','best_book_id', 'work_id','books_count','isbn','isbn13','title','language_code','work_ratings_count','work_text_reviews_count','ratings_count','ratings_1','ratings_2','ratings_3','ratings_4','ratings_5','image_url'], axis=1)\n",
    "books.head()"
   ]
  },
  {
   "cell_type": "markdown",
   "metadata": {},
   "source": [
    "On crée la fonction qui nous permettra d'afficher les livres :"
   ]
  },
  {
   "cell_type": "code",
   "execution_count": 4,
   "metadata": {},
   "outputs": [],
   "source": [
    "def show_books(books):    \n",
    "    print('                   Liste des livres qui pourraient vous plaire\\n               ===================================================\\n')\n",
    "    for row in books.itertuples():\n",
    "        print('{} de {} ({}).     Note moyenne: {}/5'.format(str(row[4]),str(row[2]),int(row[3]),str(row[5])))\n",
    "        display(Image(url= str(row[6]), width=100, height=100))"
   ]
  },
  {
   "cell_type": "code",
   "execution_count": 5,
   "metadata": {},
   "outputs": [
    {
     "name": "stdout",
     "output_type": "stream",
     "text": [
      "                   Liste des livres qui pourraient vous plaire\n",
      "               ===================================================\n",
      "\n",
      "The Hunger Games de Suzanne Collins (2008).     Note moyenne: 4.34/5\n"
     ]
    },
    {
     "data": {
      "text/html": [
       "<img src=\"https://images.gr-assets.com/books/1447303603s/2767052.jpg\" width=\"100\" height=\"100\"/>"
      ],
      "text/plain": [
       "<IPython.core.display.Image object>"
      ]
     },
     "metadata": {},
     "output_type": "display_data"
    },
    {
     "name": "stdout",
     "output_type": "stream",
     "text": [
      "To Kill a Mockingbird de Harper Lee (1960).     Note moyenne: 4.25/5\n"
     ]
    },
    {
     "data": {
      "text/html": [
       "<img src=\"https://images.gr-assets.com/books/1361975680s/2657.jpg\" width=\"100\" height=\"100\"/>"
      ],
      "text/plain": [
       "<IPython.core.display.Image object>"
      ]
     },
     "metadata": {},
     "output_type": "display_data"
    },
    {
     "name": "stdout",
     "output_type": "stream",
     "text": [
      "The Fault in Our Stars de John Green (2012).     Note moyenne: 4.26/5\n"
     ]
    },
    {
     "data": {
      "text/html": [
       "<img src=\"https://images.gr-assets.com/books/1360206420s/11870085.jpg\" width=\"100\" height=\"100\"/>"
      ],
      "text/plain": [
       "<IPython.core.display.Image object>"
      ]
     },
     "metadata": {},
     "output_type": "display_data"
    }
   ],
   "source": [
    "# On teste la fonction\n",
    "livresMontres = books.loc[books['book_id'].isin([1,6,4])]\n",
    "show_books(livresMontres) # Elle prend en entrée un dataFrame avec les livres que nous souhaitons afficher"
   ]
  },
  {
   "cell_type": "markdown",
   "metadata": {},
   "source": [
    "# Recommandations"
   ]
  },
  {
   "cell_type": "markdown",
   "metadata": {},
   "source": [
    "## A l'entrée de l'application "
   ]
  },
  {
   "cell_type": "markdown",
   "metadata": {},
   "source": [
    "Veuillez répondre au questions ci-dessous :"
   ]
  },
  {
   "cell_type": "code",
   "execution_count": null,
   "metadata": {},
   "outputs": [],
   "source": []
  },
  {
   "cell_type": "code",
   "execution_count": 7,
   "metadata": {},
   "outputs": [],
   "source": [
    "def get_recommendations(name,sim):\n",
    "   # indx=df_book_new.loc[df_book_new['title']==name].index\n",
    "    indx=book_indices[name]\n",
    "    sim_scores=list(enumerate(sim[indx]))\n",
    "    new=sorted(sim_scores,key=lambda x: x[1],reverse=True)\n",
    "   \n",
    "    new=new[1:11]\n",
    "    #print(new)\n",
    "    book_idx=[x[0] for x in new]\n",
    "    return (df_book_new['title'].iloc[book_idx])"
   ]
  },
  {
   "cell_type": "code",
   "execution_count": 13,
   "metadata": {},
   "outputs": [
    {
     "name": "stdout",
     "output_type": "stream",
     "text": [
      "<class 'pandas.core.frame.DataFrame'>\n",
      "RangeIndex: 10000 entries, 0 to 9999\n",
      "Data columns (total 7 columns):\n",
      "book_id                      10000 non-null int64\n",
      "authors                      10000 non-null object\n",
      "original_publication_year    9979 non-null float64\n",
      "original_title               9415 non-null object\n",
      "average_rating               10000 non-null float64\n",
      "ratings_count                10000 non-null int64\n",
      "small_image_url              10000 non-null object\n",
      "dtypes: float64(2), int64(2), object(3)\n",
      "memory usage: 547.0+ KB\n"
     ]
    }
   ],
   "source": [
    "books.info()"
   ]
  },
  {
   "cell_type": "code",
   "execution_count": null,
   "metadata": {},
   "outputs": [],
   "source": [
    "book = books.query(\"book_id == 11\")\n",
    "Image(url= book['image_url'], width=100, height=100)"
   ]
  },
  {
   "cell_type": "code",
   "execution_count": null,
   "metadata": {},
   "outputs": [],
   "source": []
  },
  {
   "cell_type": "code",
   "execution_count": null,
   "metadata": {},
   "outputs": [],
   "source": []
  },
  {
   "cell_type": "code",
   "execution_count": null,
   "metadata": {},
   "outputs": [],
   "source": []
  },
  {
   "cell_type": "code",
   "execution_count": null,
   "metadata": {},
   "outputs": [],
   "source": [
    "def recommendation(user_id):\n",
    "    user = book.copy()\n",
    "    already_read = books_data[books_data['user_id'] == user_id]['book_id'].unique()\n",
    "    user = user.reset_index()\n",
    "    user = user[~user['book_id'].isin(already_read)]\n",
    "    user['Estimate_Score']=user['book_id'].apply(lambda x: algo.predict(user_id, x).est)\n",
    "    user = user.drop('book_id', axis = 1)\n",
    "    user = user.sort_values('Estimate_Score', ascending=False)\n",
    "    print(user.head(10))"
   ]
  }
 ],
 "metadata": {
  "kernelspec": {
   "display_name": "Python 3 (ML)",
   "language": "python",
   "name": "ml"
  },
  "language_info": {
   "codemirror_mode": {
    "name": "ipython",
    "version": 3
   },
   "file_extension": ".py",
   "mimetype": "text/x-python",
   "name": "python",
   "nbconvert_exporter": "python",
   "pygments_lexer": "ipython3",
   "version": "3.5.4"
  }
 },
 "nbformat": 4,
 "nbformat_minor": 2
}
